{
 "cells": [
  {
   "cell_type": "code",
   "execution_count": 11,
   "id": "be909fbc-3b59-48dc-a378-15f553439999",
   "metadata": {
    "slideshow": {
     "slide_type": "skip"
    },
    "tags": []
   },
   "outputs": [],
   "source": [
    "import pandas as pd\n",
    "import numpy as np\n",
    "from skimpy import clean_columns\n",
    "import matplotlib.pyplot as plt\n",
    "import pylab as pl\n",
    "%matplotlib inline"
   ]
  },
  {
   "cell_type": "code",
   "execution_count": 12,
   "id": "29bdc106-394d-441c-b9db-aa6431b5fc92",
   "metadata": {
    "slideshow": {
     "slide_type": "skip"
    },
    "tags": []
   },
   "outputs": [
    {
     "data": {
      "text/html": [
       "<div>\n",
       "<style scoped>\n",
       "    .dataframe tbody tr th:only-of-type {\n",
       "        vertical-align: middle;\n",
       "    }\n",
       "\n",
       "    .dataframe tbody tr th {\n",
       "        vertical-align: top;\n",
       "    }\n",
       "\n",
       "    .dataframe thead th {\n",
       "        text-align: right;\n",
       "    }\n",
       "</style>\n",
       "<table border=\"1\" class=\"dataframe\">\n",
       "  <thead>\n",
       "    <tr style=\"text-align: right;\">\n",
       "      <th></th>\n",
       "      <th>Lake Name</th>\n",
       "      <th>Site type</th>\n",
       "      <th>ID #</th>\n",
       "      <th>Date</th>\n",
       "      <th>Time</th>\n",
       "      <th>PW</th>\n",
       "      <th>W</th>\n",
       "      <th>TotalDepth(m)</th>\n",
       "      <th>SecchiDepth</th>\n",
       "      <th>Depth(m)</th>\n",
       "      <th>...</th>\n",
       "      <th>SS</th>\n",
       "      <th>F</th>\n",
       "      <th>Notes</th>\n",
       "      <th>Quanta #</th>\n",
       "      <th>Weather Meter #</th>\n",
       "      <th>Fluorometer #</th>\n",
       "      <th>Aquafluor #</th>\n",
       "      <th>Van Dorn #</th>\n",
       "      <th>Unnamed: 50</th>\n",
       "      <th>Unnamed: 51</th>\n",
       "    </tr>\n",
       "  </thead>\n",
       "  <tbody>\n",
       "    <tr>\n",
       "      <th>0</th>\n",
       "      <td>Beaver Dam</td>\n",
       "      <td>Open</td>\n",
       "      <td>21221BEA2</td>\n",
       "      <td>2021-08-09</td>\n",
       "      <td>15:40</td>\n",
       "      <td>S</td>\n",
       "      <td>S</td>\n",
       "      <td>18.5</td>\n",
       "      <td>2.5</td>\n",
       "      <td>0.0</td>\n",
       "      <td>...</td>\n",
       "      <td>NaN</td>\n",
       "      <td>NaN</td>\n",
       "      <td>NaN</td>\n",
       "      <td>NaN</td>\n",
       "      <td>NaN</td>\n",
       "      <td>NaN</td>\n",
       "      <td>NaN</td>\n",
       "      <td>NaN</td>\n",
       "      <td>NaN</td>\n",
       "      <td>NaN</td>\n",
       "    </tr>\n",
       "    <tr>\n",
       "      <th>1</th>\n",
       "      <td>Beaver Dam</td>\n",
       "      <td>Open</td>\n",
       "      <td>18190BEA2</td>\n",
       "      <td>2018-07-09</td>\n",
       "      <td>15:00</td>\n",
       "      <td>S</td>\n",
       "      <td>S</td>\n",
       "      <td>18.0</td>\n",
       "      <td>3.0</td>\n",
       "      <td>0.0</td>\n",
       "      <td>...</td>\n",
       "      <td>NaN</td>\n",
       "      <td>NaN</td>\n",
       "      <td>AQUATIC WEED CONTROL SPRAYED IN THE MORNING (7...</td>\n",
       "      <td>NaN</td>\n",
       "      <td>NaN</td>\n",
       "      <td>NaN</td>\n",
       "      <td>NaN</td>\n",
       "      <td>NaN</td>\n",
       "      <td>NaN</td>\n",
       "      <td>NaN</td>\n",
       "    </tr>\n",
       "    <tr>\n",
       "      <th>2</th>\n",
       "      <td>Beaver Dam</td>\n",
       "      <td>Open</td>\n",
       "      <td>18204BEA2</td>\n",
       "      <td>2018-07-23</td>\n",
       "      <td>15:15</td>\n",
       "      <td>R</td>\n",
       "      <td>R</td>\n",
       "      <td>19.0</td>\n",
       "      <td>5.8</td>\n",
       "      <td>0.0</td>\n",
       "      <td>...</td>\n",
       "      <td>NaN</td>\n",
       "      <td>NaN</td>\n",
       "      <td>NaN</td>\n",
       "      <td>NaN</td>\n",
       "      <td>NaN</td>\n",
       "      <td>NaN</td>\n",
       "      <td>NaN</td>\n",
       "      <td>NaN</td>\n",
       "      <td>NaN</td>\n",
       "      <td>NaN</td>\n",
       "    </tr>\n",
       "    <tr>\n",
       "      <th>3</th>\n",
       "      <td>Beaver Dam</td>\n",
       "      <td>Open</td>\n",
       "      <td>18211BEA2</td>\n",
       "      <td>2018-07-31</td>\n",
       "      <td>15:00</td>\n",
       "      <td>O</td>\n",
       "      <td>O</td>\n",
       "      <td>18.6</td>\n",
       "      <td>4.4</td>\n",
       "      <td>0.0</td>\n",
       "      <td>...</td>\n",
       "      <td>NaN</td>\n",
       "      <td>NaN</td>\n",
       "      <td>NaN</td>\n",
       "      <td>NaN</td>\n",
       "      <td>NaN</td>\n",
       "      <td>NaN</td>\n",
       "      <td>NaN</td>\n",
       "      <td>NaN</td>\n",
       "      <td>NaN</td>\n",
       "      <td>NaN</td>\n",
       "    </tr>\n",
       "    <tr>\n",
       "      <th>4</th>\n",
       "      <td>Beaver Dam</td>\n",
       "      <td>Open</td>\n",
       "      <td>18218BEA2</td>\n",
       "      <td>2018-08-06</td>\n",
       "      <td>14:45</td>\n",
       "      <td>S</td>\n",
       "      <td>O</td>\n",
       "      <td>18.8</td>\n",
       "      <td>4.4</td>\n",
       "      <td>0.0</td>\n",
       "      <td>...</td>\n",
       "      <td>NaN</td>\n",
       "      <td>NaN</td>\n",
       "      <td>NaN</td>\n",
       "      <td>NaN</td>\n",
       "      <td>NaN</td>\n",
       "      <td>NaN</td>\n",
       "      <td>NaN</td>\n",
       "      <td>NaN</td>\n",
       "      <td>NaN</td>\n",
       "      <td>NaN</td>\n",
       "    </tr>\n",
       "    <tr>\n",
       "      <th>...</th>\n",
       "      <td>...</td>\n",
       "      <td>...</td>\n",
       "      <td>...</td>\n",
       "      <td>...</td>\n",
       "      <td>...</td>\n",
       "      <td>...</td>\n",
       "      <td>...</td>\n",
       "      <td>...</td>\n",
       "      <td>...</td>\n",
       "      <td>...</td>\n",
       "      <td>...</td>\n",
       "      <td>...</td>\n",
       "      <td>...</td>\n",
       "      <td>...</td>\n",
       "      <td>...</td>\n",
       "      <td>...</td>\n",
       "      <td>...</td>\n",
       "      <td>...</td>\n",
       "      <td>...</td>\n",
       "      <td>...</td>\n",
       "      <td>...</td>\n",
       "    </tr>\n",
       "    <tr>\n",
       "      <th>24215</th>\n",
       "      <td>NaN</td>\n",
       "      <td>NaN</td>\n",
       "      <td>NaN</td>\n",
       "      <td>NaT</td>\n",
       "      <td>NaN</td>\n",
       "      <td>NaN</td>\n",
       "      <td>NaN</td>\n",
       "      <td>NaN</td>\n",
       "      <td>NaN</td>\n",
       "      <td>NaN</td>\n",
       "      <td>...</td>\n",
       "      <td>NaN</td>\n",
       "      <td>NaN</td>\n",
       "      <td>NaN</td>\n",
       "      <td>NaN</td>\n",
       "      <td>NaN</td>\n",
       "      <td>NaN</td>\n",
       "      <td>NaN</td>\n",
       "      <td>NaN</td>\n",
       "      <td>NaN</td>\n",
       "      <td>NaN</td>\n",
       "    </tr>\n",
       "    <tr>\n",
       "      <th>24216</th>\n",
       "      <td>NaN</td>\n",
       "      <td>NaN</td>\n",
       "      <td>NaN</td>\n",
       "      <td>NaT</td>\n",
       "      <td>NaN</td>\n",
       "      <td>NaN</td>\n",
       "      <td>NaN</td>\n",
       "      <td>NaN</td>\n",
       "      <td>NaN</td>\n",
       "      <td>NaN</td>\n",
       "      <td>...</td>\n",
       "      <td>NaN</td>\n",
       "      <td>NaN</td>\n",
       "      <td>NaN</td>\n",
       "      <td>NaN</td>\n",
       "      <td>NaN</td>\n",
       "      <td>NaN</td>\n",
       "      <td>NaN</td>\n",
       "      <td>NaN</td>\n",
       "      <td>NaN</td>\n",
       "      <td>NaN</td>\n",
       "    </tr>\n",
       "    <tr>\n",
       "      <th>24217</th>\n",
       "      <td>NaN</td>\n",
       "      <td>NaN</td>\n",
       "      <td>NaN</td>\n",
       "      <td>NaT</td>\n",
       "      <td>NaN</td>\n",
       "      <td>NaN</td>\n",
       "      <td>NaN</td>\n",
       "      <td>NaN</td>\n",
       "      <td>NaN</td>\n",
       "      <td>NaN</td>\n",
       "      <td>...</td>\n",
       "      <td>NaN</td>\n",
       "      <td>NaN</td>\n",
       "      <td>NaN</td>\n",
       "      <td>NaN</td>\n",
       "      <td>NaN</td>\n",
       "      <td>NaN</td>\n",
       "      <td>NaN</td>\n",
       "      <td>NaN</td>\n",
       "      <td>NaN</td>\n",
       "      <td>NaN</td>\n",
       "    </tr>\n",
       "    <tr>\n",
       "      <th>24218</th>\n",
       "      <td>NaN</td>\n",
       "      <td>NaN</td>\n",
       "      <td>NaN</td>\n",
       "      <td>NaT</td>\n",
       "      <td>NaN</td>\n",
       "      <td>NaN</td>\n",
       "      <td>NaN</td>\n",
       "      <td>NaN</td>\n",
       "      <td>NaN</td>\n",
       "      <td>NaN</td>\n",
       "      <td>...</td>\n",
       "      <td>NaN</td>\n",
       "      <td>NaN</td>\n",
       "      <td>NaN</td>\n",
       "      <td>NaN</td>\n",
       "      <td>NaN</td>\n",
       "      <td>NaN</td>\n",
       "      <td>NaN</td>\n",
       "      <td>NaN</td>\n",
       "      <td>NaN</td>\n",
       "      <td>NaN</td>\n",
       "    </tr>\n",
       "    <tr>\n",
       "      <th>24219</th>\n",
       "      <td>Beaver Dam</td>\n",
       "      <td>Open</td>\n",
       "      <td>16253BEA2</td>\n",
       "      <td>2016-09-09</td>\n",
       "      <td>13:37</td>\n",
       "      <td>R</td>\n",
       "      <td>O</td>\n",
       "      <td>18.4</td>\n",
       "      <td>4.6</td>\n",
       "      <td>NaN</td>\n",
       "      <td>...</td>\n",
       "      <td>NaN</td>\n",
       "      <td>NaN</td>\n",
       "      <td>NaN</td>\n",
       "      <td>NaN</td>\n",
       "      <td>NaN</td>\n",
       "      <td>NaN</td>\n",
       "      <td>NaN</td>\n",
       "      <td>NaN</td>\n",
       "      <td>NaN</td>\n",
       "      <td>NaN</td>\n",
       "    </tr>\n",
       "  </tbody>\n",
       "</table>\n",
       "<p>24220 rows × 52 columns</p>\n",
       "</div>"
      ],
      "text/plain": [
       "        Lake Name Site type       ID #       Date   Time   PW    W  \\\n",
       "0      Beaver Dam      Open  21221BEA2 2021-08-09  15:40    S    S   \n",
       "1      Beaver Dam      Open  18190BEA2 2018-07-09  15:00    S    S   \n",
       "2      Beaver Dam      Open  18204BEA2 2018-07-23  15:15    R    R   \n",
       "3      Beaver Dam      Open  18211BEA2 2018-07-31  15:00    O    O   \n",
       "4      Beaver Dam      Open  18218BEA2 2018-08-06  14:45    S    O   \n",
       "...           ...       ...        ...        ...    ...  ...  ...   \n",
       "24215         NaN       NaN        NaN        NaT    NaN  NaN  NaN   \n",
       "24216         NaN       NaN        NaN        NaT    NaN  NaN  NaN   \n",
       "24217         NaN       NaN        NaN        NaT    NaN  NaN  NaN   \n",
       "24218         NaN       NaN        NaN        NaT    NaN  NaN  NaN   \n",
       "24219  Beaver Dam      Open  16253BEA2 2016-09-09  13:37    R    O   \n",
       "\n",
       "       TotalDepth(m) SecchiDepth  Depth(m)  ...  SS   F  \\\n",
       "0               18.5         2.5       0.0  ... NaN NaN   \n",
       "1               18.0         3.0       0.0  ... NaN NaN   \n",
       "2               19.0         5.8       0.0  ... NaN NaN   \n",
       "3               18.6         4.4       0.0  ... NaN NaN   \n",
       "4               18.8         4.4       0.0  ... NaN NaN   \n",
       "...              ...         ...       ...  ...  ..  ..   \n",
       "24215            NaN         NaN       NaN  ... NaN NaN   \n",
       "24216            NaN         NaN       NaN  ... NaN NaN   \n",
       "24217            NaN         NaN       NaN  ... NaN NaN   \n",
       "24218            NaN         NaN       NaN  ... NaN NaN   \n",
       "24219           18.4         4.6       NaN  ... NaN NaN   \n",
       "\n",
       "                                                   Notes  Quanta #  \\\n",
       "0                                                    NaN       NaN   \n",
       "1      AQUATIC WEED CONTROL SPRAYED IN THE MORNING (7...       NaN   \n",
       "2                                                    NaN       NaN   \n",
       "3                                                    NaN       NaN   \n",
       "4                                                    NaN       NaN   \n",
       "...                                                  ...       ...   \n",
       "24215                                                NaN       NaN   \n",
       "24216                                                NaN       NaN   \n",
       "24217                                                NaN       NaN   \n",
       "24218                                                NaN       NaN   \n",
       "24219                                                NaN       NaN   \n",
       "\n",
       "       Weather Meter #  Fluorometer # Aquafluor # Van Dorn # Unnamed: 50  \\\n",
       "0                  NaN            NaN         NaN        NaN         NaN   \n",
       "1                  NaN            NaN         NaN        NaN         NaN   \n",
       "2                  NaN            NaN         NaN        NaN         NaN   \n",
       "3                  NaN            NaN         NaN        NaN         NaN   \n",
       "4                  NaN            NaN         NaN        NaN         NaN   \n",
       "...                ...            ...         ...        ...         ...   \n",
       "24215              NaN            NaN         NaN        NaN         NaN   \n",
       "24216              NaN            NaN         NaN        NaN         NaN   \n",
       "24217              NaN            NaN         NaN        NaN         NaN   \n",
       "24218              NaN            NaN         NaN        NaN         NaN   \n",
       "24219              NaN            NaN         NaN        NaN         NaN   \n",
       "\n",
       "      Unnamed: 51  \n",
       "0             NaN  \n",
       "1             NaN  \n",
       "2             NaN  \n",
       "3             NaN  \n",
       "4             NaN  \n",
       "...           ...  \n",
       "24215         NaN  \n",
       "24216         NaN  \n",
       "24217         NaN  \n",
       "24218         NaN  \n",
       "24219         NaN  \n",
       "\n",
       "[24220 rows x 52 columns]"
      ]
     },
     "execution_count": 12,
     "metadata": {},
     "output_type": "execute_result"
    }
   ],
   "source": [
    "df = pd.read_csv(\"LakeData.csv\", parse_dates=[\"Date\"], low_memory = False)\n",
    "df"
   ]
  },
  {
   "cell_type": "code",
   "execution_count": 13,
   "id": "025cf6f2-bfec-4ee2-afb2-60b1cb39f670",
   "metadata": {
    "slideshow": {
     "slide_type": "skip"
    },
    "tags": []
   },
   "outputs": [
    {
     "data": {
      "text/html": [
       "<pre style=\"white-space:pre;overflow-x:auto;line-height:normal;font-family:Menlo,'DejaVu Sans Mono',consolas,'Courier New',monospace\"><span style=\"color: #008080; text-decoration-color: #008080; font-weight: bold\">52</span> column names have been cleaned\n",
       "</pre>\n"
      ],
      "text/plain": [
       "\u001b[1;36m52\u001b[0m column names have been cleaned\n"
      ]
     },
     "metadata": {},
     "output_type": "display_data"
    },
    {
     "data": {
      "text/html": [
       "<div>\n",
       "<style scoped>\n",
       "    .dataframe tbody tr th:only-of-type {\n",
       "        vertical-align: middle;\n",
       "    }\n",
       "\n",
       "    .dataframe tbody tr th {\n",
       "        vertical-align: top;\n",
       "    }\n",
       "\n",
       "    .dataframe thead th {\n",
       "        text-align: right;\n",
       "    }\n",
       "</style>\n",
       "<table border=\"1\" class=\"dataframe\">\n",
       "  <thead>\n",
       "    <tr style=\"text-align: right;\">\n",
       "      <th></th>\n",
       "      <th>lake_name</th>\n",
       "      <th>site_type</th>\n",
       "      <th>id_#</th>\n",
       "      <th>date</th>\n",
       "      <th>time</th>\n",
       "      <th>pw</th>\n",
       "      <th>w</th>\n",
       "      <th>total_depth_m</th>\n",
       "      <th>secchi_depth</th>\n",
       "      <th>depth_m</th>\n",
       "      <th>...</th>\n",
       "      <th>ss</th>\n",
       "      <th>f</th>\n",
       "      <th>notes</th>\n",
       "      <th>quanta_#</th>\n",
       "      <th>weather_meter_#</th>\n",
       "      <th>fluorometer_#</th>\n",
       "      <th>aquafluor_#</th>\n",
       "      <th>van_dorn_#</th>\n",
       "      <th>unnamed_50</th>\n",
       "      <th>unnamed_51</th>\n",
       "    </tr>\n",
       "  </thead>\n",
       "  <tbody>\n",
       "    <tr>\n",
       "      <th>0</th>\n",
       "      <td>Beaver Dam</td>\n",
       "      <td>Open</td>\n",
       "      <td>21221BEA2</td>\n",
       "      <td>2021-08-09</td>\n",
       "      <td>15:40</td>\n",
       "      <td>S</td>\n",
       "      <td>S</td>\n",
       "      <td>18.5</td>\n",
       "      <td>2.5</td>\n",
       "      <td>0.0</td>\n",
       "      <td>...</td>\n",
       "      <td>NaN</td>\n",
       "      <td>NaN</td>\n",
       "      <td>NaN</td>\n",
       "      <td>NaN</td>\n",
       "      <td>NaN</td>\n",
       "      <td>NaN</td>\n",
       "      <td>NaN</td>\n",
       "      <td>NaN</td>\n",
       "      <td>NaN</td>\n",
       "      <td>NaN</td>\n",
       "    </tr>\n",
       "    <tr>\n",
       "      <th>1</th>\n",
       "      <td>Beaver Dam</td>\n",
       "      <td>Open</td>\n",
       "      <td>18190BEA2</td>\n",
       "      <td>2018-07-09</td>\n",
       "      <td>15:00</td>\n",
       "      <td>S</td>\n",
       "      <td>S</td>\n",
       "      <td>18.0</td>\n",
       "      <td>3.0</td>\n",
       "      <td>0.0</td>\n",
       "      <td>...</td>\n",
       "      <td>NaN</td>\n",
       "      <td>NaN</td>\n",
       "      <td>AQUATIC WEED CONTROL SPRAYED IN THE MORNING (7...</td>\n",
       "      <td>NaN</td>\n",
       "      <td>NaN</td>\n",
       "      <td>NaN</td>\n",
       "      <td>NaN</td>\n",
       "      <td>NaN</td>\n",
       "      <td>NaN</td>\n",
       "      <td>NaN</td>\n",
       "    </tr>\n",
       "    <tr>\n",
       "      <th>2</th>\n",
       "      <td>Beaver Dam</td>\n",
       "      <td>Open</td>\n",
       "      <td>18204BEA2</td>\n",
       "      <td>2018-07-23</td>\n",
       "      <td>15:15</td>\n",
       "      <td>R</td>\n",
       "      <td>R</td>\n",
       "      <td>19.0</td>\n",
       "      <td>5.8</td>\n",
       "      <td>0.0</td>\n",
       "      <td>...</td>\n",
       "      <td>NaN</td>\n",
       "      <td>NaN</td>\n",
       "      <td>NaN</td>\n",
       "      <td>NaN</td>\n",
       "      <td>NaN</td>\n",
       "      <td>NaN</td>\n",
       "      <td>NaN</td>\n",
       "      <td>NaN</td>\n",
       "      <td>NaN</td>\n",
       "      <td>NaN</td>\n",
       "    </tr>\n",
       "    <tr>\n",
       "      <th>3</th>\n",
       "      <td>Beaver Dam</td>\n",
       "      <td>Open</td>\n",
       "      <td>18211BEA2</td>\n",
       "      <td>2018-07-31</td>\n",
       "      <td>15:00</td>\n",
       "      <td>O</td>\n",
       "      <td>O</td>\n",
       "      <td>18.6</td>\n",
       "      <td>4.4</td>\n",
       "      <td>0.0</td>\n",
       "      <td>...</td>\n",
       "      <td>NaN</td>\n",
       "      <td>NaN</td>\n",
       "      <td>NaN</td>\n",
       "      <td>NaN</td>\n",
       "      <td>NaN</td>\n",
       "      <td>NaN</td>\n",
       "      <td>NaN</td>\n",
       "      <td>NaN</td>\n",
       "      <td>NaN</td>\n",
       "      <td>NaN</td>\n",
       "    </tr>\n",
       "    <tr>\n",
       "      <th>4</th>\n",
       "      <td>Beaver Dam</td>\n",
       "      <td>Open</td>\n",
       "      <td>18218BEA2</td>\n",
       "      <td>2018-08-06</td>\n",
       "      <td>14:45</td>\n",
       "      <td>S</td>\n",
       "      <td>O</td>\n",
       "      <td>18.8</td>\n",
       "      <td>4.4</td>\n",
       "      <td>0.0</td>\n",
       "      <td>...</td>\n",
       "      <td>NaN</td>\n",
       "      <td>NaN</td>\n",
       "      <td>NaN</td>\n",
       "      <td>NaN</td>\n",
       "      <td>NaN</td>\n",
       "      <td>NaN</td>\n",
       "      <td>NaN</td>\n",
       "      <td>NaN</td>\n",
       "      <td>NaN</td>\n",
       "      <td>NaN</td>\n",
       "    </tr>\n",
       "  </tbody>\n",
       "</table>\n",
       "<p>5 rows × 52 columns</p>\n",
       "</div>"
      ],
      "text/plain": [
       "    lake_name site_type       id_#       date   time pw  w  total_depth_m  \\\n",
       "0  Beaver Dam      Open  21221BEA2 2021-08-09  15:40  S  S           18.5   \n",
       "1  Beaver Dam      Open  18190BEA2 2018-07-09  15:00  S  S           18.0   \n",
       "2  Beaver Dam      Open  18204BEA2 2018-07-23  15:15  R  R           19.0   \n",
       "3  Beaver Dam      Open  18211BEA2 2018-07-31  15:00  O  O           18.6   \n",
       "4  Beaver Dam      Open  18218BEA2 2018-08-06  14:45  S  O           18.8   \n",
       "\n",
       "  secchi_depth  depth_m  ...  ss   f  \\\n",
       "0          2.5      0.0  ... NaN NaN   \n",
       "1          3.0      0.0  ... NaN NaN   \n",
       "2          5.8      0.0  ... NaN NaN   \n",
       "3          4.4      0.0  ... NaN NaN   \n",
       "4          4.4      0.0  ... NaN NaN   \n",
       "\n",
       "                                               notes  quanta_#  \\\n",
       "0                                                NaN       NaN   \n",
       "1  AQUATIC WEED CONTROL SPRAYED IN THE MORNING (7...       NaN   \n",
       "2                                                NaN       NaN   \n",
       "3                                                NaN       NaN   \n",
       "4                                                NaN       NaN   \n",
       "\n",
       "   weather_meter_#  fluorometer_# aquafluor_# van_dorn_# unnamed_50 unnamed_51  \n",
       "0              NaN            NaN         NaN        NaN        NaN        NaN  \n",
       "1              NaN            NaN         NaN        NaN        NaN        NaN  \n",
       "2              NaN            NaN         NaN        NaN        NaN        NaN  \n",
       "3              NaN            NaN         NaN        NaN        NaN        NaN  \n",
       "4              NaN            NaN         NaN        NaN        NaN        NaN  \n",
       "\n",
       "[5 rows x 52 columns]"
      ]
     },
     "execution_count": 13,
     "metadata": {},
     "output_type": "execute_result"
    }
   ],
   "source": [
    "clean_df = clean_columns(df)\n",
    "clean_df.head()"
   ]
  },
  {
   "cell_type": "code",
   "execution_count": 14,
   "id": "29e10aa5-a97a-4ee5-883c-682c4c182868",
   "metadata": {
    "slideshow": {
     "slide_type": "skip"
    },
    "tags": []
   },
   "outputs": [
    {
     "data": {
      "text/html": [
       "<div>\n",
       "<style scoped>\n",
       "    .dataframe tbody tr th:only-of-type {\n",
       "        vertical-align: middle;\n",
       "    }\n",
       "\n",
       "    .dataframe tbody tr th {\n",
       "        vertical-align: top;\n",
       "    }\n",
       "\n",
       "    .dataframe thead th {\n",
       "        text-align: right;\n",
       "    }\n",
       "</style>\n",
       "<table border=\"1\" class=\"dataframe\">\n",
       "  <thead>\n",
       "    <tr style=\"text-align: right;\">\n",
       "      <th></th>\n",
       "      <th>lake_name</th>\n",
       "      <th>site_type</th>\n",
       "      <th>id_#</th>\n",
       "      <th>date</th>\n",
       "      <th>time</th>\n",
       "      <th>pw</th>\n",
       "      <th>w</th>\n",
       "      <th>total_depth_m</th>\n",
       "      <th>secchi_depth</th>\n",
       "      <th>depth_m</th>\n",
       "      <th>...</th>\n",
       "      <th>ss</th>\n",
       "      <th>f</th>\n",
       "      <th>notes</th>\n",
       "      <th>quanta_#</th>\n",
       "      <th>weather_meter_#</th>\n",
       "      <th>fluorometer_#</th>\n",
       "      <th>aquafluor_#</th>\n",
       "      <th>van_dorn_#</th>\n",
       "      <th>unnamed_50</th>\n",
       "      <th>unnamed_51</th>\n",
       "    </tr>\n",
       "  </thead>\n",
       "  <tbody>\n",
       "    <tr>\n",
       "      <th>0</th>\n",
       "      <td>Beaver Dam</td>\n",
       "      <td>Open</td>\n",
       "      <td>21221BEA2</td>\n",
       "      <td>2021-08-09</td>\n",
       "      <td>15:40</td>\n",
       "      <td>S</td>\n",
       "      <td>S</td>\n",
       "      <td>18.5</td>\n",
       "      <td>2.5</td>\n",
       "      <td>0.0</td>\n",
       "      <td>...</td>\n",
       "      <td>NaN</td>\n",
       "      <td>NaN</td>\n",
       "      <td>NaN</td>\n",
       "      <td>NaN</td>\n",
       "      <td>NaN</td>\n",
       "      <td>NaN</td>\n",
       "      <td>NaN</td>\n",
       "      <td>NaN</td>\n",
       "      <td>NaN</td>\n",
       "      <td>NaN</td>\n",
       "    </tr>\n",
       "    <tr>\n",
       "      <th>1</th>\n",
       "      <td>Beaver Dam</td>\n",
       "      <td>Open</td>\n",
       "      <td>18190BEA2</td>\n",
       "      <td>2018-07-09</td>\n",
       "      <td>15:00</td>\n",
       "      <td>S</td>\n",
       "      <td>S</td>\n",
       "      <td>18.0</td>\n",
       "      <td>3.0</td>\n",
       "      <td>0.0</td>\n",
       "      <td>...</td>\n",
       "      <td>NaN</td>\n",
       "      <td>NaN</td>\n",
       "      <td>AQUATIC WEED CONTROL SPRAYED IN THE MORNING (7...</td>\n",
       "      <td>NaN</td>\n",
       "      <td>NaN</td>\n",
       "      <td>NaN</td>\n",
       "      <td>NaN</td>\n",
       "      <td>NaN</td>\n",
       "      <td>NaN</td>\n",
       "      <td>NaN</td>\n",
       "    </tr>\n",
       "    <tr>\n",
       "      <th>2</th>\n",
       "      <td>Beaver Dam</td>\n",
       "      <td>Open</td>\n",
       "      <td>18204BEA2</td>\n",
       "      <td>2018-07-23</td>\n",
       "      <td>15:15</td>\n",
       "      <td>R</td>\n",
       "      <td>R</td>\n",
       "      <td>19.0</td>\n",
       "      <td>5.8</td>\n",
       "      <td>0.0</td>\n",
       "      <td>...</td>\n",
       "      <td>NaN</td>\n",
       "      <td>NaN</td>\n",
       "      <td>NaN</td>\n",
       "      <td>NaN</td>\n",
       "      <td>NaN</td>\n",
       "      <td>NaN</td>\n",
       "      <td>NaN</td>\n",
       "      <td>NaN</td>\n",
       "      <td>NaN</td>\n",
       "      <td>NaN</td>\n",
       "    </tr>\n",
       "    <tr>\n",
       "      <th>3</th>\n",
       "      <td>Beaver Dam</td>\n",
       "      <td>Open</td>\n",
       "      <td>18211BEA2</td>\n",
       "      <td>2018-07-31</td>\n",
       "      <td>15:00</td>\n",
       "      <td>O</td>\n",
       "      <td>O</td>\n",
       "      <td>18.6</td>\n",
       "      <td>4.4</td>\n",
       "      <td>0.0</td>\n",
       "      <td>...</td>\n",
       "      <td>NaN</td>\n",
       "      <td>NaN</td>\n",
       "      <td>NaN</td>\n",
       "      <td>NaN</td>\n",
       "      <td>NaN</td>\n",
       "      <td>NaN</td>\n",
       "      <td>NaN</td>\n",
       "      <td>NaN</td>\n",
       "      <td>NaN</td>\n",
       "      <td>NaN</td>\n",
       "    </tr>\n",
       "    <tr>\n",
       "      <th>4</th>\n",
       "      <td>Beaver Dam</td>\n",
       "      <td>Open</td>\n",
       "      <td>18218BEA2</td>\n",
       "      <td>2018-08-06</td>\n",
       "      <td>14:45</td>\n",
       "      <td>S</td>\n",
       "      <td>O</td>\n",
       "      <td>18.8</td>\n",
       "      <td>4.4</td>\n",
       "      <td>0.0</td>\n",
       "      <td>...</td>\n",
       "      <td>NaN</td>\n",
       "      <td>NaN</td>\n",
       "      <td>NaN</td>\n",
       "      <td>NaN</td>\n",
       "      <td>NaN</td>\n",
       "      <td>NaN</td>\n",
       "      <td>NaN</td>\n",
       "      <td>NaN</td>\n",
       "      <td>NaN</td>\n",
       "      <td>NaN</td>\n",
       "    </tr>\n",
       "    <tr>\n",
       "      <th>...</th>\n",
       "      <td>...</td>\n",
       "      <td>...</td>\n",
       "      <td>...</td>\n",
       "      <td>...</td>\n",
       "      <td>...</td>\n",
       "      <td>...</td>\n",
       "      <td>...</td>\n",
       "      <td>...</td>\n",
       "      <td>...</td>\n",
       "      <td>...</td>\n",
       "      <td>...</td>\n",
       "      <td>...</td>\n",
       "      <td>...</td>\n",
       "      <td>...</td>\n",
       "      <td>...</td>\n",
       "      <td>...</td>\n",
       "      <td>...</td>\n",
       "      <td>...</td>\n",
       "      <td>...</td>\n",
       "      <td>...</td>\n",
       "      <td>...</td>\n",
       "    </tr>\n",
       "    <tr>\n",
       "      <th>24215</th>\n",
       "      <td>NaN</td>\n",
       "      <td>NaN</td>\n",
       "      <td>NaN</td>\n",
       "      <td>NaT</td>\n",
       "      <td>NaN</td>\n",
       "      <td>NaN</td>\n",
       "      <td>NaN</td>\n",
       "      <td>NaN</td>\n",
       "      <td>NaN</td>\n",
       "      <td>NaN</td>\n",
       "      <td>...</td>\n",
       "      <td>NaN</td>\n",
       "      <td>NaN</td>\n",
       "      <td>NaN</td>\n",
       "      <td>NaN</td>\n",
       "      <td>NaN</td>\n",
       "      <td>NaN</td>\n",
       "      <td>NaN</td>\n",
       "      <td>NaN</td>\n",
       "      <td>NaN</td>\n",
       "      <td>NaN</td>\n",
       "    </tr>\n",
       "    <tr>\n",
       "      <th>24216</th>\n",
       "      <td>NaN</td>\n",
       "      <td>NaN</td>\n",
       "      <td>NaN</td>\n",
       "      <td>NaT</td>\n",
       "      <td>NaN</td>\n",
       "      <td>NaN</td>\n",
       "      <td>NaN</td>\n",
       "      <td>NaN</td>\n",
       "      <td>NaN</td>\n",
       "      <td>NaN</td>\n",
       "      <td>...</td>\n",
       "      <td>NaN</td>\n",
       "      <td>NaN</td>\n",
       "      <td>NaN</td>\n",
       "      <td>NaN</td>\n",
       "      <td>NaN</td>\n",
       "      <td>NaN</td>\n",
       "      <td>NaN</td>\n",
       "      <td>NaN</td>\n",
       "      <td>NaN</td>\n",
       "      <td>NaN</td>\n",
       "    </tr>\n",
       "    <tr>\n",
       "      <th>24217</th>\n",
       "      <td>NaN</td>\n",
       "      <td>NaN</td>\n",
       "      <td>NaN</td>\n",
       "      <td>NaT</td>\n",
       "      <td>NaN</td>\n",
       "      <td>NaN</td>\n",
       "      <td>NaN</td>\n",
       "      <td>NaN</td>\n",
       "      <td>NaN</td>\n",
       "      <td>NaN</td>\n",
       "      <td>...</td>\n",
       "      <td>NaN</td>\n",
       "      <td>NaN</td>\n",
       "      <td>NaN</td>\n",
       "      <td>NaN</td>\n",
       "      <td>NaN</td>\n",
       "      <td>NaN</td>\n",
       "      <td>NaN</td>\n",
       "      <td>NaN</td>\n",
       "      <td>NaN</td>\n",
       "      <td>NaN</td>\n",
       "    </tr>\n",
       "    <tr>\n",
       "      <th>24218</th>\n",
       "      <td>NaN</td>\n",
       "      <td>NaN</td>\n",
       "      <td>NaN</td>\n",
       "      <td>NaT</td>\n",
       "      <td>NaN</td>\n",
       "      <td>NaN</td>\n",
       "      <td>NaN</td>\n",
       "      <td>NaN</td>\n",
       "      <td>NaN</td>\n",
       "      <td>NaN</td>\n",
       "      <td>...</td>\n",
       "      <td>NaN</td>\n",
       "      <td>NaN</td>\n",
       "      <td>NaN</td>\n",
       "      <td>NaN</td>\n",
       "      <td>NaN</td>\n",
       "      <td>NaN</td>\n",
       "      <td>NaN</td>\n",
       "      <td>NaN</td>\n",
       "      <td>NaN</td>\n",
       "      <td>NaN</td>\n",
       "    </tr>\n",
       "    <tr>\n",
       "      <th>24219</th>\n",
       "      <td>Beaver Dam</td>\n",
       "      <td>Open</td>\n",
       "      <td>16253BEA2</td>\n",
       "      <td>2016-09-09</td>\n",
       "      <td>13:37</td>\n",
       "      <td>R</td>\n",
       "      <td>O</td>\n",
       "      <td>18.4</td>\n",
       "      <td>4.6</td>\n",
       "      <td>NaN</td>\n",
       "      <td>...</td>\n",
       "      <td>NaN</td>\n",
       "      <td>NaN</td>\n",
       "      <td>NaN</td>\n",
       "      <td>NaN</td>\n",
       "      <td>NaN</td>\n",
       "      <td>NaN</td>\n",
       "      <td>NaN</td>\n",
       "      <td>NaN</td>\n",
       "      <td>NaN</td>\n",
       "      <td>NaN</td>\n",
       "    </tr>\n",
       "  </tbody>\n",
       "</table>\n",
       "<p>24220 rows × 52 columns</p>\n",
       "</div>"
      ],
      "text/plain": [
       "        lake_name site_type       id_#       date   time   pw    w  \\\n",
       "0      Beaver Dam      Open  21221BEA2 2021-08-09  15:40    S    S   \n",
       "1      Beaver Dam      Open  18190BEA2 2018-07-09  15:00    S    S   \n",
       "2      Beaver Dam      Open  18204BEA2 2018-07-23  15:15    R    R   \n",
       "3      Beaver Dam      Open  18211BEA2 2018-07-31  15:00    O    O   \n",
       "4      Beaver Dam      Open  18218BEA2 2018-08-06  14:45    S    O   \n",
       "...           ...       ...        ...        ...    ...  ...  ...   \n",
       "24215         NaN       NaN        NaN        NaT    NaN  NaN  NaN   \n",
       "24216         NaN       NaN        NaN        NaT    NaN  NaN  NaN   \n",
       "24217         NaN       NaN        NaN        NaT    NaN  NaN  NaN   \n",
       "24218         NaN       NaN        NaN        NaT    NaN  NaN  NaN   \n",
       "24219  Beaver Dam      Open  16253BEA2 2016-09-09  13:37    R    O   \n",
       "\n",
       "       total_depth_m secchi_depth  depth_m  ...  ss   f  \\\n",
       "0               18.5          2.5      0.0  ... NaN NaN   \n",
       "1               18.0          3.0      0.0  ... NaN NaN   \n",
       "2               19.0          5.8      0.0  ... NaN NaN   \n",
       "3               18.6          4.4      0.0  ... NaN NaN   \n",
       "4               18.8          4.4      0.0  ... NaN NaN   \n",
       "...              ...          ...      ...  ...  ..  ..   \n",
       "24215            NaN          NaN      NaN  ... NaN NaN   \n",
       "24216            NaN          NaN      NaN  ... NaN NaN   \n",
       "24217            NaN          NaN      NaN  ... NaN NaN   \n",
       "24218            NaN          NaN      NaN  ... NaN NaN   \n",
       "24219           18.4          4.6      NaN  ... NaN NaN   \n",
       "\n",
       "                                                   notes  quanta_#  \\\n",
       "0                                                    NaN       NaN   \n",
       "1      AQUATIC WEED CONTROL SPRAYED IN THE MORNING (7...       NaN   \n",
       "2                                                    NaN       NaN   \n",
       "3                                                    NaN       NaN   \n",
       "4                                                    NaN       NaN   \n",
       "...                                                  ...       ...   \n",
       "24215                                                NaN       NaN   \n",
       "24216                                                NaN       NaN   \n",
       "24217                                                NaN       NaN   \n",
       "24218                                                NaN       NaN   \n",
       "24219                                                NaN       NaN   \n",
       "\n",
       "       weather_meter_#  fluorometer_# aquafluor_# van_dorn_# unnamed_50  \\\n",
       "0                  NaN            NaN         NaN        NaN        NaN   \n",
       "1                  NaN            NaN         NaN        NaN        NaN   \n",
       "2                  NaN            NaN         NaN        NaN        NaN   \n",
       "3                  NaN            NaN         NaN        NaN        NaN   \n",
       "4                  NaN            NaN         NaN        NaN        NaN   \n",
       "...                ...            ...         ...        ...        ...   \n",
       "24215              NaN            NaN         NaN        NaN        NaN   \n",
       "24216              NaN            NaN         NaN        NaN        NaN   \n",
       "24217              NaN            NaN         NaN        NaN        NaN   \n",
       "24218              NaN            NaN         NaN        NaN        NaN   \n",
       "24219              NaN            NaN         NaN        NaN        NaN   \n",
       "\n",
       "      unnamed_51  \n",
       "0            NaN  \n",
       "1            NaN  \n",
       "2            NaN  \n",
       "3            NaN  \n",
       "4            NaN  \n",
       "...          ...  \n",
       "24215        NaN  \n",
       "24216        NaN  \n",
       "24217        NaN  \n",
       "24218        NaN  \n",
       "24219        NaN  \n",
       "\n",
       "[24220 rows x 52 columns]"
      ]
     },
     "execution_count": 14,
     "metadata": {},
     "output_type": "execute_result"
    }
   ],
   "source": [
    "from datetime import datetime\n",
    "clean_df['date'] = pd.to_datetime(clean_df['date'], format='%m/%d/%Y')\n",
    "clean_df"
   ]
  },
  {
   "cell_type": "code",
   "execution_count": 15,
   "id": "629bef1c-83fa-4009-b06d-3d5b2879316e",
   "metadata": {
    "slideshow": {
     "slide_type": "skip"
    },
    "tags": []
   },
   "outputs": [],
   "source": [
    "clean_df['year'] = pd.DatetimeIndex(clean_df['date']).year\n",
    "clean_df['year'] = clean_df['year'].astype(str)"
   ]
  },
  {
   "cell_type": "code",
   "execution_count": 16,
   "id": "ca30062c-c579-40de-ad5b-e69c48491352",
   "metadata": {
    "slideshow": {
     "slide_type": "skip"
    },
    "tags": []
   },
   "outputs": [],
   "source": [
    "clean_df['lake_year'] = clean_df['lake_name'] + \" \" + clean_df['year'].str[:-2]"
   ]
  },
  {
   "cell_type": "code",
   "execution_count": 17,
   "id": "ab0c2fe7-8f8d-47e1-9ee2-c047ab791118",
   "metadata": {
    "slideshow": {
     "slide_type": "skip"
    },
    "tags": []
   },
   "outputs": [
    {
     "data": {
      "text/html": [
       "<div>\n",
       "<style scoped>\n",
       "    .dataframe tbody tr th:only-of-type {\n",
       "        vertical-align: middle;\n",
       "    }\n",
       "\n",
       "    .dataframe tbody tr th {\n",
       "        vertical-align: top;\n",
       "    }\n",
       "\n",
       "    .dataframe thead th {\n",
       "        text-align: right;\n",
       "    }\n",
       "</style>\n",
       "<table border=\"1\" class=\"dataframe\">\n",
       "  <thead>\n",
       "    <tr style=\"text-align: right;\">\n",
       "      <th></th>\n",
       "      <th>mc_ppb</th>\n",
       "    </tr>\n",
       "    <tr>\n",
       "      <th>lake_name</th>\n",
       "      <th></th>\n",
       "    </tr>\n",
       "  </thead>\n",
       "  <tbody>\n",
       "    <tr>\n",
       "      <th>Beaver Dam</th>\n",
       "      <td>0.586474</td>\n",
       "    </tr>\n",
       "    <tr>\n",
       "      <th>Big Barbee</th>\n",
       "      <td>0.145041</td>\n",
       "    </tr>\n",
       "    <tr>\n",
       "      <th>Big Chapman</th>\n",
       "      <td>1.038398</td>\n",
       "    </tr>\n",
       "    <tr>\n",
       "      <th>Center</th>\n",
       "      <td>0.256462</td>\n",
       "    </tr>\n",
       "    <tr>\n",
       "      <th>Dewart</th>\n",
       "      <td>0.729490</td>\n",
       "    </tr>\n",
       "    <tr>\n",
       "      <th>James</th>\n",
       "      <td>0.297236</td>\n",
       "    </tr>\n",
       "    <tr>\n",
       "      <th>James</th>\n",
       "      <td>0.093821</td>\n",
       "    </tr>\n",
       "    <tr>\n",
       "      <th>Oswego</th>\n",
       "      <td>0.207386</td>\n",
       "    </tr>\n",
       "    <tr>\n",
       "      <th>Pike</th>\n",
       "      <td>0.275175</td>\n",
       "    </tr>\n",
       "    <tr>\n",
       "      <th>Syracuse</th>\n",
       "      <td>0.444113</td>\n",
       "    </tr>\n",
       "    <tr>\n",
       "      <th>Tippecanoe</th>\n",
       "      <td>0.295465</td>\n",
       "    </tr>\n",
       "    <tr>\n",
       "      <th>Wawasee</th>\n",
       "      <td>0.893587</td>\n",
       "    </tr>\n",
       "    <tr>\n",
       "      <th>Webster</th>\n",
       "      <td>0.206516</td>\n",
       "    </tr>\n",
       "    <tr>\n",
       "      <th>Winona</th>\n",
       "      <td>0.165343</td>\n",
       "    </tr>\n",
       "    <tr>\n",
       "      <th>Yellow Creek</th>\n",
       "      <td>0.615500</td>\n",
       "    </tr>\n",
       "  </tbody>\n",
       "</table>\n",
       "</div>"
      ],
      "text/plain": [
       "                mc_ppb\n",
       "lake_name             \n",
       "Beaver Dam    0.586474\n",
       "Big Barbee    0.145041\n",
       "Big Chapman   1.038398\n",
       "Center        0.256462\n",
       "Dewart        0.729490\n",
       "James         0.297236\n",
       "James         0.093821\n",
       "Oswego        0.207386\n",
       "Pike          0.275175\n",
       "Syracuse      0.444113\n",
       "Tippecanoe    0.295465\n",
       "Wawasee       0.893587\n",
       "Webster       0.206516\n",
       "Winona        0.165343\n",
       "Yellow Creek  0.615500"
      ]
     },
     "execution_count": 17,
     "metadata": {},
     "output_type": "execute_result"
    }
   ],
   "source": [
    "clean_df['year'] = pd.DatetimeIndex(clean_df['date']).year\n",
    "pv = clean_df[['mc_ppb', 'year', 'lake_name']].dropna()\n",
    "pv.index = pv['year']\n",
    "pv = pv[['lake_name', 'mc_ppb']]\n",
    "pv = pv.groupby(['lake_name']).mean()\n",
    "pv"
   ]
  },
  {
   "cell_type": "code",
   "execution_count": 18,
   "id": "824dda39-5460-43a5-82d9-5930959a702e",
   "metadata": {
    "slideshow": {
     "slide_type": "skip"
    },
    "tags": []
   },
   "outputs": [
    {
     "data": {
      "text/html": [
       "<div>\n",
       "<style scoped>\n",
       "    .dataframe tbody tr th:only-of-type {\n",
       "        vertical-align: middle;\n",
       "    }\n",
       "\n",
       "    .dataframe tbody tr th {\n",
       "        vertical-align: top;\n",
       "    }\n",
       "\n",
       "    .dataframe thead th {\n",
       "        text-align: right;\n",
       "    }\n",
       "</style>\n",
       "<table border=\"1\" class=\"dataframe\">\n",
       "  <thead>\n",
       "    <tr style=\"text-align: right;\">\n",
       "      <th></th>\n",
       "      <th>mc_ppb</th>\n",
       "      <th>year</th>\n",
       "      <th>lake_name</th>\n",
       "    </tr>\n",
       "  </thead>\n",
       "  <tbody>\n",
       "    <tr>\n",
       "      <th>1</th>\n",
       "      <td>0.075</td>\n",
       "      <td>2018.0</td>\n",
       "      <td>Beaver Dam</td>\n",
       "    </tr>\n",
       "    <tr>\n",
       "      <th>2</th>\n",
       "      <td>0.075</td>\n",
       "      <td>2018.0</td>\n",
       "      <td>Beaver Dam</td>\n",
       "    </tr>\n",
       "    <tr>\n",
       "      <th>3</th>\n",
       "      <td>0.075</td>\n",
       "      <td>2018.0</td>\n",
       "      <td>Beaver Dam</td>\n",
       "    </tr>\n",
       "    <tr>\n",
       "      <th>4</th>\n",
       "      <td>0.075</td>\n",
       "      <td>2018.0</td>\n",
       "      <td>Beaver Dam</td>\n",
       "    </tr>\n",
       "    <tr>\n",
       "      <th>5</th>\n",
       "      <td>0.075</td>\n",
       "      <td>2020.0</td>\n",
       "      <td>Beaver Dam</td>\n",
       "    </tr>\n",
       "    <tr>\n",
       "      <th>...</th>\n",
       "      <td>...</td>\n",
       "      <td>...</td>\n",
       "      <td>...</td>\n",
       "    </tr>\n",
       "    <tr>\n",
       "      <th>2618</th>\n",
       "      <td>0.075</td>\n",
       "      <td>2010.0</td>\n",
       "      <td>Winona</td>\n",
       "    </tr>\n",
       "    <tr>\n",
       "      <th>2619</th>\n",
       "      <td>0.075</td>\n",
       "      <td>2010.0</td>\n",
       "      <td>Winona</td>\n",
       "    </tr>\n",
       "    <tr>\n",
       "      <th>2620</th>\n",
       "      <td>0.075</td>\n",
       "      <td>2012.0</td>\n",
       "      <td>Winona</td>\n",
       "    </tr>\n",
       "    <tr>\n",
       "      <th>2621</th>\n",
       "      <td>0.075</td>\n",
       "      <td>2016.0</td>\n",
       "      <td>Winona</td>\n",
       "    </tr>\n",
       "    <tr>\n",
       "      <th>2622</th>\n",
       "      <td>0.607</td>\n",
       "      <td>2012.0</td>\n",
       "      <td>Yellow Creek</td>\n",
       "    </tr>\n",
       "  </tbody>\n",
       "</table>\n",
       "<p>1272 rows × 3 columns</p>\n",
       "</div>"
      ],
      "text/plain": [
       "      mc_ppb    year     lake_name\n",
       "1      0.075  2018.0    Beaver Dam\n",
       "2      0.075  2018.0    Beaver Dam\n",
       "3      0.075  2018.0    Beaver Dam\n",
       "4      0.075  2018.0    Beaver Dam\n",
       "5      0.075  2020.0    Beaver Dam\n",
       "...      ...     ...           ...\n",
       "2618   0.075  2010.0        Winona\n",
       "2619   0.075  2010.0        Winona\n",
       "2620   0.075  2012.0        Winona\n",
       "2621   0.075  2016.0        Winona\n",
       "2622   0.607  2012.0  Yellow Creek\n",
       "\n",
       "[1272 rows x 3 columns]"
      ]
     },
     "execution_count": 18,
     "metadata": {},
     "output_type": "execute_result"
    }
   ],
   "source": [
    "clean_df['year'] = pd.DatetimeIndex(clean_df['date']).year\n",
    "pv = clean_df[['mc_ppb', 'year', 'lake_name']].dropna()\n",
    "#pv = pv.pivot_table('mc_ppb', index='year', columns='lake_name', aggfunc='mean')\n",
    "pv"
   ]
  },
  {
   "cell_type": "code",
   "execution_count": 11,
   "id": "38b2eb68-0275-4b72-bc5d-57ec1e062f1c",
   "metadata": {
    "slideshow": {
     "slide_type": "skip"
    },
    "tags": []
   },
   "outputs": [
    {
     "data": {
      "text/html": [
       "<div>\n",
       "<style scoped>\n",
       "    .dataframe tbody tr th:only-of-type {\n",
       "        vertical-align: middle;\n",
       "    }\n",
       "\n",
       "    .dataframe tbody tr th {\n",
       "        vertical-align: top;\n",
       "    }\n",
       "\n",
       "    .dataframe thead th {\n",
       "        text-align: right;\n",
       "    }\n",
       "</style>\n",
       "<table border=\"1\" class=\"dataframe\">\n",
       "  <thead>\n",
       "    <tr style=\"text-align: right;\">\n",
       "      <th></th>\n",
       "      <th>mc_ppb</th>\n",
       "      <th>year</th>\n",
       "      <th>lake_name</th>\n",
       "      <th>high</th>\n",
       "    </tr>\n",
       "  </thead>\n",
       "  <tbody>\n",
       "    <tr>\n",
       "      <th>1</th>\n",
       "      <td>0.075</td>\n",
       "      <td>2018.0</td>\n",
       "      <td>Beaver Dam</td>\n",
       "      <td>0</td>\n",
       "    </tr>\n",
       "    <tr>\n",
       "      <th>2</th>\n",
       "      <td>0.075</td>\n",
       "      <td>2018.0</td>\n",
       "      <td>Beaver Dam</td>\n",
       "      <td>0</td>\n",
       "    </tr>\n",
       "    <tr>\n",
       "      <th>3</th>\n",
       "      <td>0.075</td>\n",
       "      <td>2018.0</td>\n",
       "      <td>Beaver Dam</td>\n",
       "      <td>0</td>\n",
       "    </tr>\n",
       "    <tr>\n",
       "      <th>4</th>\n",
       "      <td>0.075</td>\n",
       "      <td>2018.0</td>\n",
       "      <td>Beaver Dam</td>\n",
       "      <td>0</td>\n",
       "    </tr>\n",
       "    <tr>\n",
       "      <th>5</th>\n",
       "      <td>0.075</td>\n",
       "      <td>2020.0</td>\n",
       "      <td>Beaver Dam</td>\n",
       "      <td>0</td>\n",
       "    </tr>\n",
       "  </tbody>\n",
       "</table>\n",
       "</div>"
      ],
      "text/plain": [
       "   mc_ppb    year   lake_name  high\n",
       "1   0.075  2018.0  Beaver Dam     0\n",
       "2   0.075  2018.0  Beaver Dam     0\n",
       "3   0.075  2018.0  Beaver Dam     0\n",
       "4   0.075  2018.0  Beaver Dam     0\n",
       "5   0.075  2020.0  Beaver Dam     0"
      ]
     },
     "execution_count": 11,
     "metadata": {},
     "output_type": "execute_result"
    }
   ],
   "source": [
    "pv['high'] = pv[['mc_ppb']] > 1.5\n",
    "pv[\"high\"] = pv[\"high\"].astype(int)\n",
    "pv.head()"
   ]
  },
  {
   "cell_type": "code",
   "execution_count": 19,
   "id": "8a42908c-6170-4bea-99ee-6877b2982a31",
   "metadata": {
    "slideshow": {
     "slide_type": "skip"
    },
    "tags": []
   },
   "outputs": [
    {
     "data": {
      "text/html": [
       "<div>\n",
       "<style scoped>\n",
       "    .dataframe tbody tr th:only-of-type {\n",
       "        vertical-align: middle;\n",
       "    }\n",
       "\n",
       "    .dataframe tbody tr th {\n",
       "        vertical-align: top;\n",
       "    }\n",
       "\n",
       "    .dataframe thead th {\n",
       "        text-align: right;\n",
       "    }\n",
       "</style>\n",
       "<table border=\"1\" class=\"dataframe\">\n",
       "  <thead>\n",
       "    <tr style=\"text-align: right;\">\n",
       "      <th></th>\n",
       "      <th>lake_name</th>\n",
       "      <th>site_type</th>\n",
       "      <th>id_#</th>\n",
       "      <th>date</th>\n",
       "      <th>time</th>\n",
       "      <th>pw</th>\n",
       "      <th>w</th>\n",
       "      <th>total_depth_m</th>\n",
       "      <th>secchi_depth</th>\n",
       "      <th>depth_m</th>\n",
       "      <th>...</th>\n",
       "      <th>quanta_#</th>\n",
       "      <th>weather_meter_#</th>\n",
       "      <th>fluorometer_#</th>\n",
       "      <th>aquafluor_#</th>\n",
       "      <th>van_dorn_#</th>\n",
       "      <th>unnamed_50</th>\n",
       "      <th>unnamed_51</th>\n",
       "      <th>year</th>\n",
       "      <th>lake_year</th>\n",
       "      <th>high</th>\n",
       "    </tr>\n",
       "  </thead>\n",
       "  <tbody>\n",
       "    <tr>\n",
       "      <th>0</th>\n",
       "      <td>Beaver Dam</td>\n",
       "      <td>Open</td>\n",
       "      <td>21221BEA2</td>\n",
       "      <td>2021-08-09</td>\n",
       "      <td>15:40</td>\n",
       "      <td>S</td>\n",
       "      <td>S</td>\n",
       "      <td>18.5</td>\n",
       "      <td>2.5</td>\n",
       "      <td>0.0</td>\n",
       "      <td>...</td>\n",
       "      <td>NaN</td>\n",
       "      <td>NaN</td>\n",
       "      <td>NaN</td>\n",
       "      <td>NaN</td>\n",
       "      <td>NaN</td>\n",
       "      <td>NaN</td>\n",
       "      <td>NaN</td>\n",
       "      <td>2021.0</td>\n",
       "      <td>Beaver Dam 2021</td>\n",
       "      <td>0</td>\n",
       "    </tr>\n",
       "    <tr>\n",
       "      <th>1</th>\n",
       "      <td>Beaver Dam</td>\n",
       "      <td>Open</td>\n",
       "      <td>18190BEA2</td>\n",
       "      <td>2018-07-09</td>\n",
       "      <td>15:00</td>\n",
       "      <td>S</td>\n",
       "      <td>S</td>\n",
       "      <td>18.0</td>\n",
       "      <td>3.0</td>\n",
       "      <td>0.0</td>\n",
       "      <td>...</td>\n",
       "      <td>NaN</td>\n",
       "      <td>NaN</td>\n",
       "      <td>NaN</td>\n",
       "      <td>NaN</td>\n",
       "      <td>NaN</td>\n",
       "      <td>NaN</td>\n",
       "      <td>NaN</td>\n",
       "      <td>2018.0</td>\n",
       "      <td>Beaver Dam 2018</td>\n",
       "      <td>0</td>\n",
       "    </tr>\n",
       "    <tr>\n",
       "      <th>2</th>\n",
       "      <td>Beaver Dam</td>\n",
       "      <td>Open</td>\n",
       "      <td>18204BEA2</td>\n",
       "      <td>2018-07-23</td>\n",
       "      <td>15:15</td>\n",
       "      <td>R</td>\n",
       "      <td>R</td>\n",
       "      <td>19.0</td>\n",
       "      <td>5.8</td>\n",
       "      <td>0.0</td>\n",
       "      <td>...</td>\n",
       "      <td>NaN</td>\n",
       "      <td>NaN</td>\n",
       "      <td>NaN</td>\n",
       "      <td>NaN</td>\n",
       "      <td>NaN</td>\n",
       "      <td>NaN</td>\n",
       "      <td>NaN</td>\n",
       "      <td>2018.0</td>\n",
       "      <td>Beaver Dam 2018</td>\n",
       "      <td>0</td>\n",
       "    </tr>\n",
       "    <tr>\n",
       "      <th>3</th>\n",
       "      <td>Beaver Dam</td>\n",
       "      <td>Open</td>\n",
       "      <td>18211BEA2</td>\n",
       "      <td>2018-07-31</td>\n",
       "      <td>15:00</td>\n",
       "      <td>O</td>\n",
       "      <td>O</td>\n",
       "      <td>18.6</td>\n",
       "      <td>4.4</td>\n",
       "      <td>0.0</td>\n",
       "      <td>...</td>\n",
       "      <td>NaN</td>\n",
       "      <td>NaN</td>\n",
       "      <td>NaN</td>\n",
       "      <td>NaN</td>\n",
       "      <td>NaN</td>\n",
       "      <td>NaN</td>\n",
       "      <td>NaN</td>\n",
       "      <td>2018.0</td>\n",
       "      <td>Beaver Dam 2018</td>\n",
       "      <td>0</td>\n",
       "    </tr>\n",
       "    <tr>\n",
       "      <th>4</th>\n",
       "      <td>Beaver Dam</td>\n",
       "      <td>Open</td>\n",
       "      <td>18218BEA2</td>\n",
       "      <td>2018-08-06</td>\n",
       "      <td>14:45</td>\n",
       "      <td>S</td>\n",
       "      <td>O</td>\n",
       "      <td>18.8</td>\n",
       "      <td>4.4</td>\n",
       "      <td>0.0</td>\n",
       "      <td>...</td>\n",
       "      <td>NaN</td>\n",
       "      <td>NaN</td>\n",
       "      <td>NaN</td>\n",
       "      <td>NaN</td>\n",
       "      <td>NaN</td>\n",
       "      <td>NaN</td>\n",
       "      <td>NaN</td>\n",
       "      <td>2018.0</td>\n",
       "      <td>Beaver Dam 2018</td>\n",
       "      <td>0</td>\n",
       "    </tr>\n",
       "  </tbody>\n",
       "</table>\n",
       "<p>5 rows × 55 columns</p>\n",
       "</div>"
      ],
      "text/plain": [
       "    lake_name site_type       id_#       date   time pw  w  total_depth_m  \\\n",
       "0  Beaver Dam      Open  21221BEA2 2021-08-09  15:40  S  S           18.5   \n",
       "1  Beaver Dam      Open  18190BEA2 2018-07-09  15:00  S  S           18.0   \n",
       "2  Beaver Dam      Open  18204BEA2 2018-07-23  15:15  R  R           19.0   \n",
       "3  Beaver Dam      Open  18211BEA2 2018-07-31  15:00  O  O           18.6   \n",
       "4  Beaver Dam      Open  18218BEA2 2018-08-06  14:45  S  O           18.8   \n",
       "\n",
       "  secchi_depth  depth_m  ... quanta_#  weather_meter_#  fluorometer_#  \\\n",
       "0          2.5      0.0  ...      NaN              NaN            NaN   \n",
       "1          3.0      0.0  ...      NaN              NaN            NaN   \n",
       "2          5.8      0.0  ...      NaN              NaN            NaN   \n",
       "3          4.4      0.0  ...      NaN              NaN            NaN   \n",
       "4          4.4      0.0  ...      NaN              NaN            NaN   \n",
       "\n",
       "   aquafluor_#  van_dorn_#  unnamed_50 unnamed_51    year        lake_year  \\\n",
       "0          NaN         NaN         NaN        NaN  2021.0  Beaver Dam 2021   \n",
       "1          NaN         NaN         NaN        NaN  2018.0  Beaver Dam 2018   \n",
       "2          NaN         NaN         NaN        NaN  2018.0  Beaver Dam 2018   \n",
       "3          NaN         NaN         NaN        NaN  2018.0  Beaver Dam 2018   \n",
       "4          NaN         NaN         NaN        NaN  2018.0  Beaver Dam 2018   \n",
       "\n",
       "  high  \n",
       "0    0  \n",
       "1    0  \n",
       "2    0  \n",
       "3    0  \n",
       "4    0  \n",
       "\n",
       "[5 rows x 55 columns]"
      ]
     },
     "execution_count": 19,
     "metadata": {},
     "output_type": "execute_result"
    }
   ],
   "source": [
    "clean_df['high'] = clean_df[['mc_ppb']] > 1.5\n",
    "clean_df[\"high\"] = clean_df[\"high\"].astype(int)\n",
    "clean_df.head()"
   ]
  },
  {
   "cell_type": "code",
   "execution_count": 40,
   "id": "e613ddd8-2f3b-4371-9dd8-1b06834954be",
   "metadata": {
    "slideshow": {
     "slide_type": "skip"
    },
    "tags": []
   },
   "outputs": [],
   "source": [
    "#clean_df = pd.merge(clean_df, pv, on=\"lake_name\")"
   ]
  },
  {
   "cell_type": "code",
   "execution_count": 7,
   "id": "9fecfa44-13dd-4908-9adb-ab8261feafd6",
   "metadata": {
    "slideshow": {
     "slide_type": "skip"
    },
    "tags": []
   },
   "outputs": [
    {
     "data": {
      "text/html": [
       "<div>\n",
       "<style scoped>\n",
       "    .dataframe tbody tr th:only-of-type {\n",
       "        vertical-align: middle;\n",
       "    }\n",
       "\n",
       "    .dataframe tbody tr th {\n",
       "        vertical-align: top;\n",
       "    }\n",
       "\n",
       "    .dataframe thead th {\n",
       "        text-align: right;\n",
       "    }\n",
       "</style>\n",
       "<table border=\"1\" class=\"dataframe\">\n",
       "  <thead>\n",
       "    <tr style=\"text-align: right;\">\n",
       "      <th></th>\n",
       "      <th>lake_name</th>\n",
       "      <th>site_type</th>\n",
       "      <th>id_#</th>\n",
       "      <th>date</th>\n",
       "      <th>time</th>\n",
       "      <th>pw</th>\n",
       "      <th>w</th>\n",
       "      <th>total_depth_m</th>\n",
       "      <th>secchi_depth</th>\n",
       "      <th>depth_m</th>\n",
       "      <th>...</th>\n",
       "      <th>ss</th>\n",
       "      <th>f</th>\n",
       "      <th>notes</th>\n",
       "      <th>quanta_#</th>\n",
       "      <th>weather_meter_#</th>\n",
       "      <th>fluorometer_#</th>\n",
       "      <th>aquafluor_#</th>\n",
       "      <th>van_dorn_#</th>\n",
       "      <th>unnamed_50</th>\n",
       "      <th>unnamed_51</th>\n",
       "    </tr>\n",
       "  </thead>\n",
       "  <tbody>\n",
       "    <tr>\n",
       "      <th>0</th>\n",
       "      <td>Beaver Dam</td>\n",
       "      <td>Open</td>\n",
       "      <td>21221BEA2</td>\n",
       "      <td>2021-08-09</td>\n",
       "      <td>15:40</td>\n",
       "      <td>S</td>\n",
       "      <td>S</td>\n",
       "      <td>18.5</td>\n",
       "      <td>2.5</td>\n",
       "      <td>0.0</td>\n",
       "      <td>...</td>\n",
       "      <td>NaN</td>\n",
       "      <td>NaN</td>\n",
       "      <td>NaN</td>\n",
       "      <td>NaN</td>\n",
       "      <td>NaN</td>\n",
       "      <td>NaN</td>\n",
       "      <td>NaN</td>\n",
       "      <td>NaN</td>\n",
       "      <td>NaN</td>\n",
       "      <td>NaN</td>\n",
       "    </tr>\n",
       "    <tr>\n",
       "      <th>1</th>\n",
       "      <td>Beaver Dam</td>\n",
       "      <td>Open</td>\n",
       "      <td>18190BEA2</td>\n",
       "      <td>2018-07-09</td>\n",
       "      <td>15:00</td>\n",
       "      <td>S</td>\n",
       "      <td>S</td>\n",
       "      <td>18.0</td>\n",
       "      <td>3.0</td>\n",
       "      <td>0.0</td>\n",
       "      <td>...</td>\n",
       "      <td>NaN</td>\n",
       "      <td>NaN</td>\n",
       "      <td>AQUATIC WEED CONTROL SPRAYED IN THE MORNING (7...</td>\n",
       "      <td>NaN</td>\n",
       "      <td>NaN</td>\n",
       "      <td>NaN</td>\n",
       "      <td>NaN</td>\n",
       "      <td>NaN</td>\n",
       "      <td>NaN</td>\n",
       "      <td>NaN</td>\n",
       "    </tr>\n",
       "    <tr>\n",
       "      <th>2</th>\n",
       "      <td>Beaver Dam</td>\n",
       "      <td>Open</td>\n",
       "      <td>18204BEA2</td>\n",
       "      <td>2018-07-23</td>\n",
       "      <td>15:15</td>\n",
       "      <td>R</td>\n",
       "      <td>R</td>\n",
       "      <td>19.0</td>\n",
       "      <td>5.8</td>\n",
       "      <td>0.0</td>\n",
       "      <td>...</td>\n",
       "      <td>NaN</td>\n",
       "      <td>NaN</td>\n",
       "      <td>NaN</td>\n",
       "      <td>NaN</td>\n",
       "      <td>NaN</td>\n",
       "      <td>NaN</td>\n",
       "      <td>NaN</td>\n",
       "      <td>NaN</td>\n",
       "      <td>NaN</td>\n",
       "      <td>NaN</td>\n",
       "    </tr>\n",
       "    <tr>\n",
       "      <th>3</th>\n",
       "      <td>Beaver Dam</td>\n",
       "      <td>Open</td>\n",
       "      <td>18211BEA2</td>\n",
       "      <td>2018-07-31</td>\n",
       "      <td>15:00</td>\n",
       "      <td>O</td>\n",
       "      <td>O</td>\n",
       "      <td>18.6</td>\n",
       "      <td>4.4</td>\n",
       "      <td>0.0</td>\n",
       "      <td>...</td>\n",
       "      <td>NaN</td>\n",
       "      <td>NaN</td>\n",
       "      <td>NaN</td>\n",
       "      <td>NaN</td>\n",
       "      <td>NaN</td>\n",
       "      <td>NaN</td>\n",
       "      <td>NaN</td>\n",
       "      <td>NaN</td>\n",
       "      <td>NaN</td>\n",
       "      <td>NaN</td>\n",
       "    </tr>\n",
       "    <tr>\n",
       "      <th>4</th>\n",
       "      <td>Beaver Dam</td>\n",
       "      <td>Open</td>\n",
       "      <td>18218BEA2</td>\n",
       "      <td>2018-08-06</td>\n",
       "      <td>14:45</td>\n",
       "      <td>S</td>\n",
       "      <td>O</td>\n",
       "      <td>18.8</td>\n",
       "      <td>4.4</td>\n",
       "      <td>0.0</td>\n",
       "      <td>...</td>\n",
       "      <td>NaN</td>\n",
       "      <td>NaN</td>\n",
       "      <td>NaN</td>\n",
       "      <td>NaN</td>\n",
       "      <td>NaN</td>\n",
       "      <td>NaN</td>\n",
       "      <td>NaN</td>\n",
       "      <td>NaN</td>\n",
       "      <td>NaN</td>\n",
       "      <td>NaN</td>\n",
       "    </tr>\n",
       "    <tr>\n",
       "      <th>...</th>\n",
       "      <td>...</td>\n",
       "      <td>...</td>\n",
       "      <td>...</td>\n",
       "      <td>...</td>\n",
       "      <td>...</td>\n",
       "      <td>...</td>\n",
       "      <td>...</td>\n",
       "      <td>...</td>\n",
       "      <td>...</td>\n",
       "      <td>...</td>\n",
       "      <td>...</td>\n",
       "      <td>...</td>\n",
       "      <td>...</td>\n",
       "      <td>...</td>\n",
       "      <td>...</td>\n",
       "      <td>...</td>\n",
       "      <td>...</td>\n",
       "      <td>...</td>\n",
       "      <td>...</td>\n",
       "      <td>...</td>\n",
       "      <td>...</td>\n",
       "    </tr>\n",
       "    <tr>\n",
       "      <th>24215</th>\n",
       "      <td>NaN</td>\n",
       "      <td>NaN</td>\n",
       "      <td>NaN</td>\n",
       "      <td>NaT</td>\n",
       "      <td>NaN</td>\n",
       "      <td>NaN</td>\n",
       "      <td>NaN</td>\n",
       "      <td>NaN</td>\n",
       "      <td>NaN</td>\n",
       "      <td>NaN</td>\n",
       "      <td>...</td>\n",
       "      <td>NaN</td>\n",
       "      <td>NaN</td>\n",
       "      <td>NaN</td>\n",
       "      <td>NaN</td>\n",
       "      <td>NaN</td>\n",
       "      <td>NaN</td>\n",
       "      <td>NaN</td>\n",
       "      <td>NaN</td>\n",
       "      <td>NaN</td>\n",
       "      <td>NaN</td>\n",
       "    </tr>\n",
       "    <tr>\n",
       "      <th>24216</th>\n",
       "      <td>NaN</td>\n",
       "      <td>NaN</td>\n",
       "      <td>NaN</td>\n",
       "      <td>NaT</td>\n",
       "      <td>NaN</td>\n",
       "      <td>NaN</td>\n",
       "      <td>NaN</td>\n",
       "      <td>NaN</td>\n",
       "      <td>NaN</td>\n",
       "      <td>NaN</td>\n",
       "      <td>...</td>\n",
       "      <td>NaN</td>\n",
       "      <td>NaN</td>\n",
       "      <td>NaN</td>\n",
       "      <td>NaN</td>\n",
       "      <td>NaN</td>\n",
       "      <td>NaN</td>\n",
       "      <td>NaN</td>\n",
       "      <td>NaN</td>\n",
       "      <td>NaN</td>\n",
       "      <td>NaN</td>\n",
       "    </tr>\n",
       "    <tr>\n",
       "      <th>24217</th>\n",
       "      <td>NaN</td>\n",
       "      <td>NaN</td>\n",
       "      <td>NaN</td>\n",
       "      <td>NaT</td>\n",
       "      <td>NaN</td>\n",
       "      <td>NaN</td>\n",
       "      <td>NaN</td>\n",
       "      <td>NaN</td>\n",
       "      <td>NaN</td>\n",
       "      <td>NaN</td>\n",
       "      <td>...</td>\n",
       "      <td>NaN</td>\n",
       "      <td>NaN</td>\n",
       "      <td>NaN</td>\n",
       "      <td>NaN</td>\n",
       "      <td>NaN</td>\n",
       "      <td>NaN</td>\n",
       "      <td>NaN</td>\n",
       "      <td>NaN</td>\n",
       "      <td>NaN</td>\n",
       "      <td>NaN</td>\n",
       "    </tr>\n",
       "    <tr>\n",
       "      <th>24218</th>\n",
       "      <td>NaN</td>\n",
       "      <td>NaN</td>\n",
       "      <td>NaN</td>\n",
       "      <td>NaT</td>\n",
       "      <td>NaN</td>\n",
       "      <td>NaN</td>\n",
       "      <td>NaN</td>\n",
       "      <td>NaN</td>\n",
       "      <td>NaN</td>\n",
       "      <td>NaN</td>\n",
       "      <td>...</td>\n",
       "      <td>NaN</td>\n",
       "      <td>NaN</td>\n",
       "      <td>NaN</td>\n",
       "      <td>NaN</td>\n",
       "      <td>NaN</td>\n",
       "      <td>NaN</td>\n",
       "      <td>NaN</td>\n",
       "      <td>NaN</td>\n",
       "      <td>NaN</td>\n",
       "      <td>NaN</td>\n",
       "    </tr>\n",
       "    <tr>\n",
       "      <th>24219</th>\n",
       "      <td>Beaver Dam</td>\n",
       "      <td>Open</td>\n",
       "      <td>16253BEA2</td>\n",
       "      <td>2016-09-09</td>\n",
       "      <td>13:37</td>\n",
       "      <td>R</td>\n",
       "      <td>O</td>\n",
       "      <td>18.4</td>\n",
       "      <td>4.6</td>\n",
       "      <td>NaN</td>\n",
       "      <td>...</td>\n",
       "      <td>NaN</td>\n",
       "      <td>NaN</td>\n",
       "      <td>NaN</td>\n",
       "      <td>NaN</td>\n",
       "      <td>NaN</td>\n",
       "      <td>NaN</td>\n",
       "      <td>NaN</td>\n",
       "      <td>NaN</td>\n",
       "      <td>NaN</td>\n",
       "      <td>NaN</td>\n",
       "    </tr>\n",
       "  </tbody>\n",
       "</table>\n",
       "<p>24220 rows × 52 columns</p>\n",
       "</div>"
      ],
      "text/plain": [
       "        lake_name site_type       id_#       date   time   pw    w  \\\n",
       "0      Beaver Dam      Open  21221BEA2 2021-08-09  15:40    S    S   \n",
       "1      Beaver Dam      Open  18190BEA2 2018-07-09  15:00    S    S   \n",
       "2      Beaver Dam      Open  18204BEA2 2018-07-23  15:15    R    R   \n",
       "3      Beaver Dam      Open  18211BEA2 2018-07-31  15:00    O    O   \n",
       "4      Beaver Dam      Open  18218BEA2 2018-08-06  14:45    S    O   \n",
       "...           ...       ...        ...        ...    ...  ...  ...   \n",
       "24215         NaN       NaN        NaN        NaT    NaN  NaN  NaN   \n",
       "24216         NaN       NaN        NaN        NaT    NaN  NaN  NaN   \n",
       "24217         NaN       NaN        NaN        NaT    NaN  NaN  NaN   \n",
       "24218         NaN       NaN        NaN        NaT    NaN  NaN  NaN   \n",
       "24219  Beaver Dam      Open  16253BEA2 2016-09-09  13:37    R    O   \n",
       "\n",
       "       total_depth_m secchi_depth  depth_m  ...  ss   f  \\\n",
       "0               18.5          2.5      0.0  ... NaN NaN   \n",
       "1               18.0          3.0      0.0  ... NaN NaN   \n",
       "2               19.0          5.8      0.0  ... NaN NaN   \n",
       "3               18.6          4.4      0.0  ... NaN NaN   \n",
       "4               18.8          4.4      0.0  ... NaN NaN   \n",
       "...              ...          ...      ...  ...  ..  ..   \n",
       "24215            NaN          NaN      NaN  ... NaN NaN   \n",
       "24216            NaN          NaN      NaN  ... NaN NaN   \n",
       "24217            NaN          NaN      NaN  ... NaN NaN   \n",
       "24218            NaN          NaN      NaN  ... NaN NaN   \n",
       "24219           18.4          4.6      NaN  ... NaN NaN   \n",
       "\n",
       "                                                   notes  quanta_#  \\\n",
       "0                                                    NaN       NaN   \n",
       "1      AQUATIC WEED CONTROL SPRAYED IN THE MORNING (7...       NaN   \n",
       "2                                                    NaN       NaN   \n",
       "3                                                    NaN       NaN   \n",
       "4                                                    NaN       NaN   \n",
       "...                                                  ...       ...   \n",
       "24215                                                NaN       NaN   \n",
       "24216                                                NaN       NaN   \n",
       "24217                                                NaN       NaN   \n",
       "24218                                                NaN       NaN   \n",
       "24219                                                NaN       NaN   \n",
       "\n",
       "       weather_meter_#  fluorometer_# aquafluor_# van_dorn_# unnamed_50  \\\n",
       "0                  NaN            NaN         NaN        NaN        NaN   \n",
       "1                  NaN            NaN         NaN        NaN        NaN   \n",
       "2                  NaN            NaN         NaN        NaN        NaN   \n",
       "3                  NaN            NaN         NaN        NaN        NaN   \n",
       "4                  NaN            NaN         NaN        NaN        NaN   \n",
       "...                ...            ...         ...        ...        ...   \n",
       "24215              NaN            NaN         NaN        NaN        NaN   \n",
       "24216              NaN            NaN         NaN        NaN        NaN   \n",
       "24217              NaN            NaN         NaN        NaN        NaN   \n",
       "24218              NaN            NaN         NaN        NaN        NaN   \n",
       "24219              NaN            NaN         NaN        NaN        NaN   \n",
       "\n",
       "      unnamed_51  \n",
       "0            NaN  \n",
       "1            NaN  \n",
       "2            NaN  \n",
       "3            NaN  \n",
       "4            NaN  \n",
       "...          ...  \n",
       "24215        NaN  \n",
       "24216        NaN  \n",
       "24217        NaN  \n",
       "24218        NaN  \n",
       "24219        NaN  \n",
       "\n",
       "[24220 rows x 52 columns]"
      ]
     },
     "execution_count": 7,
     "metadata": {},
     "output_type": "execute_result"
    }
   ],
   "source": [
    "clean_df"
   ]
  },
  {
   "cell_type": "code",
   "execution_count": 204,
   "id": "a4209d21-7042-4001-9945-c81c5b19f558",
   "metadata": {
    "slideshow": {
     "slide_type": "skip"
    },
    "tags": []
   },
   "outputs": [
    {
     "data": {
      "text/html": [
       "<div>\n",
       "<style scoped>\n",
       "    .dataframe tbody tr th:only-of-type {\n",
       "        vertical-align: middle;\n",
       "    }\n",
       "\n",
       "    .dataframe tbody tr th {\n",
       "        vertical-align: top;\n",
       "    }\n",
       "\n",
       "    .dataframe thead th {\n",
       "        text-align: right;\n",
       "    }\n",
       "</style>\n",
       "<table border=\"1\" class=\"dataframe\">\n",
       "  <thead>\n",
       "    <tr style=\"text-align: right;\">\n",
       "      <th></th>\n",
       "      <th>do_mg_l</th>\n",
       "      <th>mc_ppb</th>\n",
       "      <th>water_temp_cel_s</th>\n",
       "      <th>p_h</th>\n",
       "      <th>bar_p_mbar</th>\n",
       "      <th>secchi_depth</th>\n",
       "      <th>high</th>\n",
       "    </tr>\n",
       "  </thead>\n",
       "  <tbody>\n",
       "    <tr>\n",
       "      <th>1</th>\n",
       "      <td>8.75</td>\n",
       "      <td>0.075</td>\n",
       "      <td>28.83</td>\n",
       "      <td>8.84</td>\n",
       "      <td>1021.5</td>\n",
       "      <td>3.0</td>\n",
       "      <td>0</td>\n",
       "    </tr>\n",
       "    <tr>\n",
       "      <th>2</th>\n",
       "      <td>7.27</td>\n",
       "      <td>0.075</td>\n",
       "      <td>25.21</td>\n",
       "      <td>9.13</td>\n",
       "      <td>1011.6</td>\n",
       "      <td>5.8</td>\n",
       "      <td>0</td>\n",
       "    </tr>\n",
       "    <tr>\n",
       "      <th>3</th>\n",
       "      <td>8.55</td>\n",
       "      <td>0.075</td>\n",
       "      <td>25.10</td>\n",
       "      <td>8.42</td>\n",
       "      <td>1017.6</td>\n",
       "      <td>4.4</td>\n",
       "      <td>0</td>\n",
       "    </tr>\n",
       "    <tr>\n",
       "      <th>4</th>\n",
       "      <td>9.30</td>\n",
       "      <td>0.075</td>\n",
       "      <td>28.77</td>\n",
       "      <td>8.53</td>\n",
       "      <td>1015.4</td>\n",
       "      <td>4.4</td>\n",
       "      <td>0</td>\n",
       "    </tr>\n",
       "    <tr>\n",
       "      <th>5</th>\n",
       "      <td>13.83</td>\n",
       "      <td>0.075</td>\n",
       "      <td>22.40</td>\n",
       "      <td>9.14</td>\n",
       "      <td>1024.2</td>\n",
       "      <td>1.6</td>\n",
       "      <td>0</td>\n",
       "    </tr>\n",
       "  </tbody>\n",
       "</table>\n",
       "</div>"
      ],
      "text/plain": [
       "   do_mg_l  mc_ppb  water_temp_cel_s   p_h  bar_p_mbar secchi_depth  high\n",
       "1     8.75   0.075             28.83  8.84      1021.5          3.0     0\n",
       "2     7.27   0.075             25.21  9.13      1011.6          5.8     0\n",
       "3     8.55   0.075             25.10  8.42      1017.6          4.4     0\n",
       "4     9.30   0.075             28.77  8.53      1015.4          4.4     0\n",
       "5    13.83   0.075             22.40  9.14      1024.2          1.6     0"
      ]
     },
     "execution_count": 204,
     "metadata": {},
     "output_type": "execute_result"
    }
   ],
   "source": [
    "logreg = clean_df[[\"do_mg_l\", \"mc_ppb\", \"water_temp_cel_s\", 'p_h','bar_p_mbar','secchi_depth', 'high']].dropna()\n",
    "logreg.head()"
   ]
  },
  {
   "cell_type": "markdown",
   "id": "572344e8-9bcc-4018-8bac-48ba95b93a57",
   "metadata": {
    "slideshow": {
     "slide_type": "slide"
    },
    "tags": []
   },
   "source": [
    "# It's important to note before that our data does not appear to be normally distributed for the variables that proved to create the best model"
   ]
  },
  {
   "cell_type": "code",
   "execution_count": 205,
   "id": "411a2e0c-f3ca-473d-8027-fd7184fedd54",
   "metadata": {},
   "outputs": [
    {
     "data": {
      "image/png": "[encoded data removed]",
      "text/plain": [
       "<Figure size 640x480 with 4 Axes>"
      ]
     },
     "metadata": {},
     "output_type": "display_data"
    }
   ],
   "source": [
    "viz = clean_df[[\"do_mg_l\", \"mc_ppb\", \"water_temp_cel_s\", \"p_h\"]]\n",
    "viz.hist(bins=[0,5,10,15,20,25])\n",
    "plt.show()"
   ]
  },
  {
   "cell_type": "markdown",
   "id": "f01aa7b7-0e90-4080-a777-49688c67923d",
   "metadata": {
    "slideshow": {
     "slide_type": "slide"
    },
    "tags": []
   },
   "source": [
    "# We started by trying simple linear regression using variables such as dissolved oxygen, water temperature, ph, and microcystin and did not receive convincing results. "
   ]
  },
  {
   "cell_type": "markdown",
   "id": "d1e47258-8c61-49d5-9ae3-867293e86289",
   "metadata": {
    "slideshow": {
     "slide_type": "slide"
    },
    "tags": []
   },
   "source": [
    "# The most useful model to predict microcystin was using logistic regression. For this model, we defined a microcystin value greater than 1.5 to be considered high"
   ]
  },
  {
   "cell_type": "markdown",
   "id": "9c747035-8036-4a8d-99d1-0a942dc0042a",
   "metadata": {
    "slideshow": {
     "slide_type": "subslide"
    },
    "tags": []
   },
   "source": [
    "## We define variables we want to use to predict high or low values as our x and our high or low values as our y"
   ]
  },
  {
   "cell_type": "code",
   "execution_count": 219,
   "id": "e29d3492-dc97-4fdc-a10e-f7278dc84a2e",
   "metadata": {
    "tags": []
   },
   "outputs": [
    {
     "data": {
      "text/plain": [
       "array([[ 8.75, 28.83,  8.84],\n",
       "       [ 7.27, 25.21,  9.13],\n",
       "       [ 8.55, 25.1 ,  8.42],\n",
       "       [ 9.3 , 28.77,  8.53],\n",
       "       [13.83, 22.4 ,  9.14]])"
      ]
     },
     "execution_count": 219,
     "metadata": {},
     "output_type": "execute_result"
    }
   ],
   "source": [
    "X = np.asarray(logreg[[\"do_mg_l\", \"water_temp_cel_s\", 'p_h']])\n",
    "X[0:5]"
   ]
  },
  {
   "cell_type": "code",
   "execution_count": 220,
   "id": "841092bb-3de5-42b4-8b07-f130fb938281",
   "metadata": {
    "tags": []
   },
   "outputs": [
    {
     "data": {
      "text/plain": [
       "array([0, 0, 0, 0, 0])"
      ]
     },
     "execution_count": 220,
     "metadata": {},
     "output_type": "execute_result"
    }
   ],
   "source": [
    "y = np.asarray(logreg['high'])\n",
    "y [0:5]"
   ]
  },
  {
   "cell_type": "markdown",
   "id": "05f60768-8973-42b7-96bd-5a1a52b1afb6",
   "metadata": {
    "slideshow": {
     "slide_type": "subslide"
    },
    "tags": []
   },
   "source": [
    "## Normalizing the dataset helps ensure we are working with data that has a bell shaped curve"
   ]
  },
  {
   "cell_type": "code",
   "execution_count": 221,
   "id": "239ec253-05df-4a65-be3d-94c4d77da115",
   "metadata": {
    "tags": []
   },
   "outputs": [
    {
     "data": {
      "text/plain": [
       "array([[ 0.05,  1.35,  0.38],\n",
       "       [-0.94, -0.02,  0.91],\n",
       "       [-0.09, -0.06, -0.39],\n",
       "       [ 0.42,  1.33, -0.18],\n",
       "       [ 3.45, -1.09,  0.93]])"
      ]
     },
     "execution_count": 221,
     "metadata": {},
     "output_type": "execute_result"
    }
   ],
   "source": [
    "# Normalize dataset\n",
    "from sklearn import preprocessing\n",
    "X = preprocessing.StandardScaler().fit(X).transform(X)\n",
    "X[0:5]"
   ]
  },
  {
   "cell_type": "markdown",
   "id": "3fb0893f-b3ba-4f52-9f1e-441376871c3e",
   "metadata": {
    "slideshow": {
     "slide_type": "subslide"
    },
    "tags": []
   },
   "source": [
    "## Logistic regression uses the technique of \"supervised learning\". We split our dataset into a train and test set. "
   ]
  },
  {
   "cell_type": "code",
   "execution_count": 222,
   "id": "54254882-29ba-4411-bedb-4fcb36466cc0",
   "metadata": {
    "tags": []
   },
   "outputs": [
    {
     "name": "stdout",
     "output_type": "stream",
     "text": [
      "Train set: (616, 3) (616,)\n",
      "Test set: (155, 3) (155,)\n"
     ]
    }
   ],
   "source": [
    "from sklearn.model_selection import train_test_split\n",
    "X_train, X_test, y_train, y_test = train_test_split( X, y, test_size=0.2, random_state=4)\n",
    "print ('Train set:', X_train.shape,  y_train.shape)\n",
    "print ('Test set:', X_test.shape,  y_test.shape)"
   ]
  },
  {
   "cell_type": "code",
   "execution_count": 223,
   "id": "31910ef7-fbab-44ef-8d8d-c105068515c7",
   "metadata": {
    "tags": []
   },
   "outputs": [
    {
     "data": {
      "text/plain": [
       "LogisticRegression(C=0.01, solver='liblinear')"
      ]
     },
     "execution_count": 223,
     "metadata": {},
     "output_type": "execute_result"
    }
   ],
   "source": [
    "from sklearn.linear_model import LogisticRegression\n",
    "from sklearn.metrics import confusion_matrix\n",
    "LR = LogisticRegression(C=0.01, solver='liblinear').fit(X_train,y_train)\n",
    "LR"
   ]
  },
  {
   "cell_type": "code",
   "execution_count": 224,
   "id": "7740e5c4-bd6e-4e33-926a-4ebe04b07d77",
   "metadata": {
    "tags": []
   },
   "outputs": [
    {
     "data": {
      "text/plain": [
       "array([0, 0, 0, 0, 0, 0, 0, 0, 0, 0, 0, 0, 0, 0, 0, 0, 0, 0, 0, 0, 0, 0,\n",
       "       0, 0, 0, 0, 0, 0, 0, 0, 0, 0, 0, 0, 0, 0, 0, 0, 0, 0, 0, 0, 0, 0,\n",
       "       0, 0, 0, 0, 0, 0, 0, 0, 0, 0, 0, 0, 0, 0, 0, 0, 0, 0, 0, 0, 0, 0,\n",
       "       0, 0, 0, 0, 0, 0, 0, 0, 0, 0, 0, 0, 0, 0, 0, 0, 0, 0, 0, 0, 0, 0,\n",
       "       0, 0, 0, 0, 0, 0, 0, 0, 0, 0, 0, 0, 0, 0, 0, 0, 0, 0, 0, 0, 0, 0,\n",
       "       0, 0, 0, 0, 0, 0, 0, 0, 0, 0, 0, 0, 0, 0, 0, 0, 0, 0, 0, 0, 0, 0,\n",
       "       0, 0, 0, 0, 0, 0, 0, 0, 0, 0, 0, 0, 0, 0, 0, 0, 0, 0, 0, 0, 0, 0,\n",
       "       0])"
      ]
     },
     "execution_count": 224,
     "metadata": {},
     "output_type": "execute_result"
    }
   ],
   "source": [
    "yhat = LR.predict(X_test)\n",
    "yhat"
   ]
  },
  {
   "cell_type": "code",
   "execution_count": 225,
   "id": "4f8b2649-6785-4c64-9fe0-bcc4af936e3a",
   "metadata": {
    "tags": []
   },
   "outputs": [
    {
     "data": {
      "text/plain": [
       "array([[0.75, 0.25],\n",
       "       [0.74, 0.26],\n",
       "       [0.75, 0.25],\n",
       "       [0.76, 0.24],\n",
       "       [0.76, 0.24]])"
      ]
     },
     "execution_count": 225,
     "metadata": {},
     "output_type": "execute_result"
    }
   ],
   "source": [
    "yhat_prob = LR.predict_proba(X_test)\n",
    "yhat_prob[0:5]"
   ]
  },
  {
   "cell_type": "markdown",
   "id": "74a9af2c-4fb5-4ac2-9337-bf0d1413a06e",
   "metadata": {
    "slideshow": {
     "slide_type": "subslide"
    },
    "tags": []
   },
   "source": [
    "#### Let's try the jaccard index for accuracy evaluation. we can define jaccard as the size of the intersection divided by the size of the union of the two label sets. If the entire set of predicted labels for a sample strictly matches with the true set of labels, then the subset accuracy is 1.0; otherwise it is 0.0."
   ]
  },
  {
   "cell_type": "code",
   "execution_count": 226,
   "id": "c38a1d56-4403-4fb0-85c9-dfa4eac5eef9",
   "metadata": {
    "tags": []
   },
   "outputs": [
    {
     "data": {
      "text/plain": [
       "0.8903225806451613"
      ]
     },
     "execution_count": 226,
     "metadata": {},
     "output_type": "execute_result"
    }
   ],
   "source": [
    "from sklearn.metrics import jaccard_score\n",
    "jaccard_score(y_test, yhat,pos_label=0)"
   ]
  },
  {
   "cell_type": "code",
   "execution_count": 227,
   "id": "bbc06142-a4ce-45a0-b9ce-cad91d3ea7a5",
   "metadata": {
    "slideshow": {
     "slide_type": "subslide"
    },
    "tags": []
   },
   "outputs": [
    {
     "name": "stdout",
     "output_type": "stream",
     "text": [
      "[[  0  17]\n",
      " [  0 138]]\n"
     ]
    }
   ],
   "source": [
    "from sklearn.metrics import classification_report, confusion_matrix\n",
    "import itertools\n",
    "def plot_confusion_matrix(cm, classes,\n",
    "                          normalize=False,\n",
    "                          title='Confusion matrix',\n",
    "                          cmap=plt.cm.Blues):\n",
    "    \"\"\"\n",
    "    This function prints and plots the confusion matrix.\n",
    "    Normalization can be applied by setting `normalize=True`.\n",
    "    \"\"\"\n",
    "    if normalize:\n",
    "        cm = cm.astype('float') / cm.sum(axis=1)[:, np.newaxis]\n",
    "        print(\"Normalized confusion matrix\")\n",
    "    else:\n",
    "        print('Confusion matrix, without normalization')\n",
    "\n",
    "    print(cm)\n",
    "\n",
    "    plt.imshow(cm, interpolation='nearest', cmap=cmap)\n",
    "    plt.title(title)\n",
    "    plt.colorbar()\n",
    "    tick_marks = np.arange(len(classes))\n",
    "    plt.xticks(tick_marks, classes, rotation=45)\n",
    "    plt.yticks(tick_marks, classes)\n",
    "\n",
    "    fmt = '.2f' if normalize else 'd'\n",
    "    thresh = cm.max() / 2.\n",
    "    for i, j in itertools.product(range(cm.shape[0]), range(cm.shape[1])):\n",
    "        plt.text(j, i, format(cm[i, j], fmt),\n",
    "                 horizontalalignment=\"center\",\n",
    "                 color=\"white\" if cm[i, j] > thresh else \"black\")\n",
    "\n",
    "    plt.tight_layout()\n",
    "    plt.ylabel('True label')\n",
    "    plt.xlabel('Predicted label')\n",
    "print(confusion_matrix(y_test, yhat, labels=[1,0]))"
   ]
  },
  {
   "cell_type": "code",
   "execution_count": 228,
   "id": "07b6c719-47c1-4084-8070-266e4f63eaaa",
   "metadata": {
    "slideshow": {
     "slide_type": "subslide"
    },
    "tags": []
   },
   "outputs": [
    {
     "name": "stdout",
     "output_type": "stream",
     "text": [
      "Confusion matrix, without normalization\n",
      "[[  0  17]\n",
      " [  0 138]]\n"
     ]
    },
    {
     "data": {
      "image/png": "[encoded data removed]",
      "text/plain": [
       "<Figure size 640x480 with 2 Axes>"
      ]
     },
     "metadata": {},
     "output_type": "display_data"
    }
   ],
   "source": [
    "# Compute confusion matrix\n",
    "cnf_matrix = confusion_matrix(y_test, yhat, labels=[1,0])\n",
    "np.set_printoptions(precision=2)\n",
    "plt.figure()\n",
    "plot_confusion_matrix(cnf_matrix, classes=['high','low'],normalize= False,  title='Confusion matrix')"
   ]
  },
  {
   "cell_type": "markdown",
   "id": "c2a0ab04-a0ba-44c9-8b19-b586a1c89162",
   "metadata": {
    "slideshow": {
     "slide_type": "subslide"
    },
    "tags": []
   },
   "source": [
    "## Correctly predicted 7 that were high, wrongly predicted 8 that were actually low."
   ]
  },
  {
   "cell_type": "markdown",
   "id": "3aaaa177-6182-4ba8-aaab-c63298438319",
   "metadata": {
    "tags": []
   },
   "source": [
    "### Correctly predicted 226 that were low"
   ]
  },
  {
   "cell_type": "code",
   "execution_count": 24,
   "id": "e3123e44-2216-42b0-a811-af8aaefe7cda",
   "metadata": {
    "tags": []
   },
   "outputs": [
    {
     "name": "stdout",
     "output_type": "stream",
     "text": [
      "              precision    recall  f1-score   support\n",
      "\n",
      "           0       0.97      1.00      0.98       226\n",
      "           1       1.00      0.47      0.64        15\n",
      "\n",
      "    accuracy                           0.97       241\n",
      "   macro avg       0.98      0.73      0.81       241\n",
      "weighted avg       0.97      0.97      0.96       241\n",
      "\n"
     ]
    }
   ],
   "source": [
    "print (classification_report(y_test, yhat))"
   ]
  },
  {
   "cell_type": "markdown",
   "id": "00dd615a-5b7b-45a0-9d99-a2519f9a4bd5",
   "metadata": {
    "slideshow": {
     "slide_type": "slide"
    },
    "tags": []
   },
   "source": [
    "# Lets run the test, considering a high value for microcystin to be 1ppb"
   ]
  },
  {
   "cell_type": "code",
   "execution_count": 32,
   "id": "357ae069-6e7b-4467-9b0e-8327c799075b",
   "metadata": {
    "slideshow": {
     "slide_type": "skip"
    },
    "tags": []
   },
   "outputs": [
    {
     "data": {
      "text/html": [
       "<pre style=\"white-space:pre;overflow-x:auto;line-height:normal;font-family:Menlo,'DejaVu Sans Mono',consolas,'Courier New',monospace\"><span style=\"color: #008080; text-decoration-color: #008080; font-weight: bold\">52</span> column names have been cleaned\n",
       "</pre>\n"
      ],
      "text/plain": [
       "\u001b[1;36m52\u001b[0m column names have been cleaned\n"
      ]
     },
     "metadata": {},
     "output_type": "display_data"
    },
    {
     "data": {
      "text/html": [
       "<div>\n",
       "<style scoped>\n",
       "    .dataframe tbody tr th:only-of-type {\n",
       "        vertical-align: middle;\n",
       "    }\n",
       "\n",
       "    .dataframe tbody tr th {\n",
       "        vertical-align: top;\n",
       "    }\n",
       "\n",
       "    .dataframe thead th {\n",
       "        text-align: right;\n",
       "    }\n",
       "</style>\n",
       "<table border=\"1\" class=\"dataframe\">\n",
       "  <thead>\n",
       "    <tr style=\"text-align: right;\">\n",
       "      <th></th>\n",
       "      <th>lake_name</th>\n",
       "      <th>site_type</th>\n",
       "      <th>id_#</th>\n",
       "      <th>date</th>\n",
       "      <th>time</th>\n",
       "      <th>pw</th>\n",
       "      <th>w</th>\n",
       "      <th>total_depth_m</th>\n",
       "      <th>secchi_depth</th>\n",
       "      <th>depth_m</th>\n",
       "      <th>...</th>\n",
       "      <th>ss</th>\n",
       "      <th>f</th>\n",
       "      <th>notes</th>\n",
       "      <th>quanta_#</th>\n",
       "      <th>weather_meter_#</th>\n",
       "      <th>fluorometer_#</th>\n",
       "      <th>aquafluor_#</th>\n",
       "      <th>van_dorn_#</th>\n",
       "      <th>unnamed_50</th>\n",
       "      <th>unnamed_51</th>\n",
       "    </tr>\n",
       "  </thead>\n",
       "  <tbody>\n",
       "    <tr>\n",
       "      <th>0</th>\n",
       "      <td>Beaver Dam</td>\n",
       "      <td>Open</td>\n",
       "      <td>21221BEA2</td>\n",
       "      <td>2021-08-09</td>\n",
       "      <td>15:40</td>\n",
       "      <td>S</td>\n",
       "      <td>S</td>\n",
       "      <td>18.5</td>\n",
       "      <td>2.5</td>\n",
       "      <td>0.0</td>\n",
       "      <td>...</td>\n",
       "      <td>NaN</td>\n",
       "      <td>NaN</td>\n",
       "      <td>NaN</td>\n",
       "      <td>NaN</td>\n",
       "      <td>NaN</td>\n",
       "      <td>NaN</td>\n",
       "      <td>NaN</td>\n",
       "      <td>NaN</td>\n",
       "      <td>NaN</td>\n",
       "      <td>NaN</td>\n",
       "    </tr>\n",
       "    <tr>\n",
       "      <th>1</th>\n",
       "      <td>Beaver Dam</td>\n",
       "      <td>Open</td>\n",
       "      <td>18190BEA2</td>\n",
       "      <td>2018-07-09</td>\n",
       "      <td>15:00</td>\n",
       "      <td>S</td>\n",
       "      <td>S</td>\n",
       "      <td>18.0</td>\n",
       "      <td>3.0</td>\n",
       "      <td>0.0</td>\n",
       "      <td>...</td>\n",
       "      <td>NaN</td>\n",
       "      <td>NaN</td>\n",
       "      <td>AQUATIC WEED CONTROL SPRAYED IN THE MORNING (7...</td>\n",
       "      <td>NaN</td>\n",
       "      <td>NaN</td>\n",
       "      <td>NaN</td>\n",
       "      <td>NaN</td>\n",
       "      <td>NaN</td>\n",
       "      <td>NaN</td>\n",
       "      <td>NaN</td>\n",
       "    </tr>\n",
       "    <tr>\n",
       "      <th>2</th>\n",
       "      <td>Beaver Dam</td>\n",
       "      <td>Open</td>\n",
       "      <td>18204BEA2</td>\n",
       "      <td>2018-07-23</td>\n",
       "      <td>15:15</td>\n",
       "      <td>R</td>\n",
       "      <td>R</td>\n",
       "      <td>19.0</td>\n",
       "      <td>5.8</td>\n",
       "      <td>0.0</td>\n",
       "      <td>...</td>\n",
       "      <td>NaN</td>\n",
       "      <td>NaN</td>\n",
       "      <td>NaN</td>\n",
       "      <td>NaN</td>\n",
       "      <td>NaN</td>\n",
       "      <td>NaN</td>\n",
       "      <td>NaN</td>\n",
       "      <td>NaN</td>\n",
       "      <td>NaN</td>\n",
       "      <td>NaN</td>\n",
       "    </tr>\n",
       "    <tr>\n",
       "      <th>3</th>\n",
       "      <td>Beaver Dam</td>\n",
       "      <td>Open</td>\n",
       "      <td>18211BEA2</td>\n",
       "      <td>2018-07-31</td>\n",
       "      <td>15:00</td>\n",
       "      <td>O</td>\n",
       "      <td>O</td>\n",
       "      <td>18.6</td>\n",
       "      <td>4.4</td>\n",
       "      <td>0.0</td>\n",
       "      <td>...</td>\n",
       "      <td>NaN</td>\n",
       "      <td>NaN</td>\n",
       "      <td>NaN</td>\n",
       "      <td>NaN</td>\n",
       "      <td>NaN</td>\n",
       "      <td>NaN</td>\n",
       "      <td>NaN</td>\n",
       "      <td>NaN</td>\n",
       "      <td>NaN</td>\n",
       "      <td>NaN</td>\n",
       "    </tr>\n",
       "    <tr>\n",
       "      <th>4</th>\n",
       "      <td>Beaver Dam</td>\n",
       "      <td>Open</td>\n",
       "      <td>18218BEA2</td>\n",
       "      <td>2018-08-06</td>\n",
       "      <td>14:45</td>\n",
       "      <td>S</td>\n",
       "      <td>O</td>\n",
       "      <td>18.8</td>\n",
       "      <td>4.4</td>\n",
       "      <td>0.0</td>\n",
       "      <td>...</td>\n",
       "      <td>NaN</td>\n",
       "      <td>NaN</td>\n",
       "      <td>NaN</td>\n",
       "      <td>NaN</td>\n",
       "      <td>NaN</td>\n",
       "      <td>NaN</td>\n",
       "      <td>NaN</td>\n",
       "      <td>NaN</td>\n",
       "      <td>NaN</td>\n",
       "      <td>NaN</td>\n",
       "    </tr>\n",
       "  </tbody>\n",
       "</table>\n",
       "<p>5 rows × 52 columns</p>\n",
       "</div>"
      ],
      "text/plain": [
       "    lake_name site_type       id_#       date   time pw  w  total_depth_m  \\\n",
       "0  Beaver Dam      Open  21221BEA2 2021-08-09  15:40  S  S           18.5   \n",
       "1  Beaver Dam      Open  18190BEA2 2018-07-09  15:00  S  S           18.0   \n",
       "2  Beaver Dam      Open  18204BEA2 2018-07-23  15:15  R  R           19.0   \n",
       "3  Beaver Dam      Open  18211BEA2 2018-07-31  15:00  O  O           18.6   \n",
       "4  Beaver Dam      Open  18218BEA2 2018-08-06  14:45  S  O           18.8   \n",
       "\n",
       "  secchi_depth  depth_m  ...  ss   f  \\\n",
       "0          2.5      0.0  ... NaN NaN   \n",
       "1          3.0      0.0  ... NaN NaN   \n",
       "2          5.8      0.0  ... NaN NaN   \n",
       "3          4.4      0.0  ... NaN NaN   \n",
       "4          4.4      0.0  ... NaN NaN   \n",
       "\n",
       "                                               notes  quanta_#  \\\n",
       "0                                                NaN       NaN   \n",
       "1  AQUATIC WEED CONTROL SPRAYED IN THE MORNING (7...       NaN   \n",
       "2                                                NaN       NaN   \n",
       "3                                                NaN       NaN   \n",
       "4                                                NaN       NaN   \n",
       "\n",
       "   weather_meter_#  fluorometer_# aquafluor_# van_dorn_# unnamed_50 unnamed_51  \n",
       "0              NaN            NaN         NaN        NaN        NaN        NaN  \n",
       "1              NaN            NaN         NaN        NaN        NaN        NaN  \n",
       "2              NaN            NaN         NaN        NaN        NaN        NaN  \n",
       "3              NaN            NaN         NaN        NaN        NaN        NaN  \n",
       "4              NaN            NaN         NaN        NaN        NaN        NaN  \n",
       "\n",
       "[5 rows x 52 columns]"
      ]
     },
     "execution_count": 32,
     "metadata": {},
     "output_type": "execute_result"
    }
   ],
   "source": [
    "log_df = clean_columns(df)\n",
    "log_df.head()"
   ]
  },
  {
   "cell_type": "code",
   "execution_count": 33,
   "id": "631a4381-2da8-4b4a-981a-da3646d3581e",
   "metadata": {
    "slideshow": {
     "slide_type": "skip"
    },
    "tags": []
   },
   "outputs": [
    {
     "data": {
      "text/html": [
       "<div>\n",
       "<style scoped>\n",
       "    .dataframe tbody tr th:only-of-type {\n",
       "        vertical-align: middle;\n",
       "    }\n",
       "\n",
       "    .dataframe tbody tr th {\n",
       "        vertical-align: top;\n",
       "    }\n",
       "\n",
       "    .dataframe thead th {\n",
       "        text-align: right;\n",
       "    }\n",
       "</style>\n",
       "<table border=\"1\" class=\"dataframe\">\n",
       "  <thead>\n",
       "    <tr style=\"text-align: right;\">\n",
       "      <th></th>\n",
       "      <th>lake_name</th>\n",
       "      <th>site_type</th>\n",
       "      <th>id_#</th>\n",
       "      <th>date</th>\n",
       "      <th>time</th>\n",
       "      <th>pw</th>\n",
       "      <th>w</th>\n",
       "      <th>total_depth_m</th>\n",
       "      <th>secchi_depth</th>\n",
       "      <th>depth_m</th>\n",
       "      <th>...</th>\n",
       "      <th>f</th>\n",
       "      <th>notes</th>\n",
       "      <th>quanta_#</th>\n",
       "      <th>weather_meter_#</th>\n",
       "      <th>fluorometer_#</th>\n",
       "      <th>aquafluor_#</th>\n",
       "      <th>van_dorn_#</th>\n",
       "      <th>unnamed_50</th>\n",
       "      <th>unnamed_51</th>\n",
       "      <th>high</th>\n",
       "    </tr>\n",
       "  </thead>\n",
       "  <tbody>\n",
       "    <tr>\n",
       "      <th>0</th>\n",
       "      <td>Beaver Dam</td>\n",
       "      <td>Open</td>\n",
       "      <td>21221BEA2</td>\n",
       "      <td>2021-08-09</td>\n",
       "      <td>15:40</td>\n",
       "      <td>S</td>\n",
       "      <td>S</td>\n",
       "      <td>18.5</td>\n",
       "      <td>2.5</td>\n",
       "      <td>0.0</td>\n",
       "      <td>...</td>\n",
       "      <td>NaN</td>\n",
       "      <td>NaN</td>\n",
       "      <td>NaN</td>\n",
       "      <td>NaN</td>\n",
       "      <td>NaN</td>\n",
       "      <td>NaN</td>\n",
       "      <td>NaN</td>\n",
       "      <td>NaN</td>\n",
       "      <td>NaN</td>\n",
       "      <td>0</td>\n",
       "    </tr>\n",
       "    <tr>\n",
       "      <th>1</th>\n",
       "      <td>Beaver Dam</td>\n",
       "      <td>Open</td>\n",
       "      <td>18190BEA2</td>\n",
       "      <td>2018-07-09</td>\n",
       "      <td>15:00</td>\n",
       "      <td>S</td>\n",
       "      <td>S</td>\n",
       "      <td>18.0</td>\n",
       "      <td>3.0</td>\n",
       "      <td>0.0</td>\n",
       "      <td>...</td>\n",
       "      <td>NaN</td>\n",
       "      <td>AQUATIC WEED CONTROL SPRAYED IN THE MORNING (7...</td>\n",
       "      <td>NaN</td>\n",
       "      <td>NaN</td>\n",
       "      <td>NaN</td>\n",
       "      <td>NaN</td>\n",
       "      <td>NaN</td>\n",
       "      <td>NaN</td>\n",
       "      <td>NaN</td>\n",
       "      <td>0</td>\n",
       "    </tr>\n",
       "    <tr>\n",
       "      <th>2</th>\n",
       "      <td>Beaver Dam</td>\n",
       "      <td>Open</td>\n",
       "      <td>18204BEA2</td>\n",
       "      <td>2018-07-23</td>\n",
       "      <td>15:15</td>\n",
       "      <td>R</td>\n",
       "      <td>R</td>\n",
       "      <td>19.0</td>\n",
       "      <td>5.8</td>\n",
       "      <td>0.0</td>\n",
       "      <td>...</td>\n",
       "      <td>NaN</td>\n",
       "      <td>NaN</td>\n",
       "      <td>NaN</td>\n",
       "      <td>NaN</td>\n",
       "      <td>NaN</td>\n",
       "      <td>NaN</td>\n",
       "      <td>NaN</td>\n",
       "      <td>NaN</td>\n",
       "      <td>NaN</td>\n",
       "      <td>0</td>\n",
       "    </tr>\n",
       "    <tr>\n",
       "      <th>3</th>\n",
       "      <td>Beaver Dam</td>\n",
       "      <td>Open</td>\n",
       "      <td>18211BEA2</td>\n",
       "      <td>2018-07-31</td>\n",
       "      <td>15:00</td>\n",
       "      <td>O</td>\n",
       "      <td>O</td>\n",
       "      <td>18.6</td>\n",
       "      <td>4.4</td>\n",
       "      <td>0.0</td>\n",
       "      <td>...</td>\n",
       "      <td>NaN</td>\n",
       "      <td>NaN</td>\n",
       "      <td>NaN</td>\n",
       "      <td>NaN</td>\n",
       "      <td>NaN</td>\n",
       "      <td>NaN</td>\n",
       "      <td>NaN</td>\n",
       "      <td>NaN</td>\n",
       "      <td>NaN</td>\n",
       "      <td>0</td>\n",
       "    </tr>\n",
       "    <tr>\n",
       "      <th>4</th>\n",
       "      <td>Beaver Dam</td>\n",
       "      <td>Open</td>\n",
       "      <td>18218BEA2</td>\n",
       "      <td>2018-08-06</td>\n",
       "      <td>14:45</td>\n",
       "      <td>S</td>\n",
       "      <td>O</td>\n",
       "      <td>18.8</td>\n",
       "      <td>4.4</td>\n",
       "      <td>0.0</td>\n",
       "      <td>...</td>\n",
       "      <td>NaN</td>\n",
       "      <td>NaN</td>\n",
       "      <td>NaN</td>\n",
       "      <td>NaN</td>\n",
       "      <td>NaN</td>\n",
       "      <td>NaN</td>\n",
       "      <td>NaN</td>\n",
       "      <td>NaN</td>\n",
       "      <td>NaN</td>\n",
       "      <td>0</td>\n",
       "    </tr>\n",
       "  </tbody>\n",
       "</table>\n",
       "<p>5 rows × 53 columns</p>\n",
       "</div>"
      ],
      "text/plain": [
       "    lake_name site_type       id_#       date   time pw  w  total_depth_m  \\\n",
       "0  Beaver Dam      Open  21221BEA2 2021-08-09  15:40  S  S           18.5   \n",
       "1  Beaver Dam      Open  18190BEA2 2018-07-09  15:00  S  S           18.0   \n",
       "2  Beaver Dam      Open  18204BEA2 2018-07-23  15:15  R  R           19.0   \n",
       "3  Beaver Dam      Open  18211BEA2 2018-07-31  15:00  O  O           18.6   \n",
       "4  Beaver Dam      Open  18218BEA2 2018-08-06  14:45  S  O           18.8   \n",
       "\n",
       "  secchi_depth  depth_m  ...   f  \\\n",
       "0          2.5      0.0  ... NaN   \n",
       "1          3.0      0.0  ... NaN   \n",
       "2          5.8      0.0  ... NaN   \n",
       "3          4.4      0.0  ... NaN   \n",
       "4          4.4      0.0  ... NaN   \n",
       "\n",
       "                                               notes  quanta_#  \\\n",
       "0                                                NaN       NaN   \n",
       "1  AQUATIC WEED CONTROL SPRAYED IN THE MORNING (7...       NaN   \n",
       "2                                                NaN       NaN   \n",
       "3                                                NaN       NaN   \n",
       "4                                                NaN       NaN   \n",
       "\n",
       "   weather_meter_#  fluorometer_#  aquafluor_# van_dorn_# unnamed_50  \\\n",
       "0              NaN            NaN          NaN        NaN        NaN   \n",
       "1              NaN            NaN          NaN        NaN        NaN   \n",
       "2              NaN            NaN          NaN        NaN        NaN   \n",
       "3              NaN            NaN          NaN        NaN        NaN   \n",
       "4              NaN            NaN          NaN        NaN        NaN   \n",
       "\n",
       "  unnamed_51 high  \n",
       "0        NaN    0  \n",
       "1        NaN    0  \n",
       "2        NaN    0  \n",
       "3        NaN    0  \n",
       "4        NaN    0  \n",
       "\n",
       "[5 rows x 53 columns]"
      ]
     },
     "execution_count": 33,
     "metadata": {},
     "output_type": "execute_result"
    }
   ],
   "source": [
    "log_df['high'] = log_df[['mc_ppb']] > 1\n",
    "log_df[\"high\"] = log_df[\"high\"].astype(int)\n",
    "log_df.head()"
   ]
  },
  {
   "cell_type": "code",
   "execution_count": 71,
   "id": "a6f3bf43-6137-49c0-a8b2-f7217df1cbd2",
   "metadata": {
    "slideshow": {
     "slide_type": "skip"
    },
    "tags": []
   },
   "outputs": [
    {
     "data": {
      "text/html": [
       "<div>\n",
       "<style scoped>\n",
       "    .dataframe tbody tr th:only-of-type {\n",
       "        vertical-align: middle;\n",
       "    }\n",
       "\n",
       "    .dataframe tbody tr th {\n",
       "        vertical-align: top;\n",
       "    }\n",
       "\n",
       "    .dataframe thead th {\n",
       "        text-align: right;\n",
       "    }\n",
       "</style>\n",
       "<table border=\"1\" class=\"dataframe\">\n",
       "  <thead>\n",
       "    <tr style=\"text-align: right;\">\n",
       "      <th></th>\n",
       "      <th>do_mg_l</th>\n",
       "      <th>mc_ppb</th>\n",
       "      <th>water_temp_cel_s</th>\n",
       "      <th>p_h</th>\n",
       "      <th>high</th>\n",
       "    </tr>\n",
       "  </thead>\n",
       "  <tbody>\n",
       "    <tr>\n",
       "      <th>1</th>\n",
       "      <td>8.75</td>\n",
       "      <td>0.075</td>\n",
       "      <td>28.83</td>\n",
       "      <td>8.84</td>\n",
       "      <td>0</td>\n",
       "    </tr>\n",
       "    <tr>\n",
       "      <th>2</th>\n",
       "      <td>7.27</td>\n",
       "      <td>0.075</td>\n",
       "      <td>25.21</td>\n",
       "      <td>9.13</td>\n",
       "      <td>0</td>\n",
       "    </tr>\n",
       "    <tr>\n",
       "      <th>3</th>\n",
       "      <td>8.55</td>\n",
       "      <td>0.075</td>\n",
       "      <td>25.10</td>\n",
       "      <td>8.42</td>\n",
       "      <td>0</td>\n",
       "    </tr>\n",
       "    <tr>\n",
       "      <th>4</th>\n",
       "      <td>9.30</td>\n",
       "      <td>0.075</td>\n",
       "      <td>28.77</td>\n",
       "      <td>8.53</td>\n",
       "      <td>0</td>\n",
       "    </tr>\n",
       "    <tr>\n",
       "      <th>5</th>\n",
       "      <td>13.83</td>\n",
       "      <td>0.075</td>\n",
       "      <td>22.40</td>\n",
       "      <td>9.14</td>\n",
       "      <td>0</td>\n",
       "    </tr>\n",
       "  </tbody>\n",
       "</table>\n",
       "</div>"
      ],
      "text/plain": [
       "   do_mg_l  mc_ppb  water_temp_cel_s   p_h  high\n",
       "1     8.75   0.075             28.83  8.84     0\n",
       "2     7.27   0.075             25.21  9.13     0\n",
       "3     8.55   0.075             25.10  8.42     0\n",
       "4     9.30   0.075             28.77  8.53     0\n",
       "5    13.83   0.075             22.40  9.14     0"
      ]
     },
     "execution_count": 71,
     "metadata": {},
     "output_type": "execute_result"
    }
   ],
   "source": [
    "reg = log_df[[\"do_mg_l\", \"mc_ppb\", \"water_temp_cel_s\", 'p_h', 'high']].dropna()\n",
    "reg.head()"
   ]
  },
  {
   "cell_type": "code",
   "execution_count": 73,
   "id": "07df7217-d337-4d60-adc4-63e6e1675bda",
   "metadata": {
    "slideshow": {
     "slide_type": "skip"
    },
    "tags": []
   },
   "outputs": [
    {
     "data": {
      "text/plain": [
       "array([[ 8.75, 28.83,  8.84],\n",
       "       [ 7.27, 25.21,  9.13],\n",
       "       [ 8.55, 25.1 ,  8.42],\n",
       "       [ 9.3 , 28.77,  8.53],\n",
       "       [13.83, 22.4 ,  9.14]])"
      ]
     },
     "execution_count": 73,
     "metadata": {},
     "output_type": "execute_result"
    }
   ],
   "source": [
    "X = np.asarray(reg[[\"do_mg_l\", \"water_temp_cel_s\", 'p_h']])\n",
    "X[0:5]"
   ]
  },
  {
   "cell_type": "code",
   "execution_count": 74,
   "id": "f65d1a92-26a5-4808-8972-35d5d2bd409e",
   "metadata": {
    "slideshow": {
     "slide_type": "skip"
    },
    "tags": []
   },
   "outputs": [
    {
     "data": {
      "text/plain": [
       "array([0, 0, 0, 0, 0])"
      ]
     },
     "execution_count": 74,
     "metadata": {},
     "output_type": "execute_result"
    }
   ],
   "source": [
    "y = np.asarray(reg['high'])\n",
    "y [0:5]"
   ]
  },
  {
   "cell_type": "code",
   "execution_count": 75,
   "id": "19638d41-1fd3-44b8-9a66-0472e2590456",
   "metadata": {
    "slideshow": {
     "slide_type": "skip"
    },
    "tags": []
   },
   "outputs": [
    {
     "data": {
      "text/plain": [
       "array([[-1.01e-01,  1.32e+00,  3.75e-01],\n",
       "       [-1.11e+00,  3.74e-02,  5.23e-01],\n",
       "       [-2.37e-01, -1.45e-03,  1.62e-01],\n",
       "       [ 2.74e-01,  1.30e+00,  2.18e-01],\n",
       "       [ 3.36e+00, -9.56e-01,  5.28e-01]])"
      ]
     },
     "execution_count": 75,
     "metadata": {},
     "output_type": "execute_result"
    }
   ],
   "source": [
    "# Normalize dataset\n",
    "from sklearn import preprocessing\n",
    "X = preprocessing.StandardScaler().fit(X).transform(X)\n",
    "X[0:5]"
   ]
  },
  {
   "cell_type": "code",
   "execution_count": 76,
   "id": "b22a5d37-3ca8-4eca-89b3-09d715d56a83",
   "metadata": {
    "slideshow": {
     "slide_type": "skip"
    },
    "tags": []
   },
   "outputs": [
    {
     "name": "stdout",
     "output_type": "stream",
     "text": [
      "Train set: (963, 3) (963,)\n",
      "Test set: (241, 3) (241,)\n"
     ]
    }
   ],
   "source": [
    "from sklearn.model_selection import train_test_split\n",
    "X_train, X_test, y_train, y_test = train_test_split( X, y, test_size=0.2, random_state=4)\n",
    "print ('Train set:', X_train.shape,  y_train.shape)\n",
    "print ('Test set:', X_test.shape,  y_test.shape)"
   ]
  },
  {
   "cell_type": "code",
   "execution_count": 77,
   "id": "186d5051-9b87-406e-aff4-37516cc85118",
   "metadata": {
    "slideshow": {
     "slide_type": "skip"
    },
    "tags": []
   },
   "outputs": [
    {
     "data": {
      "text/plain": [
       "LogisticRegression(C=0.01, solver='liblinear')"
      ]
     },
     "execution_count": 77,
     "metadata": {},
     "output_type": "execute_result"
    }
   ],
   "source": [
    "from sklearn.linear_model import LogisticRegression\n",
    "from sklearn.metrics import confusion_matrix\n",
    "LR = LogisticRegression(C=0.01, solver='liblinear').fit(X_train,y_train)\n",
    "LR"
   ]
  },
  {
   "cell_type": "code",
   "execution_count": 78,
   "id": "fb8a5e73-9741-4a33-ac68-95b55cd5b90a",
   "metadata": {
    "slideshow": {
     "slide_type": "skip"
    },
    "tags": []
   },
   "outputs": [
    {
     "data": {
      "text/plain": [
       "array([0, 0, 0, 0, 0, 0, 0, 0, 0, 0, 0, 0, 0, 0, 0, 0, 0, 0, 0, 0, 0, 0,\n",
       "       0, 0, 0, 0, 0, 0, 0, 0, 0, 0, 0, 0, 0, 0, 0, 0, 0, 0, 0, 0, 0, 0,\n",
       "       0, 0, 0, 0, 0, 0, 0, 0, 0, 0, 0, 0, 0, 0, 0, 0, 0, 0, 0, 0, 0, 0,\n",
       "       0, 0, 0, 0, 0, 0, 0, 0, 0, 0, 0, 0, 0, 0, 0, 0, 0, 0, 0, 0, 0, 0,\n",
       "       0, 0, 0, 0, 0, 0, 0, 0, 0, 0, 0, 0, 0, 0, 0, 0, 0, 0, 0, 0, 0, 0,\n",
       "       0, 0, 0, 0, 0, 0, 0, 0, 0, 0, 0, 0, 0, 0, 0, 0, 0, 0, 0, 0, 0, 0,\n",
       "       0, 0, 0, 0, 0, 0, 0, 0, 0, 0, 0, 0, 0, 0, 0, 0, 0, 0, 0, 0, 0, 0,\n",
       "       0, 0, 0, 0, 0, 0, 0, 0, 0, 0, 0, 0, 0, 0, 0, 0, 0, 0, 0, 0, 0, 0,\n",
       "       0, 0, 0, 0, 0, 0, 0, 0, 0, 0, 0, 0, 0, 0, 0, 0, 0, 0, 0, 0, 0, 0,\n",
       "       0, 0, 0, 0, 0, 0, 0, 0, 0, 0, 0, 0, 0, 0, 0, 0, 0, 0, 0, 0, 0, 0,\n",
       "       0, 0, 0, 0, 0, 0, 0, 0, 0, 0, 0, 0, 0, 0, 0, 0, 0, 0, 0, 0, 0])"
      ]
     },
     "execution_count": 78,
     "metadata": {},
     "output_type": "execute_result"
    }
   ],
   "source": [
    "yhat = LR.predict(X_test)\n",
    "yhat"
   ]
  },
  {
   "cell_type": "code",
   "execution_count": 79,
   "id": "c429fae2-e5e3-44bb-9008-f737b2f75e88",
   "metadata": {
    "slideshow": {
     "slide_type": "skip"
    },
    "tags": []
   },
   "outputs": [
    {
     "data": {
      "text/plain": [
       "array([[0.77, 0.23],\n",
       "       [0.76, 0.24],\n",
       "       [0.79, 0.21],\n",
       "       [0.76, 0.24],\n",
       "       [0.77, 0.23]])"
      ]
     },
     "execution_count": 79,
     "metadata": {},
     "output_type": "execute_result"
    }
   ],
   "source": [
    "yhat_prob = LR.predict_proba(X_test)\n",
    "yhat_prob[0:5]"
   ]
  },
  {
   "cell_type": "code",
   "execution_count": 80,
   "id": "8cab787e-d6b7-43bb-ab51-46862996e349",
   "metadata": {
    "slideshow": {
     "slide_type": "subslide"
    },
    "tags": []
   },
   "outputs": [
    {
     "data": {
      "text/plain": [
       "0.8921161825726142"
      ]
     },
     "execution_count": 80,
     "metadata": {},
     "output_type": "execute_result"
    }
   ],
   "source": [
    "from sklearn.metrics import jaccard_score\n",
    "jaccard_score(y_test, yhat,pos_label=0)"
   ]
  },
  {
   "cell_type": "code",
   "execution_count": 81,
   "id": "6d976d51-e80f-459e-9d10-4cc5c57fe691",
   "metadata": {
    "slideshow": {
     "slide_type": "skip"
    },
    "tags": []
   },
   "outputs": [
    {
     "name": "stdout",
     "output_type": "stream",
     "text": [
      "[[  0  26]\n",
      " [  0 215]]\n"
     ]
    }
   ],
   "source": [
    "from sklearn.metrics import classification_report, confusion_matrix\n",
    "import itertools\n",
    "def plot_confusion_matrix(cm, classes,\n",
    "                          normalize=False,\n",
    "                          title='Confusion matrix',\n",
    "                          cmap=plt.cm.Blues):\n",
    "    \"\"\"\n",
    "    This function prints and plots the confusion matrix.\n",
    "    Normalization can be applied by setting `normalize=True`.\n",
    "    \"\"\"\n",
    "    if normalize:\n",
    "        cm = cm.astype('float') / cm.sum(axis=1)[:, np.newaxis]\n",
    "        print(\"Normalized confusion matrix\")\n",
    "    else:\n",
    "        print('Confusion matrix, without normalization')\n",
    "\n",
    "    print(cm)\n",
    "\n",
    "    plt.imshow(cm, interpolation='nearest', cmap=cmap)\n",
    "    plt.title(title)\n",
    "    plt.colorbar()\n",
    "    tick_marks = np.arange(len(classes))\n",
    "    plt.xticks(tick_marks, classes, rotation=45)\n",
    "    plt.yticks(tick_marks, classes)\n",
    "\n",
    "    fmt = '.2f' if normalize else 'd'\n",
    "    thresh = cm.max() / 2.\n",
    "    for i, j in itertools.product(range(cm.shape[0]), range(cm.shape[1])):\n",
    "        plt.text(j, i, format(cm[i, j], fmt),\n",
    "                 horizontalalignment=\"center\",\n",
    "                 color=\"white\" if cm[i, j] > thresh else \"black\")\n",
    "\n",
    "    plt.tight_layout()\n",
    "    plt.ylabel('True label')\n",
    "    plt.xlabel('Predicted label')\n",
    "print(confusion_matrix(y_test, yhat, labels=[1,0]))"
   ]
  },
  {
   "cell_type": "code",
   "execution_count": 82,
   "id": "52bbcbf1-e5a0-4a09-bf2e-db551953dc75",
   "metadata": {
    "slideshow": {
     "slide_type": "subslide"
    },
    "tags": []
   },
   "outputs": [
    {
     "name": "stdout",
     "output_type": "stream",
     "text": [
      "Confusion matrix, without normalization\n",
      "[[  0  26]\n",
      " [  0 215]]\n"
     ]
    },
    {
     "data": {
      "image/png": "[encoded data removed]",
      "text/plain": [
       "<Figure size 640x480 with 2 Axes>"
      ]
     },
     "metadata": {},
     "output_type": "display_data"
    }
   ],
   "source": [
    "# Compute confusion matrix\n",
    "cnf_matrix = confusion_matrix(y_test, yhat, labels=[1,0])\n",
    "np.set_printoptions(precision=2)\n",
    "\n",
    "\n",
    "# Plot non-normalized confusion matrix\n",
    "plt.figure()\n",
    "plot_confusion_matrix(cnf_matrix, classes=['high','low'],normalize= False,  title='Confusion matrix')"
   ]
  },
  {
   "cell_type": "code",
   "execution_count": 45,
   "id": "471ada31-5beb-400d-8d94-426cfdde3514",
   "metadata": {
    "tags": []
   },
   "outputs": [
    {
     "name": "stdout",
     "output_type": "stream",
     "text": [
      "              precision    recall  f1-score   support\n",
      "\n",
      "           0       0.93      1.00      0.96       215\n",
      "           1       1.00      0.35      0.51        26\n",
      "\n",
      "    accuracy                           0.93       241\n",
      "   macro avg       0.96      0.67      0.74       241\n",
      "weighted avg       0.93      0.93      0.91       241\n",
      "\n"
     ]
    }
   ],
   "source": [
    "print (classification_report(y_test, yhat))"
   ]
  },
  {
   "cell_type": "markdown",
   "id": "78c78d80-7d83-4f7e-b435-448bd8d381f2",
   "metadata": {
    "slideshow": {
     "slide_type": "slide"
    },
    "tags": []
   },
   "source": [
    "# Lets run this test with a Microcystin level of 0.5 being high"
   ]
  },
  {
   "cell_type": "code",
   "execution_count": 46,
   "id": "c639d2ed-2aa3-4f8a-a14b-b0e6e9c36c83",
   "metadata": {
    "slideshow": {
     "slide_type": "skip"
    },
    "tags": []
   },
   "outputs": [
    {
     "data": {
      "text/html": [
       "<pre style=\"white-space:pre;overflow-x:auto;line-height:normal;font-family:Menlo,'DejaVu Sans Mono',consolas,'Courier New',monospace\"><span style=\"color: #008080; text-decoration-color: #008080; font-weight: bold\">52</span> column names have been cleaned\n",
       "</pre>\n"
      ],
      "text/plain": [
       "\u001b[1;36m52\u001b[0m column names have been cleaned\n"
      ]
     },
     "metadata": {},
     "output_type": "display_data"
    },
    {
     "data": {
      "text/html": [
       "<div>\n",
       "<style scoped>\n",
       "    .dataframe tbody tr th:only-of-type {\n",
       "        vertical-align: middle;\n",
       "    }\n",
       "\n",
       "    .dataframe tbody tr th {\n",
       "        vertical-align: top;\n",
       "    }\n",
       "\n",
       "    .dataframe thead th {\n",
       "        text-align: right;\n",
       "    }\n",
       "</style>\n",
       "<table border=\"1\" class=\"dataframe\">\n",
       "  <thead>\n",
       "    <tr style=\"text-align: right;\">\n",
       "      <th></th>\n",
       "      <th>lake_name</th>\n",
       "      <th>site_type</th>\n",
       "      <th>id_#</th>\n",
       "      <th>date</th>\n",
       "      <th>time</th>\n",
       "      <th>pw</th>\n",
       "      <th>w</th>\n",
       "      <th>total_depth_m</th>\n",
       "      <th>secchi_depth</th>\n",
       "      <th>depth_m</th>\n",
       "      <th>...</th>\n",
       "      <th>ss</th>\n",
       "      <th>f</th>\n",
       "      <th>notes</th>\n",
       "      <th>quanta_#</th>\n",
       "      <th>weather_meter_#</th>\n",
       "      <th>fluorometer_#</th>\n",
       "      <th>aquafluor_#</th>\n",
       "      <th>van_dorn_#</th>\n",
       "      <th>unnamed_50</th>\n",
       "      <th>unnamed_51</th>\n",
       "    </tr>\n",
       "  </thead>\n",
       "  <tbody>\n",
       "    <tr>\n",
       "      <th>0</th>\n",
       "      <td>Beaver Dam</td>\n",
       "      <td>Open</td>\n",
       "      <td>21221BEA2</td>\n",
       "      <td>2021-08-09</td>\n",
       "      <td>15:40</td>\n",
       "      <td>S</td>\n",
       "      <td>S</td>\n",
       "      <td>18.5</td>\n",
       "      <td>2.5</td>\n",
       "      <td>0.0</td>\n",
       "      <td>...</td>\n",
       "      <td>NaN</td>\n",
       "      <td>NaN</td>\n",
       "      <td>NaN</td>\n",
       "      <td>NaN</td>\n",
       "      <td>NaN</td>\n",
       "      <td>NaN</td>\n",
       "      <td>NaN</td>\n",
       "      <td>NaN</td>\n",
       "      <td>NaN</td>\n",
       "      <td>NaN</td>\n",
       "    </tr>\n",
       "    <tr>\n",
       "      <th>1</th>\n",
       "      <td>Beaver Dam</td>\n",
       "      <td>Open</td>\n",
       "      <td>18190BEA2</td>\n",
       "      <td>2018-07-09</td>\n",
       "      <td>15:00</td>\n",
       "      <td>S</td>\n",
       "      <td>S</td>\n",
       "      <td>18.0</td>\n",
       "      <td>3.0</td>\n",
       "      <td>0.0</td>\n",
       "      <td>...</td>\n",
       "      <td>NaN</td>\n",
       "      <td>NaN</td>\n",
       "      <td>AQUATIC WEED CONTROL SPRAYED IN THE MORNING (7...</td>\n",
       "      <td>NaN</td>\n",
       "      <td>NaN</td>\n",
       "      <td>NaN</td>\n",
       "      <td>NaN</td>\n",
       "      <td>NaN</td>\n",
       "      <td>NaN</td>\n",
       "      <td>NaN</td>\n",
       "    </tr>\n",
       "    <tr>\n",
       "      <th>2</th>\n",
       "      <td>Beaver Dam</td>\n",
       "      <td>Open</td>\n",
       "      <td>18204BEA2</td>\n",
       "      <td>2018-07-23</td>\n",
       "      <td>15:15</td>\n",
       "      <td>R</td>\n",
       "      <td>R</td>\n",
       "      <td>19.0</td>\n",
       "      <td>5.8</td>\n",
       "      <td>0.0</td>\n",
       "      <td>...</td>\n",
       "      <td>NaN</td>\n",
       "      <td>NaN</td>\n",
       "      <td>NaN</td>\n",
       "      <td>NaN</td>\n",
       "      <td>NaN</td>\n",
       "      <td>NaN</td>\n",
       "      <td>NaN</td>\n",
       "      <td>NaN</td>\n",
       "      <td>NaN</td>\n",
       "      <td>NaN</td>\n",
       "    </tr>\n",
       "    <tr>\n",
       "      <th>3</th>\n",
       "      <td>Beaver Dam</td>\n",
       "      <td>Open</td>\n",
       "      <td>18211BEA2</td>\n",
       "      <td>2018-07-31</td>\n",
       "      <td>15:00</td>\n",
       "      <td>O</td>\n",
       "      <td>O</td>\n",
       "      <td>18.6</td>\n",
       "      <td>4.4</td>\n",
       "      <td>0.0</td>\n",
       "      <td>...</td>\n",
       "      <td>NaN</td>\n",
       "      <td>NaN</td>\n",
       "      <td>NaN</td>\n",
       "      <td>NaN</td>\n",
       "      <td>NaN</td>\n",
       "      <td>NaN</td>\n",
       "      <td>NaN</td>\n",
       "      <td>NaN</td>\n",
       "      <td>NaN</td>\n",
       "      <td>NaN</td>\n",
       "    </tr>\n",
       "    <tr>\n",
       "      <th>4</th>\n",
       "      <td>Beaver Dam</td>\n",
       "      <td>Open</td>\n",
       "      <td>18218BEA2</td>\n",
       "      <td>2018-08-06</td>\n",
       "      <td>14:45</td>\n",
       "      <td>S</td>\n",
       "      <td>O</td>\n",
       "      <td>18.8</td>\n",
       "      <td>4.4</td>\n",
       "      <td>0.0</td>\n",
       "      <td>...</td>\n",
       "      <td>NaN</td>\n",
       "      <td>NaN</td>\n",
       "      <td>NaN</td>\n",
       "      <td>NaN</td>\n",
       "      <td>NaN</td>\n",
       "      <td>NaN</td>\n",
       "      <td>NaN</td>\n",
       "      <td>NaN</td>\n",
       "      <td>NaN</td>\n",
       "      <td>NaN</td>\n",
       "    </tr>\n",
       "  </tbody>\n",
       "</table>\n",
       "<p>5 rows × 52 columns</p>\n",
       "</div>"
      ],
      "text/plain": [
       "    lake_name site_type       id_#       date   time pw  w  total_depth_m  \\\n",
       "0  Beaver Dam      Open  21221BEA2 2021-08-09  15:40  S  S           18.5   \n",
       "1  Beaver Dam      Open  18190BEA2 2018-07-09  15:00  S  S           18.0   \n",
       "2  Beaver Dam      Open  18204BEA2 2018-07-23  15:15  R  R           19.0   \n",
       "3  Beaver Dam      Open  18211BEA2 2018-07-31  15:00  O  O           18.6   \n",
       "4  Beaver Dam      Open  18218BEA2 2018-08-06  14:45  S  O           18.8   \n",
       "\n",
       "  secchi_depth  depth_m  ...  ss   f  \\\n",
       "0          2.5      0.0  ... NaN NaN   \n",
       "1          3.0      0.0  ... NaN NaN   \n",
       "2          5.8      0.0  ... NaN NaN   \n",
       "3          4.4      0.0  ... NaN NaN   \n",
       "4          4.4      0.0  ... NaN NaN   \n",
       "\n",
       "                                               notes  quanta_#  \\\n",
       "0                                                NaN       NaN   \n",
       "1  AQUATIC WEED CONTROL SPRAYED IN THE MORNING (7...       NaN   \n",
       "2                                                NaN       NaN   \n",
       "3                                                NaN       NaN   \n",
       "4                                                NaN       NaN   \n",
       "\n",
       "   weather_meter_#  fluorometer_# aquafluor_# van_dorn_# unnamed_50 unnamed_51  \n",
       "0              NaN            NaN         NaN        NaN        NaN        NaN  \n",
       "1              NaN            NaN         NaN        NaN        NaN        NaN  \n",
       "2              NaN            NaN         NaN        NaN        NaN        NaN  \n",
       "3              NaN            NaN         NaN        NaN        NaN        NaN  \n",
       "4              NaN            NaN         NaN        NaN        NaN        NaN  \n",
       "\n",
       "[5 rows x 52 columns]"
      ]
     },
     "execution_count": 46,
     "metadata": {},
     "output_type": "execute_result"
    }
   ],
   "source": [
    "mc_df = clean_columns(df)\n",
    "mc_df.head()"
   ]
  },
  {
   "cell_type": "code",
   "execution_count": 192,
   "id": "6a79b3fd-b7cb-4681-8324-7fbaf7dedcaa",
   "metadata": {
    "slideshow": {
     "slide_type": "skip"
    },
    "tags": []
   },
   "outputs": [
    {
     "data": {
      "text/html": [
       "<div>\n",
       "<style scoped>\n",
       "    .dataframe tbody tr th:only-of-type {\n",
       "        vertical-align: middle;\n",
       "    }\n",
       "\n",
       "    .dataframe tbody tr th {\n",
       "        vertical-align: top;\n",
       "    }\n",
       "\n",
       "    .dataframe thead th {\n",
       "        text-align: right;\n",
       "    }\n",
       "</style>\n",
       "<table border=\"1\" class=\"dataframe\">\n",
       "  <thead>\n",
       "    <tr style=\"text-align: right;\">\n",
       "      <th></th>\n",
       "      <th>lake_name</th>\n",
       "      <th>site_type</th>\n",
       "      <th>id_#</th>\n",
       "      <th>date</th>\n",
       "      <th>time</th>\n",
       "      <th>pw</th>\n",
       "      <th>w</th>\n",
       "      <th>total_depth_m</th>\n",
       "      <th>secchi_depth</th>\n",
       "      <th>depth_m</th>\n",
       "      <th>...</th>\n",
       "      <th>f</th>\n",
       "      <th>notes</th>\n",
       "      <th>quanta_#</th>\n",
       "      <th>weather_meter_#</th>\n",
       "      <th>fluorometer_#</th>\n",
       "      <th>aquafluor_#</th>\n",
       "      <th>van_dorn_#</th>\n",
       "      <th>unnamed_50</th>\n",
       "      <th>unnamed_51</th>\n",
       "      <th>high</th>\n",
       "    </tr>\n",
       "  </thead>\n",
       "  <tbody>\n",
       "    <tr>\n",
       "      <th>0</th>\n",
       "      <td>Beaver Dam</td>\n",
       "      <td>Open</td>\n",
       "      <td>21221BEA2</td>\n",
       "      <td>2021-08-09</td>\n",
       "      <td>15:40</td>\n",
       "      <td>S</td>\n",
       "      <td>S</td>\n",
       "      <td>18.5</td>\n",
       "      <td>2.5</td>\n",
       "      <td>0.0</td>\n",
       "      <td>...</td>\n",
       "      <td>NaN</td>\n",
       "      <td>NaN</td>\n",
       "      <td>NaN</td>\n",
       "      <td>NaN</td>\n",
       "      <td>NaN</td>\n",
       "      <td>NaN</td>\n",
       "      <td>NaN</td>\n",
       "      <td>NaN</td>\n",
       "      <td>NaN</td>\n",
       "      <td>0</td>\n",
       "    </tr>\n",
       "    <tr>\n",
       "      <th>1</th>\n",
       "      <td>Beaver Dam</td>\n",
       "      <td>Open</td>\n",
       "      <td>18190BEA2</td>\n",
       "      <td>2018-07-09</td>\n",
       "      <td>15:00</td>\n",
       "      <td>S</td>\n",
       "      <td>S</td>\n",
       "      <td>18.0</td>\n",
       "      <td>3.0</td>\n",
       "      <td>0.0</td>\n",
       "      <td>...</td>\n",
       "      <td>NaN</td>\n",
       "      <td>AQUATIC WEED CONTROL SPRAYED IN THE MORNING (7...</td>\n",
       "      <td>NaN</td>\n",
       "      <td>NaN</td>\n",
       "      <td>NaN</td>\n",
       "      <td>NaN</td>\n",
       "      <td>NaN</td>\n",
       "      <td>NaN</td>\n",
       "      <td>NaN</td>\n",
       "      <td>0</td>\n",
       "    </tr>\n",
       "    <tr>\n",
       "      <th>2</th>\n",
       "      <td>Beaver Dam</td>\n",
       "      <td>Open</td>\n",
       "      <td>18204BEA2</td>\n",
       "      <td>2018-07-23</td>\n",
       "      <td>15:15</td>\n",
       "      <td>R</td>\n",
       "      <td>R</td>\n",
       "      <td>19.0</td>\n",
       "      <td>5.8</td>\n",
       "      <td>0.0</td>\n",
       "      <td>...</td>\n",
       "      <td>NaN</td>\n",
       "      <td>NaN</td>\n",
       "      <td>NaN</td>\n",
       "      <td>NaN</td>\n",
       "      <td>NaN</td>\n",
       "      <td>NaN</td>\n",
       "      <td>NaN</td>\n",
       "      <td>NaN</td>\n",
       "      <td>NaN</td>\n",
       "      <td>0</td>\n",
       "    </tr>\n",
       "    <tr>\n",
       "      <th>3</th>\n",
       "      <td>Beaver Dam</td>\n",
       "      <td>Open</td>\n",
       "      <td>18211BEA2</td>\n",
       "      <td>2018-07-31</td>\n",
       "      <td>15:00</td>\n",
       "      <td>O</td>\n",
       "      <td>O</td>\n",
       "      <td>18.6</td>\n",
       "      <td>4.4</td>\n",
       "      <td>0.0</td>\n",
       "      <td>...</td>\n",
       "      <td>NaN</td>\n",
       "      <td>NaN</td>\n",
       "      <td>NaN</td>\n",
       "      <td>NaN</td>\n",
       "      <td>NaN</td>\n",
       "      <td>NaN</td>\n",
       "      <td>NaN</td>\n",
       "      <td>NaN</td>\n",
       "      <td>NaN</td>\n",
       "      <td>0</td>\n",
       "    </tr>\n",
       "    <tr>\n",
       "      <th>4</th>\n",
       "      <td>Beaver Dam</td>\n",
       "      <td>Open</td>\n",
       "      <td>18218BEA2</td>\n",
       "      <td>2018-08-06</td>\n",
       "      <td>14:45</td>\n",
       "      <td>S</td>\n",
       "      <td>O</td>\n",
       "      <td>18.8</td>\n",
       "      <td>4.4</td>\n",
       "      <td>0.0</td>\n",
       "      <td>...</td>\n",
       "      <td>NaN</td>\n",
       "      <td>NaN</td>\n",
       "      <td>NaN</td>\n",
       "      <td>NaN</td>\n",
       "      <td>NaN</td>\n",
       "      <td>NaN</td>\n",
       "      <td>NaN</td>\n",
       "      <td>NaN</td>\n",
       "      <td>NaN</td>\n",
       "      <td>0</td>\n",
       "    </tr>\n",
       "  </tbody>\n",
       "</table>\n",
       "<p>5 rows × 53 columns</p>\n",
       "</div>"
      ],
      "text/plain": [
       "    lake_name site_type       id_#       date   time pw  w  total_depth_m  \\\n",
       "0  Beaver Dam      Open  21221BEA2 2021-08-09  15:40  S  S           18.5   \n",
       "1  Beaver Dam      Open  18190BEA2 2018-07-09  15:00  S  S           18.0   \n",
       "2  Beaver Dam      Open  18204BEA2 2018-07-23  15:15  R  R           19.0   \n",
       "3  Beaver Dam      Open  18211BEA2 2018-07-31  15:00  O  O           18.6   \n",
       "4  Beaver Dam      Open  18218BEA2 2018-08-06  14:45  S  O           18.8   \n",
       "\n",
       "  secchi_depth  depth_m  ...   f  \\\n",
       "0          2.5      0.0  ... NaN   \n",
       "1          3.0      0.0  ... NaN   \n",
       "2          5.8      0.0  ... NaN   \n",
       "3          4.4      0.0  ... NaN   \n",
       "4          4.4      0.0  ... NaN   \n",
       "\n",
       "                                               notes  quanta_#  \\\n",
       "0                                                NaN       NaN   \n",
       "1  AQUATIC WEED CONTROL SPRAYED IN THE MORNING (7...       NaN   \n",
       "2                                                NaN       NaN   \n",
       "3                                                NaN       NaN   \n",
       "4                                                NaN       NaN   \n",
       "\n",
       "   weather_meter_#  fluorometer_#  aquafluor_# van_dorn_# unnamed_50  \\\n",
       "0              NaN            NaN          NaN        NaN        NaN   \n",
       "1              NaN            NaN          NaN        NaN        NaN   \n",
       "2              NaN            NaN          NaN        NaN        NaN   \n",
       "3              NaN            NaN          NaN        NaN        NaN   \n",
       "4              NaN            NaN          NaN        NaN        NaN   \n",
       "\n",
       "  unnamed_51 high  \n",
       "0        NaN    0  \n",
       "1        NaN    0  \n",
       "2        NaN    0  \n",
       "3        NaN    0  \n",
       "4        NaN    0  \n",
       "\n",
       "[5 rows x 53 columns]"
      ]
     },
     "execution_count": 192,
     "metadata": {},
     "output_type": "execute_result"
    }
   ],
   "source": [
    "mc_df['high'] = mc_df[['mc_ppb']] > 0.5\n",
    "mc_df[\"high\"] = mc_df[\"high\"].astype(int)\n",
    "mc_df.head()"
   ]
  },
  {
   "cell_type": "code",
   "execution_count": 193,
   "id": "e5eab150-cdf1-45f8-ba76-6470af6dd913",
   "metadata": {
    "slideshow": {
     "slide_type": "skip"
    },
    "tags": []
   },
   "outputs": [
    {
     "data": {
      "text/html": [
       "<div>\n",
       "<style scoped>\n",
       "    .dataframe tbody tr th:only-of-type {\n",
       "        vertical-align: middle;\n",
       "    }\n",
       "\n",
       "    .dataframe tbody tr th {\n",
       "        vertical-align: top;\n",
       "    }\n",
       "\n",
       "    .dataframe thead th {\n",
       "        text-align: right;\n",
       "    }\n",
       "</style>\n",
       "<table border=\"1\" class=\"dataframe\">\n",
       "  <thead>\n",
       "    <tr style=\"text-align: right;\">\n",
       "      <th></th>\n",
       "      <th>do_mg_l</th>\n",
       "      <th>mc_ppb</th>\n",
       "      <th>water_temp_cel_s</th>\n",
       "      <th>p_h</th>\n",
       "      <th>high</th>\n",
       "    </tr>\n",
       "  </thead>\n",
       "  <tbody>\n",
       "    <tr>\n",
       "      <th>1</th>\n",
       "      <td>8.75</td>\n",
       "      <td>0.075</td>\n",
       "      <td>28.83</td>\n",
       "      <td>8.84</td>\n",
       "      <td>0</td>\n",
       "    </tr>\n",
       "    <tr>\n",
       "      <th>2</th>\n",
       "      <td>7.27</td>\n",
       "      <td>0.075</td>\n",
       "      <td>25.21</td>\n",
       "      <td>9.13</td>\n",
       "      <td>0</td>\n",
       "    </tr>\n",
       "    <tr>\n",
       "      <th>3</th>\n",
       "      <td>8.55</td>\n",
       "      <td>0.075</td>\n",
       "      <td>25.10</td>\n",
       "      <td>8.42</td>\n",
       "      <td>0</td>\n",
       "    </tr>\n",
       "    <tr>\n",
       "      <th>4</th>\n",
       "      <td>9.30</td>\n",
       "      <td>0.075</td>\n",
       "      <td>28.77</td>\n",
       "      <td>8.53</td>\n",
       "      <td>0</td>\n",
       "    </tr>\n",
       "    <tr>\n",
       "      <th>5</th>\n",
       "      <td>13.83</td>\n",
       "      <td>0.075</td>\n",
       "      <td>22.40</td>\n",
       "      <td>9.14</td>\n",
       "      <td>0</td>\n",
       "    </tr>\n",
       "  </tbody>\n",
       "</table>\n",
       "</div>"
      ],
      "text/plain": [
       "   do_mg_l  mc_ppb  water_temp_cel_s   p_h  high\n",
       "1     8.75   0.075             28.83  8.84     0\n",
       "2     7.27   0.075             25.21  9.13     0\n",
       "3     8.55   0.075             25.10  8.42     0\n",
       "4     9.30   0.075             28.77  8.53     0\n",
       "5    13.83   0.075             22.40  9.14     0"
      ]
     },
     "execution_count": 193,
     "metadata": {},
     "output_type": "execute_result"
    }
   ],
   "source": [
    "log = mc_df[[\"do_mg_l\", \"mc_ppb\", \"water_temp_cel_s\", 'p_h', 'high']].dropna()\n",
    "log.head()"
   ]
  },
  {
   "cell_type": "code",
   "execution_count": 194,
   "id": "e8811e70-7779-4e2c-be96-7515c977c18a",
   "metadata": {
    "slideshow": {
     "slide_type": "skip"
    },
    "tags": []
   },
   "outputs": [
    {
     "data": {
      "text/plain": [
       "array([[ 8.75, 28.83,  8.84],\n",
       "       [ 7.27, 25.21,  9.13],\n",
       "       [ 8.55, 25.1 ,  8.42],\n",
       "       [ 9.3 , 28.77,  8.53],\n",
       "       [13.83, 22.4 ,  9.14]])"
      ]
     },
     "execution_count": 194,
     "metadata": {},
     "output_type": "execute_result"
    }
   ],
   "source": [
    "X = np.asarray(log[[\"do_mg_l\", \"water_temp_cel_s\", 'p_h']])\n",
    "X[0:5]"
   ]
  },
  {
   "cell_type": "code",
   "execution_count": 195,
   "id": "281ab7f5-6bc9-406f-ae97-f1dda86adf59",
   "metadata": {
    "slideshow": {
     "slide_type": "skip"
    },
    "tags": []
   },
   "outputs": [
    {
     "data": {
      "text/plain": [
       "array([0, 0, 0, 0, 0])"
      ]
     },
     "execution_count": 195,
     "metadata": {},
     "output_type": "execute_result"
    }
   ],
   "source": [
    "y = np.asarray(log['high'])\n",
    "y [0:5]"
   ]
  },
  {
   "cell_type": "code",
   "execution_count": 196,
   "id": "dc391a60-0161-4991-9226-092b3d5ba874",
   "metadata": {
    "slideshow": {
     "slide_type": "skip"
    },
    "tags": []
   },
   "outputs": [
    {
     "data": {
      "text/plain": [
       "array([[-1.01e-01,  1.32e+00,  3.75e-01],\n",
       "       [-1.11e+00,  3.74e-02,  5.23e-01],\n",
       "       [-2.37e-01, -1.45e-03,  1.62e-01],\n",
       "       [ 2.74e-01,  1.30e+00,  2.18e-01],\n",
       "       [ 3.36e+00, -9.56e-01,  5.28e-01]])"
      ]
     },
     "execution_count": 196,
     "metadata": {},
     "output_type": "execute_result"
    }
   ],
   "source": [
    "# Normalize dataset\n",
    "from sklearn import preprocessing\n",
    "X = preprocessing.StandardScaler().fit(X).transform(X)\n",
    "X[0:5]"
   ]
  },
  {
   "cell_type": "code",
   "execution_count": 197,
   "id": "eadea674-455f-4e89-80b7-60fb1c69bcbe",
   "metadata": {
    "slideshow": {
     "slide_type": "skip"
    },
    "tags": []
   },
   "outputs": [
    {
     "name": "stdout",
     "output_type": "stream",
     "text": [
      "Train set: (963, 3) (963,)\n",
      "Test set: (241, 3) (241,)\n"
     ]
    }
   ],
   "source": [
    "from sklearn.model_selection import train_test_split\n",
    "X_train, X_test, y_train, y_test = train_test_split( X, y, test_size=0.2, random_state=4)\n",
    "print ('Train set:', X_train.shape,  y_train.shape)\n",
    "print ('Test set:', X_test.shape,  y_test.shape)"
   ]
  },
  {
   "cell_type": "code",
   "execution_count": 198,
   "id": "56144be1-8cb8-48ec-8a89-17a131180f0f",
   "metadata": {
    "slideshow": {
     "slide_type": "skip"
    },
    "tags": []
   },
   "outputs": [
    {
     "data": {
      "text/plain": [
       "LogisticRegression(C=0.01, solver='liblinear')"
      ]
     },
     "execution_count": 198,
     "metadata": {},
     "output_type": "execute_result"
    }
   ],
   "source": [
    "from sklearn.linear_model import LogisticRegression\n",
    "from sklearn.metrics import confusion_matrix\n",
    "LR = LogisticRegression(C=0.01, solver='liblinear').fit(X_train,y_train)\n",
    "LR"
   ]
  },
  {
   "cell_type": "code",
   "execution_count": 199,
   "id": "bb671496-6b86-4639-aad0-e05c8a20d984",
   "metadata": {
    "slideshow": {
     "slide_type": "skip"
    },
    "tags": []
   },
   "outputs": [
    {
     "data": {
      "text/plain": [
       "array([0, 0, 0, 0, 0, 0, 0, 0, 0, 0, 0, 0, 0, 0, 0, 0, 0, 0, 0, 0, 0, 0,\n",
       "       0, 0, 0, 0, 0, 0, 0, 0, 0, 0, 0, 0, 0, 0, 0, 0, 0, 0, 0, 0, 0, 0,\n",
       "       0, 0, 0, 0, 0, 0, 0, 0, 0, 0, 0, 0, 0, 0, 0, 0, 0, 0, 0, 0, 0, 0,\n",
       "       0, 0, 0, 0, 0, 0, 0, 0, 0, 0, 0, 0, 0, 0, 0, 0, 0, 0, 0, 0, 0, 0,\n",
       "       0, 0, 0, 0, 0, 0, 0, 0, 0, 0, 0, 0, 0, 0, 0, 0, 0, 0, 0, 0, 0, 0,\n",
       "       0, 0, 0, 0, 0, 0, 0, 0, 0, 0, 0, 0, 0, 0, 0, 0, 0, 0, 0, 0, 0, 0,\n",
       "       0, 0, 0, 0, 0, 0, 0, 0, 0, 0, 0, 0, 0, 0, 0, 0, 0, 0, 0, 0, 0, 0,\n",
       "       0, 0, 0, 0, 0, 0, 0, 0, 0, 0, 0, 0, 0, 0, 0, 0, 0, 0, 0, 0, 0, 0,\n",
       "       0, 0, 0, 0, 0, 0, 0, 0, 0, 0, 0, 0, 0, 0, 0, 0, 0, 0, 0, 0, 0, 0,\n",
       "       0, 0, 0, 0, 0, 0, 0, 0, 0, 0, 0, 0, 0, 0, 0, 0, 0, 0, 0, 0, 0, 0,\n",
       "       0, 0, 0, 0, 0, 0, 0, 0, 0, 0, 0, 0, 0, 0, 0, 0, 0, 0, 0, 0, 0])"
      ]
     },
     "execution_count": 199,
     "metadata": {},
     "output_type": "execute_result"
    }
   ],
   "source": [
    "yhat = LR.predict(X_test)\n",
    "yhat"
   ]
  },
  {
   "cell_type": "code",
   "execution_count": 200,
   "id": "6bba034d-679e-45cf-8368-769c8dd816f5",
   "metadata": {
    "slideshow": {
     "slide_type": "skip"
    },
    "tags": []
   },
   "outputs": [
    {
     "data": {
      "text/plain": [
       "array([[0.76, 0.24],\n",
       "       [0.72, 0.28],\n",
       "       [0.73, 0.27],\n",
       "       [0.72, 0.28],\n",
       "       [0.75, 0.25]])"
      ]
     },
     "execution_count": 200,
     "metadata": {},
     "output_type": "execute_result"
    }
   ],
   "source": [
    "yhat_prob = LR.predict_proba(X_test)\n",
    "yhat_prob[0:5]"
   ]
  },
  {
   "cell_type": "code",
   "execution_count": 201,
   "id": "1e533a88-8c37-487c-af3f-743d2b32be15",
   "metadata": {
    "slideshow": {
     "slide_type": "subslide"
    },
    "tags": []
   },
   "outputs": [
    {
     "data": {
      "text/plain": [
       "0.8215767634854771"
      ]
     },
     "execution_count": 201,
     "metadata": {},
     "output_type": "execute_result"
    }
   ],
   "source": [
    "from sklearn.metrics import jaccard_score\n",
    "jaccard_score(y_test, yhat,pos_label=0)"
   ]
  },
  {
   "cell_type": "code",
   "execution_count": 202,
   "id": "e636697f-3047-4970-ae0e-837982cc7648",
   "metadata": {
    "slideshow": {
     "slide_type": "skip"
    },
    "tags": []
   },
   "outputs": [
    {
     "name": "stdout",
     "output_type": "stream",
     "text": [
      "[[  0  43]\n",
      " [  0 198]]\n"
     ]
    }
   ],
   "source": [
    "from sklearn.metrics import classification_report, confusion_matrix\n",
    "import itertools\n",
    "def plot_confusion_matrix(cm, classes,\n",
    "                          normalize=False,\n",
    "                          title='Confusion matrix',\n",
    "                          cmap=plt.cm.Blues):\n",
    "    \"\"\"\n",
    "    This function prints and plots the confusion matrix.\n",
    "    Normalization can be applied by setting `normalize=True`.\n",
    "    \"\"\"\n",
    "    if normalize:\n",
    "        cm = cm.astype('float') / cm.sum(axis=1)[:, np.newaxis]\n",
    "        print(\"Normalized confusion matrix\")\n",
    "    else:\n",
    "        print('Confusion matrix, without normalization')\n",
    "\n",
    "    print(cm)\n",
    "\n",
    "    plt.imshow(cm, interpolation='nearest', cmap=cmap)\n",
    "    plt.title(title)\n",
    "    plt.colorbar()\n",
    "    tick_marks = np.arange(len(classes))\n",
    "    plt.xticks(tick_marks, classes, rotation=45)\n",
    "    plt.yticks(tick_marks, classes)\n",
    "\n",
    "    fmt = '.2f' if normalize else 'd'\n",
    "    thresh = cm.max() / 2.\n",
    "    for i, j in itertools.product(range(cm.shape[0]), range(cm.shape[1])):\n",
    "        plt.text(j, i, format(cm[i, j], fmt),\n",
    "                 horizontalalignment=\"center\",\n",
    "                 color=\"white\" if cm[i, j] > thresh else \"black\")\n",
    "\n",
    "    plt.tight_layout()\n",
    "    plt.ylabel('True label')\n",
    "    plt.xlabel('Predicted label')\n",
    "print(confusion_matrix(y_test, yhat, labels=[1,0]))"
   ]
  },
  {
   "cell_type": "code",
   "execution_count": 203,
   "id": "6cb40d08-81fa-48b1-98ed-f2c99cac0794",
   "metadata": {
    "slideshow": {
     "slide_type": "subslide"
    },
    "tags": []
   },
   "outputs": [
    {
     "name": "stdout",
     "output_type": "stream",
     "text": [
      "Confusion matrix, without normalization\n",
      "[[  0  43]\n",
      " [  0 198]]\n"
     ]
    },
    {
     "data": {
      "image/png": "[encoded data removed]",
      "text/plain": [
       "<Figure size 640x480 with 2 Axes>"
      ]
     },
     "metadata": {},
     "output_type": "display_data"
    }
   ],
   "source": [
    "# Compute confusion matrix\n",
    "cnf_matrix = confusion_matrix(y_test, yhat, labels=[1,0])\n",
    "np.set_printoptions(precision=2)\n",
    "\n",
    "\n",
    "# Plot non-normalized confusion matrix\n",
    "plt.figure()\n",
    "plot_confusion_matrix(cnf_matrix, classes=['high','low'],normalize= False,  title='Confusion matrix')"
   ]
  },
  {
   "cell_type": "code",
   "execution_count": 126,
   "id": "730d0417-e853-4bd5-8f19-abd11c787404",
   "metadata": {
    "tags": []
   },
   "outputs": [
    {
     "name": "stdout",
     "output_type": "stream",
     "text": [
      "              precision    recall  f1-score   support\n",
      "\n",
      "           0       0.84      1.00      0.91       187\n",
      "           1       1.00      0.33      0.50        54\n",
      "\n",
      "    accuracy                           0.85       241\n",
      "   macro avg       0.92      0.67      0.71       241\n",
      "weighted avg       0.87      0.85      0.82       241\n",
      "\n"
     ]
    }
   ],
   "source": [
    "print (classification_report(y_test, yhat))"
   ]
  },
  {
   "cell_type": "markdown",
   "id": "8e5cabd6-ca03-4974-980c-e046a68afac9",
   "metadata": {},
   "source": [
    "## Decision Tree "
   ]
  },
  {
   "cell_type": "code",
   "execution_count": 136,
   "id": "61a2677a-05ce-49a3-a964-eaa6743907f3",
   "metadata": {
    "slideshow": {
     "slide_type": "skip"
    },
    "tags": []
   },
   "outputs": [],
   "source": [
    "from sklearn.tree import DecisionTreeRegressor\n",
    "# Split our data into a training and testing data\n",
    "from sklearn.model_selection import train_test_split"
   ]
  },
  {
   "cell_type": "code",
   "execution_count": 128,
   "id": "b5162f68-eb70-4892-badb-91d17a2ff85c",
   "metadata": {
    "slideshow": {
     "slide_type": "skip"
    },
    "tags": []
   },
   "outputs": [
    {
     "data": {
      "text/html": [
       "<pre style=\"white-space:pre;overflow-x:auto;line-height:normal;font-family:Menlo,'DejaVu Sans Mono',consolas,'Courier New',monospace\"><span style=\"color: #008080; text-decoration-color: #008080; font-weight: bold\">52</span> column names have been cleaned\n",
       "</pre>\n"
      ],
      "text/plain": [
       "\u001b[1;36m52\u001b[0m column names have been cleaned\n"
      ]
     },
     "metadata": {},
     "output_type": "display_data"
    },
    {
     "data": {
      "text/html": [
       "<div>\n",
       "<style scoped>\n",
       "    .dataframe tbody tr th:only-of-type {\n",
       "        vertical-align: middle;\n",
       "    }\n",
       "\n",
       "    .dataframe tbody tr th {\n",
       "        vertical-align: top;\n",
       "    }\n",
       "\n",
       "    .dataframe thead th {\n",
       "        text-align: right;\n",
       "    }\n",
       "</style>\n",
       "<table border=\"1\" class=\"dataframe\">\n",
       "  <thead>\n",
       "    <tr style=\"text-align: right;\">\n",
       "      <th></th>\n",
       "      <th>lake_name</th>\n",
       "      <th>site_type</th>\n",
       "      <th>id_#</th>\n",
       "      <th>date</th>\n",
       "      <th>time</th>\n",
       "      <th>pw</th>\n",
       "      <th>w</th>\n",
       "      <th>total_depth_m</th>\n",
       "      <th>secchi_depth</th>\n",
       "      <th>depth_m</th>\n",
       "      <th>...</th>\n",
       "      <th>ss</th>\n",
       "      <th>f</th>\n",
       "      <th>notes</th>\n",
       "      <th>quanta_#</th>\n",
       "      <th>weather_meter_#</th>\n",
       "      <th>fluorometer_#</th>\n",
       "      <th>aquafluor_#</th>\n",
       "      <th>van_dorn_#</th>\n",
       "      <th>unnamed_50</th>\n",
       "      <th>unnamed_51</th>\n",
       "    </tr>\n",
       "  </thead>\n",
       "  <tbody>\n",
       "    <tr>\n",
       "      <th>0</th>\n",
       "      <td>Beaver Dam</td>\n",
       "      <td>Open</td>\n",
       "      <td>21221BEA2</td>\n",
       "      <td>2021-08-09</td>\n",
       "      <td>15:40</td>\n",
       "      <td>S</td>\n",
       "      <td>S</td>\n",
       "      <td>18.5</td>\n",
       "      <td>2.5</td>\n",
       "      <td>0.0</td>\n",
       "      <td>...</td>\n",
       "      <td>NaN</td>\n",
       "      <td>NaN</td>\n",
       "      <td>NaN</td>\n",
       "      <td>NaN</td>\n",
       "      <td>NaN</td>\n",
       "      <td>NaN</td>\n",
       "      <td>NaN</td>\n",
       "      <td>NaN</td>\n",
       "      <td>NaN</td>\n",
       "      <td>NaN</td>\n",
       "    </tr>\n",
       "    <tr>\n",
       "      <th>1</th>\n",
       "      <td>Beaver Dam</td>\n",
       "      <td>Open</td>\n",
       "      <td>18190BEA2</td>\n",
       "      <td>2018-07-09</td>\n",
       "      <td>15:00</td>\n",
       "      <td>S</td>\n",
       "      <td>S</td>\n",
       "      <td>18.0</td>\n",
       "      <td>3.0</td>\n",
       "      <td>0.0</td>\n",
       "      <td>...</td>\n",
       "      <td>NaN</td>\n",
       "      <td>NaN</td>\n",
       "      <td>AQUATIC WEED CONTROL SPRAYED IN THE MORNING (7...</td>\n",
       "      <td>NaN</td>\n",
       "      <td>NaN</td>\n",
       "      <td>NaN</td>\n",
       "      <td>NaN</td>\n",
       "      <td>NaN</td>\n",
       "      <td>NaN</td>\n",
       "      <td>NaN</td>\n",
       "    </tr>\n",
       "    <tr>\n",
       "      <th>2</th>\n",
       "      <td>Beaver Dam</td>\n",
       "      <td>Open</td>\n",
       "      <td>18204BEA2</td>\n",
       "      <td>2018-07-23</td>\n",
       "      <td>15:15</td>\n",
       "      <td>R</td>\n",
       "      <td>R</td>\n",
       "      <td>19.0</td>\n",
       "      <td>5.8</td>\n",
       "      <td>0.0</td>\n",
       "      <td>...</td>\n",
       "      <td>NaN</td>\n",
       "      <td>NaN</td>\n",
       "      <td>NaN</td>\n",
       "      <td>NaN</td>\n",
       "      <td>NaN</td>\n",
       "      <td>NaN</td>\n",
       "      <td>NaN</td>\n",
       "      <td>NaN</td>\n",
       "      <td>NaN</td>\n",
       "      <td>NaN</td>\n",
       "    </tr>\n",
       "    <tr>\n",
       "      <th>3</th>\n",
       "      <td>Beaver Dam</td>\n",
       "      <td>Open</td>\n",
       "      <td>18211BEA2</td>\n",
       "      <td>2018-07-31</td>\n",
       "      <td>15:00</td>\n",
       "      <td>O</td>\n",
       "      <td>O</td>\n",
       "      <td>18.6</td>\n",
       "      <td>4.4</td>\n",
       "      <td>0.0</td>\n",
       "      <td>...</td>\n",
       "      <td>NaN</td>\n",
       "      <td>NaN</td>\n",
       "      <td>NaN</td>\n",
       "      <td>NaN</td>\n",
       "      <td>NaN</td>\n",
       "      <td>NaN</td>\n",
       "      <td>NaN</td>\n",
       "      <td>NaN</td>\n",
       "      <td>NaN</td>\n",
       "      <td>NaN</td>\n",
       "    </tr>\n",
       "    <tr>\n",
       "      <th>4</th>\n",
       "      <td>Beaver Dam</td>\n",
       "      <td>Open</td>\n",
       "      <td>18218BEA2</td>\n",
       "      <td>2018-08-06</td>\n",
       "      <td>14:45</td>\n",
       "      <td>S</td>\n",
       "      <td>O</td>\n",
       "      <td>18.8</td>\n",
       "      <td>4.4</td>\n",
       "      <td>0.0</td>\n",
       "      <td>...</td>\n",
       "      <td>NaN</td>\n",
       "      <td>NaN</td>\n",
       "      <td>NaN</td>\n",
       "      <td>NaN</td>\n",
       "      <td>NaN</td>\n",
       "      <td>NaN</td>\n",
       "      <td>NaN</td>\n",
       "      <td>NaN</td>\n",
       "      <td>NaN</td>\n",
       "      <td>NaN</td>\n",
       "    </tr>\n",
       "  </tbody>\n",
       "</table>\n",
       "<p>5 rows × 52 columns</p>\n",
       "</div>"
      ],
      "text/plain": [
       "    lake_name site_type       id_#       date   time pw  w  total_depth_m  \\\n",
       "0  Beaver Dam      Open  21221BEA2 2021-08-09  15:40  S  S           18.5   \n",
       "1  Beaver Dam      Open  18190BEA2 2018-07-09  15:00  S  S           18.0   \n",
       "2  Beaver Dam      Open  18204BEA2 2018-07-23  15:15  R  R           19.0   \n",
       "3  Beaver Dam      Open  18211BEA2 2018-07-31  15:00  O  O           18.6   \n",
       "4  Beaver Dam      Open  18218BEA2 2018-08-06  14:45  S  O           18.8   \n",
       "\n",
       "  secchi_depth  depth_m  ...  ss   f  \\\n",
       "0          2.5      0.0  ... NaN NaN   \n",
       "1          3.0      0.0  ... NaN NaN   \n",
       "2          5.8      0.0  ... NaN NaN   \n",
       "3          4.4      0.0  ... NaN NaN   \n",
       "4          4.4      0.0  ... NaN NaN   \n",
       "\n",
       "                                               notes  quanta_#  \\\n",
       "0                                                NaN       NaN   \n",
       "1  AQUATIC WEED CONTROL SPRAYED IN THE MORNING (7...       NaN   \n",
       "2                                                NaN       NaN   \n",
       "3                                                NaN       NaN   \n",
       "4                                                NaN       NaN   \n",
       "\n",
       "   weather_meter_#  fluorometer_# aquafluor_# van_dorn_# unnamed_50 unnamed_51  \n",
       "0              NaN            NaN         NaN        NaN        NaN        NaN  \n",
       "1              NaN            NaN         NaN        NaN        NaN        NaN  \n",
       "2              NaN            NaN         NaN        NaN        NaN        NaN  \n",
       "3              NaN            NaN         NaN        NaN        NaN        NaN  \n",
       "4              NaN            NaN         NaN        NaN        NaN        NaN  \n",
       "\n",
       "[5 rows x 52 columns]"
      ]
     },
     "execution_count": 128,
     "metadata": {},
     "output_type": "execute_result"
    }
   ],
   "source": [
    "tree = clean_columns(df)\n",
    "tree.head()"
   ]
  },
  {
   "cell_type": "code",
   "execution_count": 131,
   "id": "ad521085-d09b-4b31-9819-ef92b0538c47",
   "metadata": {
    "slideshow": {
     "slide_type": "skip"
    },
    "tags": []
   },
   "outputs": [
    {
     "data": {
      "text/html": [
       "<div>\n",
       "<style scoped>\n",
       "    .dataframe tbody tr th:only-of-type {\n",
       "        vertical-align: middle;\n",
       "    }\n",
       "\n",
       "    .dataframe tbody tr th {\n",
       "        vertical-align: top;\n",
       "    }\n",
       "\n",
       "    .dataframe thead th {\n",
       "        text-align: right;\n",
       "    }\n",
       "</style>\n",
       "<table border=\"1\" class=\"dataframe\">\n",
       "  <thead>\n",
       "    <tr style=\"text-align: right;\">\n",
       "      <th></th>\n",
       "      <th>do_mg_l</th>\n",
       "      <th>mc_ppb</th>\n",
       "      <th>water_temp_cel_s</th>\n",
       "      <th>p_h</th>\n",
       "    </tr>\n",
       "  </thead>\n",
       "  <tbody>\n",
       "    <tr>\n",
       "      <th>0</th>\n",
       "      <td>9.05</td>\n",
       "      <td>NaN</td>\n",
       "      <td>26.90</td>\n",
       "      <td>0.354</td>\n",
       "    </tr>\n",
       "    <tr>\n",
       "      <th>1</th>\n",
       "      <td>8.75</td>\n",
       "      <td>0.075</td>\n",
       "      <td>28.83</td>\n",
       "      <td>8.840</td>\n",
       "    </tr>\n",
       "    <tr>\n",
       "      <th>2</th>\n",
       "      <td>7.27</td>\n",
       "      <td>0.075</td>\n",
       "      <td>25.21</td>\n",
       "      <td>9.130</td>\n",
       "    </tr>\n",
       "    <tr>\n",
       "      <th>3</th>\n",
       "      <td>8.55</td>\n",
       "      <td>0.075</td>\n",
       "      <td>25.10</td>\n",
       "      <td>8.420</td>\n",
       "    </tr>\n",
       "    <tr>\n",
       "      <th>4</th>\n",
       "      <td>9.30</td>\n",
       "      <td>0.075</td>\n",
       "      <td>28.77</td>\n",
       "      <td>8.530</td>\n",
       "    </tr>\n",
       "  </tbody>\n",
       "</table>\n",
       "</div>"
      ],
      "text/plain": [
       "   do_mg_l  mc_ppb  water_temp_cel_s    p_h\n",
       "0     9.05     NaN             26.90  0.354\n",
       "1     8.75   0.075             28.83  8.840\n",
       "2     7.27   0.075             25.21  9.130\n",
       "3     8.55   0.075             25.10  8.420\n",
       "4     9.30   0.075             28.77  8.530"
      ]
     },
     "execution_count": 131,
     "metadata": {},
     "output_type": "execute_result"
    }
   ],
   "source": [
    "tree = tree[[\"do_mg_l\", \"mc_ppb\", \"water_temp_cel_s\", 'p_h']]\n",
    "tree.head()"
   ]
  },
  {
   "cell_type": "code",
   "execution_count": 132,
   "id": "d3e52b4f-7fe7-404f-9464-0c6f93899cfa",
   "metadata": {
    "slideshow": {
     "slide_type": "skip"
    },
    "tags": []
   },
   "outputs": [],
   "source": [
    "tree = tree.dropna()"
   ]
  },
  {
   "cell_type": "code",
   "execution_count": 133,
   "id": "00e0a4fb-27e8-48ed-94e0-1811f55dd618",
   "metadata": {
    "slideshow": {
     "slide_type": "skip"
    },
    "tags": []
   },
   "outputs": [],
   "source": [
    "X = tree.drop(columns=[\"mc_ppb\"])\n",
    "Y = tree[\"mc_ppb\"]"
   ]
  },
  {
   "cell_type": "code",
   "execution_count": 134,
   "id": "8f41131c-1962-4c97-94b9-054dc303307c",
   "metadata": {
    "slideshow": {
     "slide_type": "skip"
    },
    "tags": []
   },
   "outputs": [],
   "source": [
    "X_train, X_test, Y_train, Y_test = train_test_split(X, Y, test_size=.2, random_state=1)"
   ]
  },
  {
   "cell_type": "code",
   "execution_count": 137,
   "id": "f2a8f679-2822-481b-ac4a-e92dc2f399ce",
   "metadata": {
    "slideshow": {
     "slide_type": "skip"
    },
    "tags": []
   },
   "outputs": [],
   "source": [
    "regression_tree = DecisionTreeRegressor(criterion = \"mse\")"
   ]
  },
  {
   "cell_type": "code",
   "execution_count": 139,
   "id": "9f36dc6f-22d2-46f9-8138-f845d543f951",
   "metadata": {
    "slideshow": {
     "slide_type": "skip"
    },
    "tags": []
   },
   "outputs": [
    {
     "data": {
      "text/plain": [
       "DecisionTreeRegressor()"
      ]
     },
     "execution_count": 139,
     "metadata": {},
     "output_type": "execute_result"
    }
   ],
   "source": [
    "regression_tree.fit(X_train, Y_train)"
   ]
  },
  {
   "cell_type": "code",
   "execution_count": 140,
   "id": "60199ace-5baa-4360-a3ef-114bd68fe4ed",
   "metadata": {
    "slideshow": {
     "slide_type": "skip"
    },
    "tags": []
   },
   "outputs": [
    {
     "data": {
      "text/plain": [
       "-0.8192502860286108"
      ]
     },
     "execution_count": 140,
     "metadata": {},
     "output_type": "execute_result"
    }
   ],
   "source": [
    "regression_tree.score(X_test, Y_test)"
   ]
  },
  {
   "cell_type": "code",
   "execution_count": 144,
   "id": "56a7d0b2-e707-4d31-8652-8f14dbd68f48",
   "metadata": {
    "slideshow": {
     "slide_type": "skip"
    },
    "tags": []
   },
   "outputs": [
    {
     "name": "stdout",
     "output_type": "stream",
     "text": [
      "0.5795622406639004 ppb\n"
     ]
    }
   ],
   "source": [
    "prediction = regression_tree.predict(X_test)\n",
    "\n",
    "print((prediction - Y_test).abs().mean(),'ppb')"
   ]
  },
  {
   "cell_type": "code",
   "execution_count": 26,
   "id": "2ea54dae-6dbb-4d50-a3d3-e79e6b76d94e",
   "metadata": {
    "slideshow": {
     "slide_type": "skip"
    },
    "tags": []
   },
   "outputs": [
    {
     "ename": "SyntaxError",
     "evalue": "invalid syntax (541224091.py, line 1)",
     "output_type": "error",
     "traceback": [
      "\u001b[1;36m  Cell \u001b[1;32mIn [26], line 1\u001b[1;36m\u001b[0m\n\u001b[1;33m    google-chrome MySlide.slides.html\u001b[0m\n\u001b[1;37m                  ^\u001b[0m\n\u001b[1;31mSyntaxError\u001b[0m\u001b[1;31m:\u001b[0m invalid syntax\n"
     ]
    }
   ],
   "source": [
    "google-chrome MySlide.slides.html "
   ]
  },
  {
   "cell_type": "code",
   "execution_count": null,
   "id": "4ec3cb2e-c42b-4ee1-8fb0-ea86ed21f0c5",
   "metadata": {},
   "outputs": [],
   "source": []
  }
 ],
 "metadata": {
  "kernelspec": {
   "display_name": "Python 3 (ipykernel)",
   "language": "python",
   "name": "python3"
  },
  "language_info": {
   "codemirror_mode": {
    "name": "ipython",
    "version": 3
   },
   "file_extension": ".py",
   "mimetype": "text/x-python",
   "name": "python",
   "nbconvert_exporter": "python",
   "pygments_lexer": "ipython3",
   "version": "3.8.8"
  }
 },
 "nbformat": 4,
 "nbformat_minor": 5
}
