{
 "cells": [
  {
   "cell_type": "code",
   "execution_count": 47,
   "id": "43fc1d71-a946-4340-8084-589ae592fcfe",
   "metadata": {
    "slideshow": {
     "slide_type": "skip"
    },
    "tags": []
   },
   "outputs": [],
   "source": [
    "import pandas as pd\n",
    "import numpy as np\n",
    "from skimpy import clean_columns\n",
    "import matplotlib.pyplot as plt\n",
    "import pylab as pl\n",
    "from statsmodels.tsa.seasonal import seasonal_decompose\n",
    "%matplotlib inline"
   ]
  },
  {
   "cell_type": "markdown",
   "id": "d7a1ea96-ee61-4ebf-843f-d7dab6f89434",
   "metadata": {
    "slideshow": {
     "slide_type": "slide"
    },
    "tags": []
   },
   "source": [
    "Import the size and depth statistics about each lake"
   ]
  },
  {
   "cell_type": "code",
   "execution_count": 25,
   "id": "f14a6de1-814a-4a3f-b56c-70a203371dde",
   "metadata": {
    "tags": []
   },
   "outputs": [
    {
     "data": {
      "text/html": [
       "<pre style=\"white-space:pre;overflow-x:auto;line-height:normal;font-family:Menlo,'DejaVu Sans Mono',consolas,'Courier New',monospace\"><span style=\"color: #008080; text-decoration-color: #008080; font-weight: bold\">5</span> column names have been cleaned\n",
       "</pre>\n"
      ],
      "text/plain": [
       "\u001b[1;36m5\u001b[0m column names have been cleaned\n"
      ]
     },
     "metadata": {},
     "output_type": "display_data"
    },
    {
     "data": {
      "text/html": [
       "<div>\n",
       "<style scoped>\n",
       "    .dataframe tbody tr th:only-of-type {\n",
       "        vertical-align: middle;\n",
       "    }\n",
       "\n",
       "    .dataframe tbody tr th {\n",
       "        vertical-align: top;\n",
       "    }\n",
       "\n",
       "    .dataframe thead th {\n",
       "        text-align: right;\n",
       "    }\n",
       "</style>\n",
       "<table border=\"1\" class=\"dataframe\">\n",
       "  <thead>\n",
       "    <tr style=\"text-align: right;\">\n",
       "      <th></th>\n",
       "      <th>lake_name</th>\n",
       "      <th>surface_area_acres</th>\n",
       "      <th>watershed_acres</th>\n",
       "      <th>average_depth_ft</th>\n",
       "      <th>maximum_depth_ft</th>\n",
       "    </tr>\n",
       "  </thead>\n",
       "  <tbody>\n",
       "    <tr>\n",
       "      <th>0</th>\n",
       "      <td>Wawasee</td>\n",
       "      <td>3006</td>\n",
       "      <td>24448</td>\n",
       "      <td>22.0</td>\n",
       "      <td>81</td>\n",
       "    </tr>\n",
       "    <tr>\n",
       "      <th>1</th>\n",
       "      <td>Syracuse</td>\n",
       "      <td>411</td>\n",
       "      <td>24498</td>\n",
       "      <td>13.0</td>\n",
       "      <td>34</td>\n",
       "    </tr>\n",
       "    <tr>\n",
       "      <th>2</th>\n",
       "      <td>Dewart</td>\n",
       "      <td>554</td>\n",
       "      <td>5059</td>\n",
       "      <td>16.0</td>\n",
       "      <td>82</td>\n",
       "    </tr>\n",
       "    <tr>\n",
       "      <th>3</th>\n",
       "      <td>Webster</td>\n",
       "      <td>653</td>\n",
       "      <td>31459</td>\n",
       "      <td>12.5</td>\n",
       "      <td>52</td>\n",
       "    </tr>\n",
       "    <tr>\n",
       "      <th>4</th>\n",
       "      <td>James</td>\n",
       "      <td>278</td>\n",
       "      <td>35776</td>\n",
       "      <td>27.0</td>\n",
       "      <td>62</td>\n",
       "    </tr>\n",
       "  </tbody>\n",
       "</table>\n",
       "</div>"
      ],
      "text/plain": [
       "  lake_name  surface_area_acres  watershed_acres  average_depth_ft  \\\n",
       "0   Wawasee                3006            24448              22.0   \n",
       "1  Syracuse                 411            24498              13.0   \n",
       "2    Dewart                 554             5059              16.0   \n",
       "3   Webster                 653            31459              12.5   \n",
       "4     James                 278            35776              27.0   \n",
       "\n",
       "   maximum_depth_ft  \n",
       "0                81  \n",
       "1                34  \n",
       "2                82  \n",
       "3                52  \n",
       "4                62  "
      ]
     },
     "execution_count": 25,
     "metadata": {},
     "output_type": "execute_result"
    }
   ],
   "source": [
    "lake_stats = clean_columns(\n",
    "    pd.read_csv(\"Lake physical data.csv\",\n",
    "                low_memory = False))\n",
    "lake_stats.rename(columns={'lake': 'lake_name'}, inplace=True)\n",
    "lake_stats.head()"
   ]
  },
  {
   "cell_type": "markdown",
   "id": "58530ea7-9a33-4c54-8a2f-4bb1148c90ed",
   "metadata": {
    "slideshow": {
     "slide_type": "skip"
    },
    "tags": []
   },
   "source": [
    "List the names of the lakes (exclude Yellow Creek)"
   ]
  },
  {
   "cell_type": "code",
   "execution_count": 30,
   "id": "adb583d7-a629-444b-97a5-2f79d191ed17",
   "metadata": {
    "slideshow": {
     "slide_type": "skip"
    },
    "tags": []
   },
   "outputs": [
    {
     "data": {
      "text/plain": [
       "'Wawasee, Syracuse, Dewart, Webster, James, Tippecanoe, Oswego, Big Barbee, Big Chapman, Center, Pike, Winona, Beaver Dam'"
      ]
     },
     "execution_count": 30,
     "metadata": {},
     "output_type": "execute_result"
    }
   ],
   "source": [
    "lake_names = lake_stats.lake_name[:-1]\n",
    "', '.join(lake_names)"
   ]
  },
  {
   "cell_type": "markdown",
   "id": "7b74bf4c-8cdb-4208-bfd5-dc7b2c3e7959",
   "metadata": {
    "slideshow": {
     "slide_type": "slide"
    },
    "tags": []
   },
   "source": [
    "Import the lakes and streams measurements."
   ]
  },
  {
   "cell_type": "code",
   "execution_count": 42,
   "id": "c6873030-5286-480f-9a9d-0a009e0288d2",
   "metadata": {
    "tags": []
   },
   "outputs": [
    {
     "data": {
      "text/html": [
       "<pre style=\"white-space:pre;overflow-x:auto;line-height:normal;font-family:Menlo,'DejaVu Sans Mono',consolas,'Courier New',monospace\"><span style=\"color: #008080; text-decoration-color: #008080; font-weight: bold\">52</span> column names have been cleaned\n",
       "</pre>\n"
      ],
      "text/plain": [
       "\u001b[1;36m52\u001b[0m column names have been cleaned\n"
      ]
     },
     "metadata": {},
     "output_type": "display_data"
    },
    {
     "data": {
      "text/html": [
       "<div>\n",
       "<style scoped>\n",
       "    .dataframe tbody tr th:only-of-type {\n",
       "        vertical-align: middle;\n",
       "    }\n",
       "\n",
       "    .dataframe tbody tr th {\n",
       "        vertical-align: top;\n",
       "    }\n",
       "\n",
       "    .dataframe thead th {\n",
       "        text-align: right;\n",
       "    }\n",
       "</style>\n",
       "<table border=\"1\" class=\"dataframe\">\n",
       "  <thead>\n",
       "    <tr style=\"text-align: right;\">\n",
       "      <th></th>\n",
       "      <th>lake_name</th>\n",
       "      <th>id_#</th>\n",
       "      <th>date</th>\n",
       "      <th>time</th>\n",
       "      <th>total_depth_m</th>\n",
       "      <th>secchi_depth</th>\n",
       "      <th>depth_m</th>\n",
       "      <th>water_temp_cel_s</th>\n",
       "      <th>do_%_sat</th>\n",
       "      <th>do_mg_l</th>\n",
       "      <th>...</th>\n",
       "      <th>no_2</th>\n",
       "      <th>no_3</th>\n",
       "      <th>si_o_2</th>\n",
       "      <th>srp</th>\n",
       "      <th>tp</th>\n",
       "      <th>tkn</th>\n",
       "      <th>tn</th>\n",
       "      <th>cond</th>\n",
       "      <th>ss</th>\n",
       "      <th>f</th>\n",
       "    </tr>\n",
       "    <tr>\n",
       "      <th>date</th>\n",
       "      <th></th>\n",
       "      <th></th>\n",
       "      <th></th>\n",
       "      <th></th>\n",
       "      <th></th>\n",
       "      <th></th>\n",
       "      <th></th>\n",
       "      <th></th>\n",
       "      <th></th>\n",
       "      <th></th>\n",
       "      <th></th>\n",
       "      <th></th>\n",
       "      <th></th>\n",
       "      <th></th>\n",
       "      <th></th>\n",
       "      <th></th>\n",
       "      <th></th>\n",
       "      <th></th>\n",
       "      <th></th>\n",
       "      <th></th>\n",
       "      <th></th>\n",
       "    </tr>\n",
       "  </thead>\n",
       "  <tbody>\n",
       "    <tr>\n",
       "      <th>2021-08-09</th>\n",
       "      <td>Beaver Dam</td>\n",
       "      <td>21221BEA2</td>\n",
       "      <td>2021-08-09</td>\n",
       "      <td>15:40</td>\n",
       "      <td>18.5</td>\n",
       "      <td>2.5</td>\n",
       "      <td>0.0</td>\n",
       "      <td>26.90</td>\n",
       "      <td>113.4</td>\n",
       "      <td>9.05</td>\n",
       "      <td>...</td>\n",
       "      <td>4V</td>\n",
       "      <td>NaN</td>\n",
       "      <td>NaN</td>\n",
       "      <td>NaN</td>\n",
       "      <td>NaN</td>\n",
       "      <td>NaN</td>\n",
       "      <td>NaN</td>\n",
       "      <td>NaN</td>\n",
       "      <td>NaN</td>\n",
       "      <td>NaN</td>\n",
       "    </tr>\n",
       "    <tr>\n",
       "      <th>2018-07-09</th>\n",
       "      <td>Beaver Dam</td>\n",
       "      <td>18190BEA2</td>\n",
       "      <td>2018-07-09</td>\n",
       "      <td>15:00</td>\n",
       "      <td>18.0</td>\n",
       "      <td>3.0</td>\n",
       "      <td>0.0</td>\n",
       "      <td>28.83</td>\n",
       "      <td>115.0</td>\n",
       "      <td>8.75</td>\n",
       "      <td>...</td>\n",
       "      <td>NaN</td>\n",
       "      <td>NaN</td>\n",
       "      <td>NaN</td>\n",
       "      <td>NaN</td>\n",
       "      <td>NaN</td>\n",
       "      <td>NaN</td>\n",
       "      <td>NaN</td>\n",
       "      <td>NaN</td>\n",
       "      <td>NaN</td>\n",
       "      <td>NaN</td>\n",
       "    </tr>\n",
       "    <tr>\n",
       "      <th>2018-07-23</th>\n",
       "      <td>Beaver Dam</td>\n",
       "      <td>18204BEA2</td>\n",
       "      <td>2018-07-23</td>\n",
       "      <td>15:15</td>\n",
       "      <td>19.0</td>\n",
       "      <td>5.8</td>\n",
       "      <td>0.0</td>\n",
       "      <td>25.21</td>\n",
       "      <td>88.7</td>\n",
       "      <td>7.27</td>\n",
       "      <td>...</td>\n",
       "      <td>NaN</td>\n",
       "      <td>NaN</td>\n",
       "      <td>NaN</td>\n",
       "      <td>NaN</td>\n",
       "      <td>NaN</td>\n",
       "      <td>NaN</td>\n",
       "      <td>NaN</td>\n",
       "      <td>NaN</td>\n",
       "      <td>NaN</td>\n",
       "      <td>NaN</td>\n",
       "    </tr>\n",
       "    <tr>\n",
       "      <th>2018-07-31</th>\n",
       "      <td>Beaver Dam</td>\n",
       "      <td>18211BEA2</td>\n",
       "      <td>2018-07-31</td>\n",
       "      <td>15:00</td>\n",
       "      <td>18.6</td>\n",
       "      <td>4.4</td>\n",
       "      <td>0.0</td>\n",
       "      <td>25.10</td>\n",
       "      <td>103.3</td>\n",
       "      <td>8.55</td>\n",
       "      <td>...</td>\n",
       "      <td>NaN</td>\n",
       "      <td>NaN</td>\n",
       "      <td>NaN</td>\n",
       "      <td>NaN</td>\n",
       "      <td>NaN</td>\n",
       "      <td>NaN</td>\n",
       "      <td>NaN</td>\n",
       "      <td>NaN</td>\n",
       "      <td>NaN</td>\n",
       "      <td>NaN</td>\n",
       "    </tr>\n",
       "    <tr>\n",
       "      <th>2018-08-06</th>\n",
       "      <td>Beaver Dam</td>\n",
       "      <td>18218BEA2</td>\n",
       "      <td>2018-08-06</td>\n",
       "      <td>14:45</td>\n",
       "      <td>18.8</td>\n",
       "      <td>4.4</td>\n",
       "      <td>0.0</td>\n",
       "      <td>28.77</td>\n",
       "      <td>120.2</td>\n",
       "      <td>9.30</td>\n",
       "      <td>...</td>\n",
       "      <td>NaN</td>\n",
       "      <td>NaN</td>\n",
       "      <td>NaN</td>\n",
       "      <td>NaN</td>\n",
       "      <td>NaN</td>\n",
       "      <td>NaN</td>\n",
       "      <td>NaN</td>\n",
       "      <td>NaN</td>\n",
       "      <td>NaN</td>\n",
       "      <td>NaN</td>\n",
       "    </tr>\n",
       "  </tbody>\n",
       "</table>\n",
       "<p>5 rows × 38 columns</p>\n",
       "</div>"
      ],
      "text/plain": [
       "             lake_name       id_#       date   time  total_depth_m  \\\n",
       "date                                                                 \n",
       "2021-08-09  Beaver Dam  21221BEA2 2021-08-09  15:40           18.5   \n",
       "2018-07-09  Beaver Dam  18190BEA2 2018-07-09  15:00           18.0   \n",
       "2018-07-23  Beaver Dam  18204BEA2 2018-07-23  15:15           19.0   \n",
       "2018-07-31  Beaver Dam  18211BEA2 2018-07-31  15:00           18.6   \n",
       "2018-08-06  Beaver Dam  18218BEA2 2018-08-06  14:45           18.8   \n",
       "\n",
       "           secchi_depth  depth_m  water_temp_cel_s  do_%_sat  do_mg_l  ...  \\\n",
       "date                                                                   ...   \n",
       "2021-08-09          2.5      0.0             26.90     113.4     9.05  ...   \n",
       "2018-07-09          3.0      0.0             28.83     115.0     8.75  ...   \n",
       "2018-07-23          5.8      0.0             25.21      88.7     7.27  ...   \n",
       "2018-07-31          4.4      0.0             25.10     103.3     8.55  ...   \n",
       "2018-08-06          4.4      0.0             28.77     120.2     9.30  ...   \n",
       "\n",
       "            no_2  no_3 si_o_2 srp  tp  tkn  tn  cond  ss   f  \n",
       "date                                                          \n",
       "2021-08-09    4V   NaN    NaN NaN NaN  NaN NaN   NaN NaN NaN  \n",
       "2018-07-09   NaN   NaN    NaN NaN NaN  NaN NaN   NaN NaN NaN  \n",
       "2018-07-23   NaN   NaN    NaN NaN NaN  NaN NaN   NaN NaN NaN  \n",
       "2018-07-31   NaN   NaN    NaN NaN NaN  NaN NaN   NaN NaN NaN  \n",
       "2018-08-06   NaN   NaN    NaN NaN NaN  NaN NaN   NaN NaN NaN  \n",
       "\n",
       "[5 rows x 38 columns]"
      ]
     },
     "execution_count": 42,
     "metadata": {},
     "output_type": "execute_result"
    }
   ],
   "source": [
    "lakes = clean_columns(\n",
    "    pd.read_csv(\"LakeData.csv\",\n",
    "                low_memory = False))\n",
    "lakes['date'] = pd.to_datetime(lakes['date'], format='%m/%d/%Y')\n",
    "lakes = lakes.drop(['site_type','mc_id', 'ac_id', 'pw', 'w', 'epi_hypo',\n",
    "                    'notes', 'unnamed_50','unnamed_51','quanta_#',\n",
    "                    'weather_meter_#', 'fluorometer_#',\t'aquafluor_#', \n",
    "                    'van_dorn_#'], axis = 1).dropna(how = \"all\")\n",
    "lakes = lakes.set_index(lakes.date)\n",
    "lakes.head()"
   ]
  },
  {
   "cell_type": "code",
   "execution_count": 43,
   "id": "dbcc463d-3dcb-4893-8fa3-6d254be43b59",
   "metadata": {
    "slideshow": {
     "slide_type": "slide"
    },
    "tags": []
   },
   "outputs": [
    {
     "data": {
      "text/html": [
       "<div>\n",
       "<style scoped>\n",
       "    .dataframe tbody tr th:only-of-type {\n",
       "        vertical-align: middle;\n",
       "    }\n",
       "\n",
       "    .dataframe tbody tr th {\n",
       "        vertical-align: top;\n",
       "    }\n",
       "\n",
       "    .dataframe thead th {\n",
       "        text-align: right;\n",
       "    }\n",
       "</style>\n",
       "<table border=\"1\" class=\"dataframe\">\n",
       "  <thead>\n",
       "    <tr style=\"text-align: right;\">\n",
       "      <th></th>\n",
       "      <th>lake_name</th>\n",
       "      <th>id_#</th>\n",
       "      <th>date</th>\n",
       "      <th>time</th>\n",
       "      <th>total_depth_m</th>\n",
       "      <th>secchi_depth</th>\n",
       "      <th>depth_m</th>\n",
       "      <th>water_temp_cel_s</th>\n",
       "      <th>do_%_sat</th>\n",
       "      <th>do_mg_l</th>\n",
       "      <th>...</th>\n",
       "      <th>no_2</th>\n",
       "      <th>no_3</th>\n",
       "      <th>si_o_2</th>\n",
       "      <th>srp</th>\n",
       "      <th>tp</th>\n",
       "      <th>tkn</th>\n",
       "      <th>tn</th>\n",
       "      <th>cond</th>\n",
       "      <th>ss</th>\n",
       "      <th>f</th>\n",
       "    </tr>\n",
       "    <tr>\n",
       "      <th>date</th>\n",
       "      <th></th>\n",
       "      <th></th>\n",
       "      <th></th>\n",
       "      <th></th>\n",
       "      <th></th>\n",
       "      <th></th>\n",
       "      <th></th>\n",
       "      <th></th>\n",
       "      <th></th>\n",
       "      <th></th>\n",
       "      <th></th>\n",
       "      <th></th>\n",
       "      <th></th>\n",
       "      <th></th>\n",
       "      <th></th>\n",
       "      <th></th>\n",
       "      <th></th>\n",
       "      <th></th>\n",
       "      <th></th>\n",
       "      <th></th>\n",
       "      <th></th>\n",
       "    </tr>\n",
       "  </thead>\n",
       "  <tbody>\n",
       "    <tr>\n",
       "      <th>2021-08-09</th>\n",
       "      <td>Winona</td>\n",
       "      <td>21221WIN2</td>\n",
       "      <td>2021-08-09</td>\n",
       "      <td>12:24</td>\n",
       "      <td>23.5</td>\n",
       "      <td>2.6</td>\n",
       "      <td>0.0</td>\n",
       "      <td>26.20</td>\n",
       "      <td>115.9</td>\n",
       "      <td>9.38</td>\n",
       "      <td>...</td>\n",
       "      <td>4V</td>\n",
       "      <td>NaN</td>\n",
       "      <td>NaN</td>\n",
       "      <td>NaN</td>\n",
       "      <td>NaN</td>\n",
       "      <td>NaN</td>\n",
       "      <td>NaN</td>\n",
       "      <td>NaN</td>\n",
       "      <td>NaN</td>\n",
       "      <td>NaN</td>\n",
       "    </tr>\n",
       "    <tr>\n",
       "      <th>2018-06-13</th>\n",
       "      <td>Winona</td>\n",
       "      <td>18164WIN2</td>\n",
       "      <td>2018-06-13</td>\n",
       "      <td>16:00</td>\n",
       "      <td>23.7</td>\n",
       "      <td>4.5</td>\n",
       "      <td>0.0</td>\n",
       "      <td>23.26</td>\n",
       "      <td>110.3</td>\n",
       "      <td>9.41</td>\n",
       "      <td>...</td>\n",
       "      <td>NaN</td>\n",
       "      <td>NaN</td>\n",
       "      <td>NaN</td>\n",
       "      <td>NaN</td>\n",
       "      <td>NaN</td>\n",
       "      <td>NaN</td>\n",
       "      <td>NaN</td>\n",
       "      <td>NaN</td>\n",
       "      <td>NaN</td>\n",
       "      <td>NaN</td>\n",
       "    </tr>\n",
       "    <tr>\n",
       "      <th>2018-06-27</th>\n",
       "      <td>Winona</td>\n",
       "      <td>18178WIN2</td>\n",
       "      <td>2018-06-27</td>\n",
       "      <td>16:00</td>\n",
       "      <td>23.9</td>\n",
       "      <td>3.9</td>\n",
       "      <td>0.0</td>\n",
       "      <td>23.88</td>\n",
       "      <td>109.7</td>\n",
       "      <td>9.27</td>\n",
       "      <td>...</td>\n",
       "      <td>NaN</td>\n",
       "      <td>NaN</td>\n",
       "      <td>NaN</td>\n",
       "      <td>NaN</td>\n",
       "      <td>NaN</td>\n",
       "      <td>NaN</td>\n",
       "      <td>NaN</td>\n",
       "      <td>NaN</td>\n",
       "      <td>NaN</td>\n",
       "      <td>NaN</td>\n",
       "    </tr>\n",
       "    <tr>\n",
       "      <th>2018-07-11</th>\n",
       "      <td>Winona</td>\n",
       "      <td>18192WIN2</td>\n",
       "      <td>2018-07-11</td>\n",
       "      <td>16:11</td>\n",
       "      <td>24.0</td>\n",
       "      <td>2.8</td>\n",
       "      <td>0.0</td>\n",
       "      <td>29.32</td>\n",
       "      <td>133.9</td>\n",
       "      <td>10.40</td>\n",
       "      <td>...</td>\n",
       "      <td>NaN</td>\n",
       "      <td>NaN</td>\n",
       "      <td>NaN</td>\n",
       "      <td>NaN</td>\n",
       "      <td>NaN</td>\n",
       "      <td>NaN</td>\n",
       "      <td>NaN</td>\n",
       "      <td>NaN</td>\n",
       "      <td>NaN</td>\n",
       "      <td>NaN</td>\n",
       "    </tr>\n",
       "    <tr>\n",
       "      <th>2018-07-18</th>\n",
       "      <td>Winona</td>\n",
       "      <td>18199WIN2</td>\n",
       "      <td>2018-07-18</td>\n",
       "      <td>16:00</td>\n",
       "      <td>23.0</td>\n",
       "      <td>3.3</td>\n",
       "      <td>0.0</td>\n",
       "      <td>28.54</td>\n",
       "      <td>131.7</td>\n",
       "      <td>10.18</td>\n",
       "      <td>...</td>\n",
       "      <td>NaN</td>\n",
       "      <td>NaN</td>\n",
       "      <td>NaN</td>\n",
       "      <td>NaN</td>\n",
       "      <td>NaN</td>\n",
       "      <td>NaN</td>\n",
       "      <td>NaN</td>\n",
       "      <td>NaN</td>\n",
       "      <td>NaN</td>\n",
       "      <td>NaN</td>\n",
       "    </tr>\n",
       "  </tbody>\n",
       "</table>\n",
       "<p>5 rows × 38 columns</p>\n",
       "</div>"
      ],
      "text/plain": [
       "           lake_name       id_#       date   time  total_depth_m secchi_depth  \\\n",
       "date                                                                            \n",
       "2021-08-09    Winona  21221WIN2 2021-08-09  12:24           23.5          2.6   \n",
       "2018-06-13    Winona  18164WIN2 2018-06-13  16:00           23.7          4.5   \n",
       "2018-06-27    Winona  18178WIN2 2018-06-27  16:00           23.9          3.9   \n",
       "2018-07-11    Winona  18192WIN2 2018-07-11  16:11           24.0          2.8   \n",
       "2018-07-18    Winona  18199WIN2 2018-07-18  16:00           23.0          3.3   \n",
       "\n",
       "            depth_m  water_temp_cel_s  do_%_sat  do_mg_l  ...  no_2  no_3  \\\n",
       "date                                                      ...               \n",
       "2021-08-09      0.0             26.20     115.9     9.38  ...    4V   NaN   \n",
       "2018-06-13      0.0             23.26     110.3     9.41  ...   NaN   NaN   \n",
       "2018-06-27      0.0             23.88     109.7     9.27  ...   NaN   NaN   \n",
       "2018-07-11      0.0             29.32     133.9    10.40  ...   NaN   NaN   \n",
       "2018-07-18      0.0             28.54     131.7    10.18  ...   NaN   NaN   \n",
       "\n",
       "           si_o_2 srp  tp  tkn  tn  cond  ss   f  \n",
       "date                                              \n",
       "2021-08-09    NaN NaN NaN  NaN NaN   NaN NaN NaN  \n",
       "2018-06-13    NaN NaN NaN  NaN NaN   NaN NaN NaN  \n",
       "2018-06-27    NaN NaN NaN  NaN NaN   NaN NaN NaN  \n",
       "2018-07-11    NaN NaN NaN  NaN NaN   NaN NaN NaN  \n",
       "2018-07-18    NaN NaN NaN  NaN NaN   NaN NaN NaN  \n",
       "\n",
       "[5 rows x 38 columns]"
      ]
     },
     "execution_count": 43,
     "metadata": {},
     "output_type": "execute_result"
    }
   ],
   "source": [
    "#create a data frame dictionary to store your data frames\n",
    "by_lake = dict(tuple(lakes.groupby('lake_name')))\n",
    "by_lake['Winona'].head()"
   ]
  },
  {
   "cell_type": "markdown",
   "id": "64eab633-a8b6-43d2-9831-aa5242007f72",
   "metadata": {
    "slideshow": {
     "slide_type": "slide"
    },
    "tags": []
   },
   "source": [
    "The following is just playing around with a single lake.  In the future, this code should be turned into a function and mapped to the dictionary."
   ]
  },
  {
   "cell_type": "code",
   "execution_count": 90,
   "id": "78c8d76d-4503-4e41-8fd0-bba3e46b7e8b",
   "metadata": {},
   "outputs": [
    {
     "data": {
      "text/plain": [
       "[<matplotlib.lines.Line2D at 0x251c40e6fa0>]"
      ]
     },
     "execution_count": 90,
     "metadata": {},
     "output_type": "execute_result"
    },
    {
     "data": {
      "image/png": "[encoded data removed]",
      "text/plain": [
       "<Figure size 432x288 with 1 Axes>"
      ]
     },
     "metadata": {
      "needs_background": "light"
     },
     "output_type": "display_data"
    }
   ],
   "source": [
    "W = by_lake['Winona']['mc_ppb'].dropna()\n",
    "W = W.asfreq('d')\n",
    "W = W.fillna(method='bfill').fillna(method='ffill')\n",
    "plt.plot(W)\n",
    "#res=seasonal_decompose(W)"
   ]
  },
  {
   "cell_type": "code",
   "execution_count": 84,
   "id": "3fc88181-f963-44cf-8c99-d0f963da08f1",
   "metadata": {
    "slideshow": {
     "slide_type": "subslide"
    },
    "tags": []
   },
   "outputs": [
    {
     "data": {
      "text/plain": [
       "[<matplotlib.lines.Line2D at 0x251c460ceb0>]"
      ]
     },
     "execution_count": 84,
     "metadata": {},
     "output_type": "execute_result"
    },
    {
     "data": {
      "image/png": "[encoded data removed]",
      "text/plain": [
       "<Figure size 432x288 with 1 Axes>"
      ]
     },
     "metadata": {
      "needs_background": "light"
     },
     "output_type": "display_data"
    }
   ],
   "source": [
    "plt.plot(res.trend)"
   ]
  },
  {
   "cell_type": "code",
   "execution_count": 85,
   "id": "e678366a-37a8-48bb-82f9-5c8f7e1b9972",
   "metadata": {
    "slideshow": {
     "slide_type": "subslide"
    },
    "tags": []
   },
   "outputs": [
    {
     "data": {
      "text/plain": [
       "[<matplotlib.lines.Line2D at 0x251c4676af0>]"
      ]
     },
     "execution_count": 85,
     "metadata": {},
     "output_type": "execute_result"
    },
    {
     "data": {
      "image/png": "[encoded data removed]",
      "text/plain": [
       "<Figure size 432x288 with 1 Axes>"
      ]
     },
     "metadata": {
      "needs_background": "light"
     },
     "output_type": "display_data"
    }
   ],
   "source": [
    "plt.plot(res.seasonal)"
   ]
  },
  {
   "cell_type": "code",
   "execution_count": 86,
   "id": "3f237f16-83cd-496b-b95a-b530feb19d76",
   "metadata": {
    "slideshow": {
     "slide_type": "subslide"
    },
    "tags": []
   },
   "outputs": [
    {
     "data": {
      "text/plain": [
       "[<matplotlib.lines.Line2D at 0x251c491b430>]"
      ]
     },
     "execution_count": 86,
     "metadata": {},
     "output_type": "execute_result"
    },
    {
     "data": {
      "image/png": "[encoded data removed]",
      "text/plain": [
       "<Figure size 432x288 with 1 Axes>"
      ]
     },
     "metadata": {
      "needs_background": "light"
     },
     "output_type": "display_data"
    }
   ],
   "source": [
    "plt.plot(res.resid)"
   ]
  },
  {
   "cell_type": "code",
   "execution_count": 9,
   "id": "28b24b3c-f9cc-4df2-b729-3123888ba465",
   "metadata": {
    "slideshow": {
     "slide_type": "slide"
    },
    "tags": []
   },
   "outputs": [],
   "source": [
    "import matplotlib.pyplot as plt\n",
    "import pylab as pl\n",
    "%matplotlib inline"
   ]
  },
  {
   "cell_type": "code",
   "execution_count": 10,
   "id": "b06cefbd-5a75-4176-b4cb-eee1fa88d2b1",
   "metadata": {},
   "outputs": [
    {
     "data": {
      "text/html": [
       "<div>\n",
       "<style scoped>\n",
       "    .dataframe tbody tr th:only-of-type {\n",
       "        vertical-align: middle;\n",
       "    }\n",
       "\n",
       "    .dataframe tbody tr th {\n",
       "        vertical-align: top;\n",
       "    }\n",
       "\n",
       "    .dataframe thead th {\n",
       "        text-align: right;\n",
       "    }\n",
       "</style>\n",
       "<table border=\"1\" class=\"dataframe\">\n",
       "  <thead>\n",
       "    <tr style=\"text-align: right;\">\n",
       "      <th></th>\n",
       "      <th>do_mg_l</th>\n",
       "      <th>mc_ppb</th>\n",
       "      <th>water_temp_cel_s</th>\n",
       "    </tr>\n",
       "  </thead>\n",
       "  <tbody>\n",
       "    <tr>\n",
       "      <th>0</th>\n",
       "      <td>9.05</td>\n",
       "      <td>NaN</td>\n",
       "      <td>26.90</td>\n",
       "    </tr>\n",
       "    <tr>\n",
       "      <th>1</th>\n",
       "      <td>8.75</td>\n",
       "      <td>0.075</td>\n",
       "      <td>28.83</td>\n",
       "    </tr>\n",
       "    <tr>\n",
       "      <th>2</th>\n",
       "      <td>7.27</td>\n",
       "      <td>0.075</td>\n",
       "      <td>25.21</td>\n",
       "    </tr>\n",
       "    <tr>\n",
       "      <th>3</th>\n",
       "      <td>8.55</td>\n",
       "      <td>0.075</td>\n",
       "      <td>25.10</td>\n",
       "    </tr>\n",
       "    <tr>\n",
       "      <th>4</th>\n",
       "      <td>9.30</td>\n",
       "      <td>0.075</td>\n",
       "      <td>28.77</td>\n",
       "    </tr>\n",
       "    <tr>\n",
       "      <th>5</th>\n",
       "      <td>13.83</td>\n",
       "      <td>0.075</td>\n",
       "      <td>22.40</td>\n",
       "    </tr>\n",
       "    <tr>\n",
       "      <th>6</th>\n",
       "      <td>12.27</td>\n",
       "      <td>0.075</td>\n",
       "      <td>25.40</td>\n",
       "    </tr>\n",
       "    <tr>\n",
       "      <th>7</th>\n",
       "      <td>10.82</td>\n",
       "      <td>0.075</td>\n",
       "      <td>23.70</td>\n",
       "    </tr>\n",
       "    <tr>\n",
       "      <th>8</th>\n",
       "      <td>8.15</td>\n",
       "      <td>0.075</td>\n",
       "      <td>26.30</td>\n",
       "    </tr>\n",
       "  </tbody>\n",
       "</table>\n",
       "</div>"
      ],
      "text/plain": [
       "   do_mg_l  mc_ppb  water_temp_cel_s\n",
       "0     9.05     NaN             26.90\n",
       "1     8.75   0.075             28.83\n",
       "2     7.27   0.075             25.21\n",
       "3     8.55   0.075             25.10\n",
       "4     9.30   0.075             28.77\n",
       "5    13.83   0.075             22.40\n",
       "6    12.27   0.075             25.40\n",
       "7    10.82   0.075             23.70\n",
       "8     8.15   0.075             26.30"
      ]
     },
     "execution_count": 10,
     "metadata": {},
     "output_type": "execute_result"
    }
   ],
   "source": [
    "cdf = clean_df[[\"do_mg_l\", \"mc_ppb\", \"water_temp_cel_s\"]]\n",
    "cdf.head(9)"
   ]
  },
  {
   "cell_type": "code",
   "execution_count": 11,
   "id": "a4eb5a28-d652-492a-8dc9-a2f9d850c155",
   "metadata": {},
   "outputs": [
    {
     "data": {
      "image/png": "[encoded data removed]",
      "text/plain": [
       "<Figure size 432x288 with 4 Axes>"
      ]
     },
     "metadata": {
      "needs_background": "light"
     },
     "output_type": "display_data"
    }
   ],
   "source": [
    "viz = cdf[[\"do_mg_l\", \"mc_ppb\", \"water_temp_cel_s\"]]\n",
    "viz.hist()\n",
    "plt.show()"
   ]
  },
  {
   "cell_type": "code",
   "execution_count": 12,
   "id": "72648bbc-6292-45a2-b561-035776fd8a5c",
   "metadata": {},
   "outputs": [
    {
     "data": {
      "image/png": "[encoded data removed]",
      "text/plain": [
       "<Figure size 432x288 with 1 Axes>"
      ]
     },
     "metadata": {
      "needs_background": "light"
     },
     "output_type": "display_data"
    }
   ],
   "source": [
    "plt.scatter(cdf.do_mg_l, cdf.mc_ppb,  color='blue')\n",
    "plt.xlabel(\"do_mg_l\")\n",
    "plt.ylabel(\"mc_ppb\")\n",
    "plt.show()"
   ]
  },
  {
   "cell_type": "code",
   "execution_count": 13,
   "id": "2a771524-12d4-421d-8d83-764d0c706f83",
   "metadata": {},
   "outputs": [
    {
     "data": {
      "image/png": "[encoded data removed]",
      "text/plain": [
       "<Figure size 432x288 with 1 Axes>"
      ]
     },
     "metadata": {
      "needs_background": "light"
     },
     "output_type": "display_data"
    }
   ],
   "source": [
    "plt.scatter(cdf.water_temp_cel_s, cdf.mc_ppb,  color='blue')\n",
    "plt.xlabel(\"water_temp_cel_s\")\n",
    "plt.ylabel(\"mc_ppb\")\n",
    "plt.show()"
   ]
  },
  {
   "cell_type": "code",
   "execution_count": 14,
   "id": "2897e3f0-62c3-429f-83c0-7ab128284c55",
   "metadata": {},
   "outputs": [],
   "source": [
    "clean_df_lin = cdf.dropna()\n",
    "clean_df_lin\n",
    "\n",
    "msk = np.random.rand(len(clean_df_lin)) < 0.8\n",
    "train = clean_df_lin[msk]\n",
    "test = clean_df_lin[~msk]"
   ]
  },
  {
   "cell_type": "code",
   "execution_count": null,
   "id": "77e37da4-4579-4a21-afc0-1a51c285a053",
   "metadata": {},
   "outputs": [],
   "source": []
  },
  {
   "cell_type": "code",
   "execution_count": 1,
   "id": "f33a6827-ec7a-487d-afdc-2f88b7305fbd",
   "metadata": {},
   "outputs": [
    {
     "name": "stdout",
     "output_type": "stream",
     "text": [
      "Requirement already satisfied: nbconvert in c:\\users\\johnsor\\anaconda3\\lib\\site-packages (6.1.0)\n",
      "Requirement already satisfied: traitlets>=5.0 in c:\\users\\johnsor\\anaconda3\\lib\\site-packages (from nbconvert) (5.4.0)\n",
      "Requirement already satisfied: defusedxml in c:\\users\\johnsor\\anaconda3\\lib\\site-packages (from nbconvert) (0.7.1)\n",
      "Requirement already satisfied: jupyterlab-pygments in c:\\users\\johnsor\\anaconda3\\lib\\site-packages (from nbconvert) (0.1.2)\n",
      "Requirement already satisfied: nbclient<0.6.0,>=0.5.0 in c:\\users\\johnsor\\anaconda3\\lib\\site-packages (from nbconvert) (0.5.4)\n",
      "Requirement already satisfied: pandocfilters>=1.4.1 in c:\\users\\johnsor\\anaconda3\\lib\\site-packages (from nbconvert) (1.4.2)\n",
      "Requirement already satisfied: testpath in c:\\users\\johnsor\\anaconda3\\lib\\site-packages (from nbconvert) (0.5.0)\n",
      "Requirement already satisfied: entrypoints>=0.2.2 in c:\\users\\johnsor\\anaconda3\\lib\\site-packages (from nbconvert) (0.3)\n",
      "Requirement already satisfied: mistune<2,>=0.8.1 in c:\\users\\johnsor\\anaconda3\\lib\\site-packages (from nbconvert) (0.8.4)\n",
      "Requirement already satisfied: bleach in c:\\users\\johnsor\\anaconda3\\lib\\site-packages (from nbconvert) (4.1.0)\n",
      "Requirement already satisfied: pygments>=2.4.1 in c:\\users\\johnsor\\anaconda3\\lib\\site-packages (from nbconvert) (2.10.0)\n",
      "Requirement already satisfied: jupyter-core in c:\\users\\johnsor\\anaconda3\\lib\\site-packages (from nbconvert) (4.7.1)\n",
      "Requirement already satisfied: jinja2>=2.4 in c:\\users\\johnsor\\anaconda3\\lib\\site-packages (from nbconvert) (2.11.3)\n",
      "Requirement already satisfied: nbformat>=4.4 in c:\\users\\johnsor\\anaconda3\\lib\\site-packages (from nbconvert) (5.1.3)\n",
      "Requirement already satisfied: MarkupSafe>=0.23 in c:\\users\\johnsor\\anaconda3\\lib\\site-packages (from jinja2>=2.4->nbconvert) (2.0.1)\n",
      "Requirement already satisfied: jupyter-client>=6.1.5 in c:\\users\\johnsor\\anaconda3\\lib\\site-packages (from nbclient<0.6.0,>=0.5.0->nbconvert) (7.0.2)\n",
      "Requirement already satisfied: nest-asyncio in c:\\users\\johnsor\\anaconda3\\lib\\site-packages (from nbclient<0.6.0,>=0.5.0->nbconvert) (1.5.1)\n",
      "Requirement already satisfied: python-dateutil>=2.1 in c:\\users\\johnsor\\anaconda3\\lib\\site-packages (from jupyter-client>=6.1.5->nbclient<0.6.0,>=0.5.0->nbconvert) (2.8.2)\n",
      "Requirement already satisfied: pyzmq>=13 in c:\\users\\johnsor\\anaconda3\\lib\\site-packages (from jupyter-client>=6.1.5->nbclient<0.6.0,>=0.5.0->nbconvert) (22.2.1)\n",
      "Requirement already satisfied: tornado>=4.1 in c:\\users\\johnsor\\anaconda3\\lib\\site-packages (from jupyter-client>=6.1.5->nbclient<0.6.0,>=0.5.0->nbconvert) (6.1)\n",
      "Requirement already satisfied: pywin32>=1.0 in c:\\users\\johnsor\\anaconda3\\lib\\site-packages (from jupyter-core->nbconvert) (228)\n",
      "Requirement already satisfied: ipython-genutils in c:\\users\\johnsor\\anaconda3\\lib\\site-packages (from nbformat>=4.4->nbconvert) (0.2.0)\n",
      "Requirement already satisfied: jsonschema!=2.5.0,>=2.4 in c:\\users\\johnsor\\anaconda3\\lib\\site-packages (from nbformat>=4.4->nbconvert) (3.2.0)\n",
      "Requirement already satisfied: six>=1.11.0 in c:\\users\\johnsor\\anaconda3\\lib\\site-packages (from jsonschema!=2.5.0,>=2.4->nbformat>=4.4->nbconvert) (1.16.0)\n",
      "Requirement already satisfied: setuptools in c:\\users\\johnsor\\anaconda3\\lib\\site-packages (from jsonschema!=2.5.0,>=2.4->nbformat>=4.4->nbconvert) (52.0.0.post20210125)\n",
      "Requirement already satisfied: attrs>=17.4.0 in c:\\users\\johnsor\\anaconda3\\lib\\site-packages (from jsonschema!=2.5.0,>=2.4->nbformat>=4.4->nbconvert) (21.2.0)\n",
      "Requirement already satisfied: pyrsistent>=0.14.0 in c:\\users\\johnsor\\anaconda3\\lib\\site-packages (from jsonschema!=2.5.0,>=2.4->nbformat>=4.4->nbconvert) (0.17.3)\n",
      "Requirement already satisfied: webencodings in c:\\users\\johnsor\\anaconda3\\lib\\site-packages (from bleach->nbconvert) (0.5.1)\n",
      "Requirement already satisfied: packaging in c:\\users\\johnsor\\anaconda3\\lib\\site-packages (from bleach->nbconvert) (21.3)\n",
      "Requirement already satisfied: pyparsing!=3.0.5,>=2.0.2 in c:\\users\\johnsor\\anaconda3\\lib\\site-packages (from packaging->bleach->nbconvert) (2.4.7)\n",
      "Note: you may need to restart the kernel to use updated packages.\n"
     ]
    }
   ],
   "source": [
    "pip install nbconvert"
   ]
  },
  {
   "cell_type": "code",
   "execution_count": null,
   "id": "5b37f0b8-43b2-4c3f-aa47-63556a1b6e76",
   "metadata": {},
   "outputs": [],
   "source": []
  }
 ],
 "metadata": {
  "kernelspec": {
   "display_name": "Python 3 (ipykernel)",
   "language": "python",
   "name": "python3"
  },
  "language_info": {
   "codemirror_mode": {
    "name": "ipython",
    "version": 3
   },
   "file_extension": ".py",
   "mimetype": "text/x-python",
   "name": "python",
   "nbconvert_exporter": "python",
   "pygments_lexer": "ipython3",
   "version": "3.8.8"
  }
 },
 "nbformat": 4,
 "nbformat_minor": 5
}
