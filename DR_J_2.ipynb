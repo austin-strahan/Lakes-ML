{
 "cells": [
  {
   "cell_type": "code",
   "execution_count": 2,
   "id": "bd557454-4765-40ef-bb2d-b4c1ed2910ff",
   "metadata": {
    "slideshow": {
     "slide_type": "skip"
    },
    "tags": []
   },
   "outputs": [],
   "source": [
    "import pandas as pd\n",
    "import numpy as np\n",
    "from skimpy import clean_columns\n",
    "import matplotlib.pyplot as plt\n",
    "import pylab as pl\n",
    "from statsmodels.tsa.seasonal import seasonal_decompose\n",
    "%matplotlib inline"
   ]
  },
  {
   "cell_type": "markdown",
   "id": "0b1a41b1-1779-4381-848e-a18b52bcfef3",
   "metadata": {
    "slideshow": {
     "slide_type": "slide"
    },
    "tags": []
   },
   "source": [
    "Import the size and depth statistics about each lake"
   ]
  },
  {
   "cell_type": "code",
   "execution_count": 3,
   "id": "94db55b1-2912-47bc-8098-bc888dc9a405",
   "metadata": {
    "tags": []
   },
   "outputs": [
    {
     "data": {
      "text/html": [
       "<pre style=\"white-space:pre;overflow-x:auto;line-height:normal;font-family:Menlo,'DejaVu Sans Mono',consolas,'Courier New',monospace\"><span style=\"color: #008080; text-decoration-color: #008080; font-weight: bold\">5</span> column names have been cleaned\n",
       "</pre>\n"
      ],
      "text/plain": [
       "\u001b[1;36m5\u001b[0m column names have been cleaned\n"
      ]
     },
     "metadata": {},
     "output_type": "display_data"
    },
    {
     "data": {
      "text/html": [
       "<div>\n",
       "<style scoped>\n",
       "    .dataframe tbody tr th:only-of-type {\n",
       "        vertical-align: middle;\n",
       "    }\n",
       "\n",
       "    .dataframe tbody tr th {\n",
       "        vertical-align: top;\n",
       "    }\n",
       "\n",
       "    .dataframe thead th {\n",
       "        text-align: right;\n",
       "    }\n",
       "</style>\n",
       "<table border=\"1\" class=\"dataframe\">\n",
       "  <thead>\n",
       "    <tr style=\"text-align: right;\">\n",
       "      <th></th>\n",
       "      <th>lake_name</th>\n",
       "      <th>surface_area_acres</th>\n",
       "      <th>watershed_acres</th>\n",
       "      <th>average_depth_ft</th>\n",
       "      <th>maximum_depth_ft</th>\n",
       "    </tr>\n",
       "  </thead>\n",
       "  <tbody>\n",
       "    <tr>\n",
       "      <th>0</th>\n",
       "      <td>Wawasee</td>\n",
       "      <td>3006</td>\n",
       "      <td>24448</td>\n",
       "      <td>22.0</td>\n",
       "      <td>81</td>\n",
       "    </tr>\n",
       "    <tr>\n",
       "      <th>1</th>\n",
       "      <td>Syracuse</td>\n",
       "      <td>411</td>\n",
       "      <td>24498</td>\n",
       "      <td>13.0</td>\n",
       "      <td>34</td>\n",
       "    </tr>\n",
       "    <tr>\n",
       "      <th>2</th>\n",
       "      <td>Dewart</td>\n",
       "      <td>554</td>\n",
       "      <td>5059</td>\n",
       "      <td>16.0</td>\n",
       "      <td>82</td>\n",
       "    </tr>\n",
       "    <tr>\n",
       "      <th>3</th>\n",
       "      <td>Webster</td>\n",
       "      <td>653</td>\n",
       "      <td>31459</td>\n",
       "      <td>12.5</td>\n",
       "      <td>52</td>\n",
       "    </tr>\n",
       "    <tr>\n",
       "      <th>4</th>\n",
       "      <td>James</td>\n",
       "      <td>278</td>\n",
       "      <td>35776</td>\n",
       "      <td>27.0</td>\n",
       "      <td>62</td>\n",
       "    </tr>\n",
       "  </tbody>\n",
       "</table>\n",
       "</div>"
      ],
      "text/plain": [
       "  lake_name  surface_area_acres  watershed_acres  average_depth_ft  \\\n",
       "0   Wawasee                3006            24448              22.0   \n",
       "1  Syracuse                 411            24498              13.0   \n",
       "2    Dewart                 554             5059              16.0   \n",
       "3   Webster                 653            31459              12.5   \n",
       "4     James                 278            35776              27.0   \n",
       "\n",
       "   maximum_depth_ft  \n",
       "0                81  \n",
       "1                34  \n",
       "2                82  \n",
       "3                52  \n",
       "4                62  "
      ]
     },
     "execution_count": 3,
     "metadata": {},
     "output_type": "execute_result"
    }
   ],
   "source": [
    "lake_stats = clean_columns(\n",
    "    pd.read_csv(\"Lake physical data.csv\",\n",
    "                low_memory = False))\n",
    "lake_stats.rename(columns={'lake': 'lake_name'}, inplace=True)\n",
    "lake_stats.head()"
   ]
  },
  {
   "cell_type": "code",
   "execution_count": null,
   "id": "e9f32405-2566-4c62-9edd-f28d4af0c742",
   "metadata": {},
   "outputs": [],
   "source": []
  }
 ],
 "metadata": {
  "kernelspec": {
   "display_name": "Python 3 (ipykernel)",
   "language": "python",
   "name": "python3"
  },
  "language_info": {
   "codemirror_mode": {
    "name": "ipython",
    "version": 3
   },
   "file_extension": ".py",
   "mimetype": "text/x-python",
   "name": "python",
   "nbconvert_exporter": "python",
   "pygments_lexer": "ipython3",
   "version": "3.8.5"
  }
 },
 "nbformat": 4,
 "nbformat_minor": 5
}
