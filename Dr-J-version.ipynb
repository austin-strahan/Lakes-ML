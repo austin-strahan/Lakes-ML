{
 "cells": [
  {
   "cell_type": "code",
   "execution_count": 1,
   "id": "8747af69-1245-4e34-a12f-9ab84014a644",
   "metadata": {},
   "outputs": [],
   "source": [
    "import pandas as pd\n",
    "import numpy as np\n",
    "import matplotlib.pyplot as plt\n",
    "from skimpy import clean_columns\n",
    "from sklearn import linear_model"
   ]
  },
  {
   "cell_type": "code",
   "execution_count": 2,
   "id": "5d0e8614-5668-4b3b-a0ee-d8b471a86ff6",
   "metadata": {},
   "outputs": [
    {
     "data": {
      "text/html": [
       "<pre style=\"white-space:pre;overflow-x:auto;line-height:normal;font-family:Menlo,'DejaVu Sans Mono',consolas,'Courier New',monospace\"><span style=\"color: #008080; text-decoration-color: #008080; font-weight: bold\">52</span> column names have been cleaned\n",
       "</pre>\n"
      ],
      "text/plain": [
       "\u001b[1;36m52\u001b[0m column names have been cleaned\n"
      ]
     },
     "metadata": {},
     "output_type": "display_data"
    },
    {
     "data": {
      "text/html": [
       "<div>\n",
       "<style scoped>\n",
       "    .dataframe tbody tr th:only-of-type {\n",
       "        vertical-align: middle;\n",
       "    }\n",
       "\n",
       "    .dataframe tbody tr th {\n",
       "        vertical-align: top;\n",
       "    }\n",
       "\n",
       "    .dataframe thead th {\n",
       "        text-align: right;\n",
       "    }\n",
       "</style>\n",
       "<table border=\"1\" class=\"dataframe\">\n",
       "  <thead>\n",
       "    <tr style=\"text-align: right;\">\n",
       "      <th></th>\n",
       "      <th>lake_name</th>\n",
       "      <th>id_#</th>\n",
       "      <th>date</th>\n",
       "      <th>time</th>\n",
       "      <th>total_depth_m</th>\n",
       "      <th>secchi_depth</th>\n",
       "      <th>depth_m</th>\n",
       "      <th>water_temp_cel_s</th>\n",
       "      <th>do_%_sat</th>\n",
       "      <th>do_mg_l</th>\n",
       "      <th>...</th>\n",
       "      <th>tkn</th>\n",
       "      <th>tn</th>\n",
       "      <th>cond</th>\n",
       "      <th>ss</th>\n",
       "      <th>f</th>\n",
       "      <th>quanta_#</th>\n",
       "      <th>weather_meter_#</th>\n",
       "      <th>fluorometer_#</th>\n",
       "      <th>aquafluor_#</th>\n",
       "      <th>van_dorn_#</th>\n",
       "    </tr>\n",
       "  </thead>\n",
       "  <tbody>\n",
       "    <tr>\n",
       "      <th>1</th>\n",
       "      <td>Beaver Dam</td>\n",
       "      <td>18190BEA2</td>\n",
       "      <td>7/9/2018</td>\n",
       "      <td>15:00</td>\n",
       "      <td>18.0</td>\n",
       "      <td>3.0</td>\n",
       "      <td>0.0</td>\n",
       "      <td>28.83</td>\n",
       "      <td>115.0</td>\n",
       "      <td>8.75</td>\n",
       "      <td>...</td>\n",
       "      <td>NaN</td>\n",
       "      <td>NaN</td>\n",
       "      <td>NaN</td>\n",
       "      <td>NaN</td>\n",
       "      <td>NaN</td>\n",
       "      <td>NaN</td>\n",
       "      <td>NaN</td>\n",
       "      <td>NaN</td>\n",
       "      <td>NaN</td>\n",
       "      <td>NaN</td>\n",
       "    </tr>\n",
       "    <tr>\n",
       "      <th>2</th>\n",
       "      <td>Beaver Dam</td>\n",
       "      <td>18204BEA2</td>\n",
       "      <td>7/23/2018</td>\n",
       "      <td>15:15</td>\n",
       "      <td>19.0</td>\n",
       "      <td>5.8</td>\n",
       "      <td>0.0</td>\n",
       "      <td>25.21</td>\n",
       "      <td>88.7</td>\n",
       "      <td>7.27</td>\n",
       "      <td>...</td>\n",
       "      <td>NaN</td>\n",
       "      <td>NaN</td>\n",
       "      <td>NaN</td>\n",
       "      <td>NaN</td>\n",
       "      <td>NaN</td>\n",
       "      <td>NaN</td>\n",
       "      <td>NaN</td>\n",
       "      <td>NaN</td>\n",
       "      <td>NaN</td>\n",
       "      <td>NaN</td>\n",
       "    </tr>\n",
       "    <tr>\n",
       "      <th>3</th>\n",
       "      <td>Beaver Dam</td>\n",
       "      <td>18211BEA2</td>\n",
       "      <td>7/31/2018</td>\n",
       "      <td>15:00</td>\n",
       "      <td>18.6</td>\n",
       "      <td>4.4</td>\n",
       "      <td>0.0</td>\n",
       "      <td>25.10</td>\n",
       "      <td>103.3</td>\n",
       "      <td>8.55</td>\n",
       "      <td>...</td>\n",
       "      <td>NaN</td>\n",
       "      <td>NaN</td>\n",
       "      <td>NaN</td>\n",
       "      <td>NaN</td>\n",
       "      <td>NaN</td>\n",
       "      <td>NaN</td>\n",
       "      <td>NaN</td>\n",
       "      <td>NaN</td>\n",
       "      <td>NaN</td>\n",
       "      <td>NaN</td>\n",
       "    </tr>\n",
       "    <tr>\n",
       "      <th>4</th>\n",
       "      <td>Beaver Dam</td>\n",
       "      <td>18218BEA2</td>\n",
       "      <td>8/6/2018</td>\n",
       "      <td>14:45</td>\n",
       "      <td>18.8</td>\n",
       "      <td>4.4</td>\n",
       "      <td>0.0</td>\n",
       "      <td>28.77</td>\n",
       "      <td>120.2</td>\n",
       "      <td>9.30</td>\n",
       "      <td>...</td>\n",
       "      <td>NaN</td>\n",
       "      <td>NaN</td>\n",
       "      <td>NaN</td>\n",
       "      <td>NaN</td>\n",
       "      <td>NaN</td>\n",
       "      <td>NaN</td>\n",
       "      <td>NaN</td>\n",
       "      <td>NaN</td>\n",
       "      <td>NaN</td>\n",
       "      <td>NaN</td>\n",
       "    </tr>\n",
       "    <tr>\n",
       "      <th>5</th>\n",
       "      <td>Beaver Dam</td>\n",
       "      <td>20153BEA2</td>\n",
       "      <td>6/1/2020</td>\n",
       "      <td>15:00</td>\n",
       "      <td>19.2</td>\n",
       "      <td>1.6</td>\n",
       "      <td>0.0</td>\n",
       "      <td>22.40</td>\n",
       "      <td>160.1</td>\n",
       "      <td>13.83</td>\n",
       "      <td>...</td>\n",
       "      <td>NaN</td>\n",
       "      <td>NaN</td>\n",
       "      <td>NaN</td>\n",
       "      <td>NaN</td>\n",
       "      <td>NaN</td>\n",
       "      <td>1</td>\n",
       "      <td>1</td>\n",
       "      <td>1</td>\n",
       "      <td>NaN</td>\n",
       "      <td>NaN</td>\n",
       "    </tr>\n",
       "  </tbody>\n",
       "</table>\n",
       "<p>5 rows × 43 columns</p>\n",
       "</div>"
      ],
      "text/plain": [
       "    lake_name       id_#       date   time  total_depth_m secchi_depth  \\\n",
       "1  Beaver Dam  18190BEA2   7/9/2018  15:00           18.0          3.0   \n",
       "2  Beaver Dam  18204BEA2  7/23/2018  15:15           19.0          5.8   \n",
       "3  Beaver Dam  18211BEA2  7/31/2018  15:00           18.6          4.4   \n",
       "4  Beaver Dam  18218BEA2   8/6/2018  14:45           18.8          4.4   \n",
       "5  Beaver Dam  20153BEA2   6/1/2020  15:00           19.2          1.6   \n",
       "\n",
       "   depth_m  water_temp_cel_s  do_%_sat  do_mg_l  ...  tkn  tn cond  ss   f  \\\n",
       "1      0.0             28.83     115.0     8.75  ...  NaN NaN  NaN NaN NaN   \n",
       "2      0.0             25.21      88.7     7.27  ...  NaN NaN  NaN NaN NaN   \n",
       "3      0.0             25.10     103.3     8.55  ...  NaN NaN  NaN NaN NaN   \n",
       "4      0.0             28.77     120.2     9.30  ...  NaN NaN  NaN NaN NaN   \n",
       "5      0.0             22.40     160.1    13.83  ...  NaN NaN  NaN NaN NaN   \n",
       "\n",
       "   quanta_#  weather_meter_#  fluorometer_# aquafluor_# van_dorn_#  \n",
       "1       NaN              NaN            NaN         NaN        NaN  \n",
       "2       NaN              NaN            NaN         NaN        NaN  \n",
       "3       NaN              NaN            NaN         NaN        NaN  \n",
       "4       NaN              NaN            NaN         NaN        NaN  \n",
       "5         1                1              1         NaN        NaN  \n",
       "\n",
       "[5 rows x 43 columns]"
      ]
     },
     "execution_count": 2,
     "metadata": {},
     "output_type": "execute_result"
    }
   ],
   "source": [
    "df = pd.read_csv(\"LakeData.csv\", low_memory = False)\n",
    "df = clean_columns(df)\n",
    "df = df.dropna(subset=['mc_ppb'])\n",
    "df = df.drop(['site_type', 'pw', 'w', 'epi_hypo','mc_id',\n",
    "              'ac_id', 'notes', 'unnamed_50', 'unnamed_51'], axis=1)\n",
    "df.head()"
   ]
  },
  {
   "cell_type": "code",
   "execution_count": 3,
   "id": "b81f6366-5e95-4949-9344-a6630382fcc0",
   "metadata": {},
   "outputs": [
    {
     "data": {
      "text/plain": [
       "'lake_name, id_#, date, time, total_depth_m, secchi_depth, depth_m, water_temp_cel_s, do_%_sat, do_mg_l, p_h, con_m_s_cm, nutrient_id, layer, at_c, bar_p_mbar, alt_m, max_ws_m_h, avg_ws_m_h, wind_direction, chloro_1_fluorosense, chloro_2_fluorosense, phyco_1_fluorosense, phyco_2_fluorosense, mc_ppb, nh_3, cl, so_4, no_2, no_3, si_o_2, srp, tp, tkn, tn, cond, ss, f, quanta_#, weather_meter_#, fluorometer_#, aquafluor_#, van_dorn_#'"
      ]
     },
     "execution_count": 3,
     "metadata": {},
     "output_type": "execute_result"
    }
   ],
   "source": [
    "', '.join(list(df.columns))"
   ]
  },
  {
   "cell_type": "code",
   "execution_count": 4,
   "id": "ef0fd717-71b2-4156-9b61-38d7a70ac30b",
   "metadata": {},
   "outputs": [
    {
     "data": {
      "image/png": "[encoded data removed]",
      "text/plain": [
       "<Figure size 432x288 with 1 Axes>"
      ]
     },
     "metadata": {
      "needs_background": "light"
     },
     "output_type": "display_data"
    }
   ],
   "source": [
    "plt.scatter(df.no_3, df.mc_ppb,  color='blue')\n",
    "plt.xlabel(\"NO3\")\n",
    "plt.ylabel(\"MC (ppb)\")\n",
    "plt.show()"
   ]
  },
  {
   "cell_type": "markdown",
   "id": "f0d4ec79-ae34-43dd-bd8d-7a57ee7fda0b",
   "metadata": {},
   "source": [
    "Note to self - in the cells below I dropped rows that are NA for N03 in order to create a model."
   ]
  },
  {
   "cell_type": "code",
   "execution_count": 9,
   "id": "61d7a3e1-54f6-4084-bceb-a674b32c5c92",
   "metadata": {},
   "outputs": [],
   "source": [
    "df = df.dropna(subset=['no_3'])\n",
    "msk = np.random.rand(len(df)) < 0.8\n",
    "train = df[msk]\n",
    "test = df[~msk]"
   ]
  },
  {
   "cell_type": "code",
   "execution_count": 10,
   "id": "2bdf98e4-2808-4ff4-908c-f413431ffaf3",
   "metadata": {},
   "outputs": [
    {
     "name": "stdout",
     "output_type": "stream",
     "text": [
      "Coefficients:  [[-0.20661596]]\n",
      "Intercept:  [0.53456029]\n"
     ]
    }
   ],
   "source": [
    "regr = linear_model.LinearRegression()\n",
    "train_x = np.asanyarray(train[['no_3']])\n",
    "train_y = np.asanyarray(train[['mc_ppb']])\n",
    "regr.fit(train_x, train_y)\n",
    "# The coefficients\n",
    "print ('Coefficients: ', regr.coef_)\n",
    "print ('Intercept: ',regr.intercept_)"
   ]
  },
  {
   "cell_type": "code",
   "execution_count": 12,
   "id": "97565293-e30a-47fb-8f81-ce95e1f183aa",
   "metadata": {},
   "outputs": [
    {
     "data": {
      "text/plain": [
       "Text(0, 0.5, 'MC (ppb)')"
      ]
     },
     "execution_count": 12,
     "metadata": {},
     "output_type": "execute_result"
    },
    {
     "data": {
      "image/png": "[encoded data removed]",
      "text/plain": [
       "<Figure size 432x288 with 1 Axes>"
      ]
     },
     "metadata": {
      "needs_background": "light"
     },
     "output_type": "display_data"
    }
   ],
   "source": [
    "plt.scatter(train.no_3, train.mc_ppb,  color='blue')\n",
    "plt.plot(train_x, regr.coef_[0][0]*train_x + regr.intercept_[0], '-r')\n",
    "plt.xlabel(\"NO3\")\n",
    "plt.ylabel(\"MC (ppb)\")"
   ]
  },
  {
   "cell_type": "code",
   "execution_count": null,
   "id": "5042c503-5d02-4159-874a-704a6d97f0e7",
   "metadata": {},
   "outputs": [],
   "source": []
  }
 ],
 "metadata": {
  "kernelspec": {
   "display_name": "Python 3 (ipykernel)",
   "language": "python",
   "name": "python3"
  },
  "language_info": {
   "codemirror_mode": {
    "name": "ipython",
    "version": 3
   },
   "file_extension": ".py",
   "mimetype": "text/x-python",
   "name": "python",
   "nbconvert_exporter": "python",
   "pygments_lexer": "ipython3",
   "version": "3.8.5"
  }
 },
 "nbformat": 4,
 "nbformat_minor": 5
}
